{
 "cells": [
  {
   "cell_type": "markdown",
   "metadata": {},
   "source": [
    "# Label Classification: DSO 560 Project"
   ]
  },
  {
   "cell_type": "markdown",
   "metadata": {},
   "source": [
    "In this problem statement, we are doing supervised machine learning classification using nlp techniques. We have broadly divided our deliverable into three main areas\n",
    "- Data Cleaning : In this step, we loaded the data with description of each item with the provided labels. Then we applied regex to clean the text, used spacy library to remove stop words. And finally did lemmatization.\n",
    "- Model Selection: In this step, we implemented various models like logistic regression and keras with different vectorization techniques ranging from count, tfidf vectorizer and word embedings. We then evaluated our model on a portion of labelled data. We then selected the top performing models for each label\n",
    "- Model Prediction: In this step, we take input from user and predict labels based on the best model selected in the previous step and return the predicted labels closest to the input."
   ]
  },
  {
   "cell_type": "markdown",
   "metadata": {},
   "source": [
    "## Data Cleaning"
   ]
  },
  {
   "cell_type": "code",
   "execution_count": 1,
   "metadata": {},
   "outputs": [
    {
     "name": "stderr",
     "output_type": "stream",
     "text": [
      "Using TensorFlow backend.\n"
     ]
    }
   ],
   "source": [
    "# Importing relevant libraries\n",
    "import pandas as pd\n",
    "import numpy as np\n",
    "import re\n",
    "from collections import Counter\n",
    "import nltk\n",
    "import spacy\n",
    "import functools\n",
    "from sklearn.feature_extraction.text import TfidfVectorizer\n",
    "from sklearn.ensemble import GradientBoostingClassifier\n",
    "from sklearn.feature_extraction.text import CountVectorizer\n",
    "from sklearn.linear_model import LogisticRegression\n",
    "from sklearn.model_selection import train_test_split\n",
    "from sklearn.metrics import confusion_matrix\n",
    "from sklearn.metrics import roc_auc_score\n",
    "from sklearn.ensemble import RandomForestClassifier\n",
    "from sklearn.preprocessing import StandardScaler\n",
    "from sklearn.preprocessing import LabelEncoder\n",
    "from sklearn.model_selection import train_test_split\n",
    "from gensim.models import Word2Vec\n",
    "from nltk import word_tokenize\n",
    "from keras.preprocessing.text import Tokenizer\n",
    "import tensorflow as tf\n",
    "from random import randint\n",
    "from numpy import array, argmax, asarray, zeros\n",
    "from keras.layers.recurrent import SimpleRNN, LSTM\n",
    "from keras.layers import Flatten, Masking\n",
    "from keras.models import Sequential\n",
    "from keras.layers import Dense\n",
    "from keras.layers import Embedding\n",
    "from keras.utils import to_categorical\n",
    "from keras.preprocessing.sequence import pad_sequences\n",
    "from gensim.test.utils import common_texts, get_tmpfile\n",
    "import warnings\n",
    "warnings.filterwarnings(\"ignore\")\n",
    "import spacy\n",
    "import string"
   ]
  },
  {
   "cell_type": "code",
   "execution_count": 2,
   "metadata": {},
   "outputs": [],
   "source": [
    "import en_core_web_md\n",
    "nlp = en_core_web_md.load()\n",
    "from tqdm import tqdm_notebook"
   ]
  },
  {
   "cell_type": "code",
   "execution_count": 3,
   "metadata": {},
   "outputs": [],
   "source": [
    "from typing import List"
   ]
  },
  {
   "cell_type": "code",
   "execution_count": 4,
   "metadata": {},
   "outputs": [],
   "source": [
    "pd.set_option('display.max_rows', None)\n",
    "pd.set_option('display.max_columns', None)"
   ]
  },
  {
   "cell_type": "markdown",
   "metadata": {},
   "source": [
    "## Loading the data"
   ]
  },
  {
   "cell_type": "markdown",
   "metadata": {},
   "source": [
    "In this step we combine the full data file with the files containing the values of tags"
   ]
  },
  {
   "cell_type": "code",
   "execution_count": 5,
   "metadata": {},
   "outputs": [],
   "source": [
    "# loading full data\n",
    "df_all = pd.read_csv(\"Full Data.csv\")"
   ]
  },
  {
   "cell_type": "code",
   "execution_count": 6,
   "metadata": {},
   "outputs": [
    {
     "data": {
      "text/html": [
       "<div>\n",
       "<style scoped>\n",
       "    .dataframe tbody tr th:only-of-type {\n",
       "        vertical-align: middle;\n",
       "    }\n",
       "\n",
       "    .dataframe tbody tr th {\n",
       "        vertical-align: top;\n",
       "    }\n",
       "\n",
       "    .dataframe thead th {\n",
       "        text-align: right;\n",
       "    }\n",
       "</style>\n",
       "<table border=\"1\" class=\"dataframe\">\n",
       "  <thead>\n",
       "    <tr style=\"text-align: right;\">\n",
       "      <th></th>\n",
       "      <th>product_id</th>\n",
       "      <th>brand</th>\n",
       "      <th>mpn</th>\n",
       "      <th>product_full_name</th>\n",
       "      <th>description</th>\n",
       "      <th>brand_category</th>\n",
       "      <th>created_at</th>\n",
       "      <th>updated_at</th>\n",
       "      <th>deleted_at</th>\n",
       "      <th>brand_canonical_url</th>\n",
       "      <th>details</th>\n",
       "      <th>labels</th>\n",
       "      <th>bc_product_id</th>\n",
       "    </tr>\n",
       "  </thead>\n",
       "  <tbody>\n",
       "    <tr>\n",
       "      <th>0</th>\n",
       "      <td>01DSE9TC2DQXDG6GWKW9NMJ416</td>\n",
       "      <td>Banana Republic</td>\n",
       "      <td>514683</td>\n",
       "      <td>Ankle-Strap Pump</td>\n",
       "      <td>A modern pump, in a rounded silhouette with an...</td>\n",
       "      <td>Unknown</td>\n",
       "      <td>2019-11-11 22:37:15.719107+00</td>\n",
       "      <td>2019-12-19 20:40:30.786144+00</td>\n",
       "      <td>NaN</td>\n",
       "      <td>https://bananarepublic.gap.com/browse/product....</td>\n",
       "      <td>A modern pump, in a rounded silhouette with an...</td>\n",
       "      <td>{\"Needs Review\"}</td>\n",
       "      <td>NaN</td>\n",
       "    </tr>\n",
       "    <tr>\n",
       "      <th>1</th>\n",
       "      <td>01DSE9SKM19XNA6SJP36JZC065</td>\n",
       "      <td>Banana Republic</td>\n",
       "      <td>526676</td>\n",
       "      <td>Petite Tie-Neck Top</td>\n",
       "      <td>Dress it down with jeans and sneakers or dress...</td>\n",
       "      <td>Unknown</td>\n",
       "      <td>2019-11-11 22:36:50.682513+00</td>\n",
       "      <td>2019-12-19 20:40:30.786144+00</td>\n",
       "      <td>NaN</td>\n",
       "      <td>https://bananarepublic.gap.com/browse/product....</td>\n",
       "      <td>Dress it down with jeans and sneakers or dress...</td>\n",
       "      <td>{\"Needs Review\"}</td>\n",
       "      <td>NaN</td>\n",
       "    </tr>\n",
       "    <tr>\n",
       "      <th>2</th>\n",
       "      <td>01DSJX8GD4DSAP76SPR85HRCMN</td>\n",
       "      <td>Loewe</td>\n",
       "      <td>4.001E+11</td>\n",
       "      <td>52MM Padded Leather Round Sunglasses</td>\n",
       "      <td>Padded leather covers classic round sunglasses.</td>\n",
       "      <td>JewelryAccessories/SunglassesReaders/RoundOval...</td>\n",
       "      <td>2019-11-13 17:33:59.581661+00</td>\n",
       "      <td>2019-12-19 20:40:30.786144+00</td>\n",
       "      <td>NaN</td>\n",
       "      <td>https://www.saksfifthavenue.com/loewe-52mm-pad...</td>\n",
       "      <td>100% UV protection\\nCase and cleaning cloth in...</td>\n",
       "      <td>{\"Needs Review\"}</td>\n",
       "      <td>NaN</td>\n",
       "    </tr>\n",
       "    <tr>\n",
       "      <th>3</th>\n",
       "      <td>01DSJVKJNS6F4KQ1QM6YYK9AW2</td>\n",
       "      <td>Converse</td>\n",
       "      <td>4.00012E+11</td>\n",
       "      <td>Baby's &amp; Little Kid's All-Star Two-Tone Mid-To...</td>\n",
       "      <td>The iconic mid-top design gets an added dose o...</td>\n",
       "      <td>JustKids/Shoes/Baby024Months/BabyGirl,JustKids...</td>\n",
       "      <td>2019-11-13 17:05:05.203733+00</td>\n",
       "      <td>2019-12-19 20:40:30.786144+00</td>\n",
       "      <td>NaN</td>\n",
       "      <td>https://www.saksfifthavenue.com/converse-babys...</td>\n",
       "      <td>Canvas upper\\nRound toe\\nLace-up vamp\\nSmartFO...</td>\n",
       "      <td>{\"Needs Review\"}</td>\n",
       "      <td>NaN</td>\n",
       "    </tr>\n",
       "    <tr>\n",
       "      <th>4</th>\n",
       "      <td>01DSK15ZD4D5A0QXA8NSD25YXE</td>\n",
       "      <td>Alexander McQueen</td>\n",
       "      <td>4.00011E+11</td>\n",
       "      <td>64MM Rimless Sunglasses</td>\n",
       "      <td>Hexagonal shades offer a rimless view with int...</td>\n",
       "      <td>JewelryAccessories/SunglassesReaders/RoundOval</td>\n",
       "      <td>2019-11-13 18:42:30.941321+00</td>\n",
       "      <td>2019-12-19 20:40:30.786144+00</td>\n",
       "      <td>NaN</td>\n",
       "      <td>https://www.saksfifthavenue.com/alexander-mcqu...</td>\n",
       "      <td>100% UV protection\\nGradient lenses\\nAdjustabl...</td>\n",
       "      <td>{\"Needs Review\"}</td>\n",
       "      <td>NaN</td>\n",
       "    </tr>\n",
       "  </tbody>\n",
       "</table>\n",
       "</div>"
      ],
      "text/plain": [
       "                   product_id              brand          mpn  \\\n",
       "0  01DSE9TC2DQXDG6GWKW9NMJ416    Banana Republic       514683   \n",
       "1  01DSE9SKM19XNA6SJP36JZC065    Banana Republic       526676   \n",
       "2  01DSJX8GD4DSAP76SPR85HRCMN              Loewe    4.001E+11   \n",
       "3  01DSJVKJNS6F4KQ1QM6YYK9AW2           Converse  4.00012E+11   \n",
       "4  01DSK15ZD4D5A0QXA8NSD25YXE  Alexander McQueen  4.00011E+11   \n",
       "\n",
       "                                   product_full_name  \\\n",
       "0                                   Ankle-Strap Pump   \n",
       "1                                Petite Tie-Neck Top   \n",
       "2               52MM Padded Leather Round Sunglasses   \n",
       "3  Baby's & Little Kid's All-Star Two-Tone Mid-To...   \n",
       "4                            64MM Rimless Sunglasses   \n",
       "\n",
       "                                         description  \\\n",
       "0  A modern pump, in a rounded silhouette with an...   \n",
       "1  Dress it down with jeans and sneakers or dress...   \n",
       "2    Padded leather covers classic round sunglasses.   \n",
       "3  The iconic mid-top design gets an added dose o...   \n",
       "4  Hexagonal shades offer a rimless view with int...   \n",
       "\n",
       "                                      brand_category  \\\n",
       "0                                            Unknown   \n",
       "1                                            Unknown   \n",
       "2  JewelryAccessories/SunglassesReaders/RoundOval...   \n",
       "3  JustKids/Shoes/Baby024Months/BabyGirl,JustKids...   \n",
       "4     JewelryAccessories/SunglassesReaders/RoundOval   \n",
       "\n",
       "                      created_at                     updated_at deleted_at  \\\n",
       "0  2019-11-11 22:37:15.719107+00  2019-12-19 20:40:30.786144+00        NaN   \n",
       "1  2019-11-11 22:36:50.682513+00  2019-12-19 20:40:30.786144+00        NaN   \n",
       "2  2019-11-13 17:33:59.581661+00  2019-12-19 20:40:30.786144+00        NaN   \n",
       "3  2019-11-13 17:05:05.203733+00  2019-12-19 20:40:30.786144+00        NaN   \n",
       "4  2019-11-13 18:42:30.941321+00  2019-12-19 20:40:30.786144+00        NaN   \n",
       "\n",
       "                                 brand_canonical_url  \\\n",
       "0  https://bananarepublic.gap.com/browse/product....   \n",
       "1  https://bananarepublic.gap.com/browse/product....   \n",
       "2  https://www.saksfifthavenue.com/loewe-52mm-pad...   \n",
       "3  https://www.saksfifthavenue.com/converse-babys...   \n",
       "4  https://www.saksfifthavenue.com/alexander-mcqu...   \n",
       "\n",
       "                                             details            labels  \\\n",
       "0  A modern pump, in a rounded silhouette with an...  {\"Needs Review\"}   \n",
       "1  Dress it down with jeans and sneakers or dress...  {\"Needs Review\"}   \n",
       "2  100% UV protection\\nCase and cleaning cloth in...  {\"Needs Review\"}   \n",
       "3  Canvas upper\\nRound toe\\nLace-up vamp\\nSmartFO...  {\"Needs Review\"}   \n",
       "4  100% UV protection\\nGradient lenses\\nAdjustabl...  {\"Needs Review\"}   \n",
       "\n",
       "   bc_product_id  \n",
       "0            NaN  \n",
       "1            NaN  \n",
       "2            NaN  \n",
       "3            NaN  \n",
       "4            NaN  "
      ]
     },
     "execution_count": 6,
     "metadata": {},
     "output_type": "execute_result"
    }
   ],
   "source": [
    "df_all.head(5)"
   ]
  },
  {
   "cell_type": "code",
   "execution_count": 7,
   "metadata": {},
   "outputs": [],
   "source": [
    "# keeping the columns relevant to the analyses\n",
    "df_all = df_all[['product_id', 'brand', 'product_full_name', 'description', 'brand_category', 'details', 'labels']]"
   ]
  },
  {
   "cell_type": "code",
   "execution_count": 8,
   "metadata": {},
   "outputs": [
    {
     "data": {
      "text/plain": [
       "(48979, 7)"
      ]
     },
     "execution_count": 8,
     "metadata": {},
     "output_type": "execute_result"
    }
   ],
   "source": [
    "df_all.shape"
   ]
  },
  {
   "cell_type": "code",
   "execution_count": 9,
   "metadata": {},
   "outputs": [
    {
     "data": {
      "text/plain": [
       "product_id              0\n",
       "brand                   0\n",
       "product_full_name       0\n",
       "description          7974\n",
       "brand_category        238\n",
       "details              9866\n",
       "labels                  0\n",
       "dtype: int64"
      ]
     },
     "execution_count": 9,
     "metadata": {},
     "output_type": "execute_result"
    }
   ],
   "source": [
    "# Checking NA values\n",
    "df_all.isnull().sum()"
   ]
  },
  {
   "cell_type": "code",
   "execution_count": 10,
   "metadata": {},
   "outputs": [],
   "source": [
    "# there are some rows which do not contain any description or details\n",
    "# replace the null values with\n",
    "df_all=df_all.fillna(\"Unknown\")"
   ]
  },
  {
   "cell_type": "code",
   "execution_count": 11,
   "metadata": {},
   "outputs": [
    {
     "data": {
      "text/plain": [
       "(48979, 7)"
      ]
     },
     "execution_count": 11,
     "metadata": {},
     "output_type": "execute_result"
    }
   ],
   "source": [
    "df_all.shape"
   ]
  },
  {
   "cell_type": "code",
   "execution_count": 12,
   "metadata": {},
   "outputs": [
    {
     "data": {
      "text/html": [
       "<div>\n",
       "<style scoped>\n",
       "    .dataframe tbody tr th:only-of-type {\n",
       "        vertical-align: middle;\n",
       "    }\n",
       "\n",
       "    .dataframe tbody tr th {\n",
       "        vertical-align: top;\n",
       "    }\n",
       "\n",
       "    .dataframe thead th {\n",
       "        text-align: right;\n",
       "    }\n",
       "</style>\n",
       "<table border=\"1\" class=\"dataframe\">\n",
       "  <thead>\n",
       "    <tr style=\"text-align: right;\">\n",
       "      <th></th>\n",
       "      <th>product_id</th>\n",
       "      <th>count</th>\n",
       "    </tr>\n",
       "  </thead>\n",
       "  <tbody>\n",
       "    <tr>\n",
       "      <th>0</th>\n",
       "      <td>01DMBRYVA2P5H24WK0HTK4R0A1</td>\n",
       "      <td>2</td>\n",
       "    </tr>\n",
       "    <tr>\n",
       "      <th>41932</th>\n",
       "      <td>01DT51234VHAHGPTR89SZJ50V0</td>\n",
       "      <td>2</td>\n",
       "    </tr>\n",
       "    <tr>\n",
       "      <th>6064</th>\n",
       "      <td>01DPGTXH6QTM161M660N9W7C3S</td>\n",
       "      <td>2</td>\n",
       "    </tr>\n",
       "    <tr>\n",
       "      <th>6063</th>\n",
       "      <td>01DPGTXD3HEJ83GAWGBNB0PV92</td>\n",
       "      <td>2</td>\n",
       "    </tr>\n",
       "    <tr>\n",
       "      <th>42074</th>\n",
       "      <td>01DTJCE596G5WGANPMXNENAXFJ</td>\n",
       "      <td>2</td>\n",
       "    </tr>\n",
       "    <tr>\n",
       "      <th>42075</th>\n",
       "      <td>01DTJCE9ZMH29TWHQC1CC8AWG5</td>\n",
       "      <td>2</td>\n",
       "    </tr>\n",
       "    <tr>\n",
       "      <th>42076</th>\n",
       "      <td>01DTJCEEPSEHH29G98KNDG4TFK</td>\n",
       "      <td>2</td>\n",
       "    </tr>\n",
       "    <tr>\n",
       "      <th>42077</th>\n",
       "      <td>01DTJCEKTMNHVSB3WHG9M5V1P7</td>\n",
       "      <td>2</td>\n",
       "    </tr>\n",
       "    <tr>\n",
       "      <th>42078</th>\n",
       "      <td>01DTJCERF6F4NRZ2WSJFFA1EYS</td>\n",
       "      <td>2</td>\n",
       "    </tr>\n",
       "    <tr>\n",
       "      <th>42079</th>\n",
       "      <td>01DTJCEX7H9S5ZQ2MXD019M39N</td>\n",
       "      <td>2</td>\n",
       "    </tr>\n",
       "    <tr>\n",
       "      <th>42080</th>\n",
       "      <td>01DTMYKAG6NM4BEJE4FBYE54YK</td>\n",
       "      <td>2</td>\n",
       "    </tr>\n",
       "    <tr>\n",
       "      <th>42081</th>\n",
       "      <td>01DTMYKXRM898RSTAYY28JJSSS</td>\n",
       "      <td>2</td>\n",
       "    </tr>\n",
       "    <tr>\n",
       "      <th>42082</th>\n",
       "      <td>01DTMYX49S7AAXVRBQ95K0E87T</td>\n",
       "      <td>2</td>\n",
       "    </tr>\n",
       "    <tr>\n",
       "      <th>42083</th>\n",
       "      <td>01DTMYX91RFDD33T9T3Q8PE9JB</td>\n",
       "      <td>2</td>\n",
       "    </tr>\n",
       "    <tr>\n",
       "      <th>42084</th>\n",
       "      <td>01DTMYXDR0DCA4GFAP4SS3WQDE</td>\n",
       "      <td>2</td>\n",
       "    </tr>\n",
       "    <tr>\n",
       "      <th>42085</th>\n",
       "      <td>01DTN28TVMA1EKYZS2DS4QA58S</td>\n",
       "      <td>2</td>\n",
       "    </tr>\n",
       "    <tr>\n",
       "      <th>42086</th>\n",
       "      <td>01DV4G5FF75M2R6EHJAB8EW6Z9</td>\n",
       "      <td>2</td>\n",
       "    </tr>\n",
       "    <tr>\n",
       "      <th>42087</th>\n",
       "      <td>01DV4GR7FNY3GTQCYE5Y4RC8NS</td>\n",
       "      <td>2</td>\n",
       "    </tr>\n",
       "    <tr>\n",
       "      <th>42089</th>\n",
       "      <td>01DV4HSATZ3X8G7M9CWKFM1F9H</td>\n",
       "      <td>2</td>\n",
       "    </tr>\n",
       "    <tr>\n",
       "      <th>42090</th>\n",
       "      <td>01DV6HA09G19TFQ7SSM7BXF5BX</td>\n",
       "      <td>2</td>\n",
       "    </tr>\n",
       "  </tbody>\n",
       "</table>\n",
       "</div>"
      ],
      "text/plain": [
       "                       product_id  count\n",
       "0      01DMBRYVA2P5H24WK0HTK4R0A1      2\n",
       "41932  01DT51234VHAHGPTR89SZJ50V0      2\n",
       "6064   01DPGTXH6QTM161M660N9W7C3S      2\n",
       "6063   01DPGTXD3HEJ83GAWGBNB0PV92      2\n",
       "42074  01DTJCE596G5WGANPMXNENAXFJ      2\n",
       "42075  01DTJCE9ZMH29TWHQC1CC8AWG5      2\n",
       "42076  01DTJCEEPSEHH29G98KNDG4TFK      2\n",
       "42077  01DTJCEKTMNHVSB3WHG9M5V1P7      2\n",
       "42078  01DTJCERF6F4NRZ2WSJFFA1EYS      2\n",
       "42079  01DTJCEX7H9S5ZQ2MXD019M39N      2\n",
       "42080  01DTMYKAG6NM4BEJE4FBYE54YK      2\n",
       "42081  01DTMYKXRM898RSTAYY28JJSSS      2\n",
       "42082  01DTMYX49S7AAXVRBQ95K0E87T      2\n",
       "42083  01DTMYX91RFDD33T9T3Q8PE9JB      2\n",
       "42084  01DTMYXDR0DCA4GFAP4SS3WQDE      2\n",
       "42085  01DTN28TVMA1EKYZS2DS4QA58S      2\n",
       "42086  01DV4G5FF75M2R6EHJAB8EW6Z9      2\n",
       "42087  01DV4GR7FNY3GTQCYE5Y4RC8NS      2\n",
       "42089  01DV4HSATZ3X8G7M9CWKFM1F9H      2\n",
       "42090  01DV6HA09G19TFQ7SSM7BXF5BX      2"
      ]
     },
     "execution_count": 12,
     "metadata": {},
     "output_type": "execute_result"
    }
   ],
   "source": [
    "# checking for duplicate product id entries\n",
    "df_check = df_all.groupby(\"product_id\").size().reset_index(name = 'count').sort_values('count', ascending = False)\n",
    "#len(df_check[df_check['count']>1])\n",
    "df_check.head(5)"
   ]
  },
  {
   "cell_type": "code",
   "execution_count": 13,
   "metadata": {},
   "outputs": [],
   "source": [
    "# Dropping duplicate product ids\n",
    "df_all = df_all.drop_duplicates(subset=\"product_id\")"
   ]
  },
  {
   "cell_type": "code",
   "execution_count": 14,
   "metadata": {},
   "outputs": [
    {
     "data": {
      "text/plain": [
       "(48072, 7)"
      ]
     },
     "execution_count": 14,
     "metadata": {},
     "output_type": "execute_result"
    }
   ],
   "source": [
    "df_all.shape"
   ]
  },
  {
   "cell_type": "code",
   "execution_count": 15,
   "metadata": {},
   "outputs": [],
   "source": [
    "# loading first file with tags\n",
    "df_tagged = pd.read_excel(\"USC+Product+Attribute+Data+03302020.xlsx\")"
   ]
  },
  {
   "cell_type": "code",
   "execution_count": 16,
   "metadata": {},
   "outputs": [
    {
     "data": {
      "text/html": [
       "<div>\n",
       "<style scoped>\n",
       "    .dataframe tbody tr th:only-of-type {\n",
       "        vertical-align: middle;\n",
       "    }\n",
       "\n",
       "    .dataframe tbody tr th {\n",
       "        vertical-align: top;\n",
       "    }\n",
       "\n",
       "    .dataframe thead th {\n",
       "        text-align: right;\n",
       "    }\n",
       "</style>\n",
       "<table border=\"1\" class=\"dataframe\">\n",
       "  <thead>\n",
       "    <tr style=\"text-align: right;\">\n",
       "      <th></th>\n",
       "      <th>product_id</th>\n",
       "      <th>product_color_id</th>\n",
       "      <th>attribute_name</th>\n",
       "      <th>attribute_value</th>\n",
       "    </tr>\n",
       "  </thead>\n",
       "  <tbody>\n",
       "    <tr>\n",
       "      <th>0</th>\n",
       "      <td>01DVBTBPHR8WJTCVEN5AJRHF47</td>\n",
       "      <td>01DVBTBPJ41VVT00JJCG8TTZ2W</td>\n",
       "      <td>gender</td>\n",
       "      <td>Women</td>\n",
       "    </tr>\n",
       "    <tr>\n",
       "      <th>1</th>\n",
       "      <td>01DVA7QRXM928ZM0WWR7HFNTC1</td>\n",
       "      <td>01DVA7QRXXR9F0TWVE1HMC5ZQ3</td>\n",
       "      <td>Primary Color</td>\n",
       "      <td>Blacks</td>\n",
       "    </tr>\n",
       "    <tr>\n",
       "      <th>2</th>\n",
       "      <td>01DPGV4YRP3Z8J85DASGZ1Y99W</td>\n",
       "      <td>01DPGVGBK6YGNYGNF2S6FSH02T</td>\n",
       "      <td>style</td>\n",
       "      <td>Casual</td>\n",
       "    </tr>\n",
       "    <tr>\n",
       "      <th>3</th>\n",
       "      <td>01E1JM43NQ3H17PB22EV3074NX</td>\n",
       "      <td>01E1JM5WFWWCCCH3JTTTCYQCEQ</td>\n",
       "      <td>style</td>\n",
       "      <td>Modern</td>\n",
       "    </tr>\n",
       "    <tr>\n",
       "      <th>4</th>\n",
       "      <td>01DSE8Z2ZDAZKZ2SKCS1E3B3HK</td>\n",
       "      <td>01DSE8ZG8Y3FR8KWE2TY1QDWBF</td>\n",
       "      <td>shoe_width</td>\n",
       "      <td>Medium</td>\n",
       "    </tr>\n",
       "  </tbody>\n",
       "</table>\n",
       "</div>"
      ],
      "text/plain": [
       "                   product_id            product_color_id attribute_name  \\\n",
       "0  01DVBTBPHR8WJTCVEN5AJRHF47  01DVBTBPJ41VVT00JJCG8TTZ2W         gender   \n",
       "1  01DVA7QRXM928ZM0WWR7HFNTC1  01DVA7QRXXR9F0TWVE1HMC5ZQ3  Primary Color   \n",
       "2  01DPGV4YRP3Z8J85DASGZ1Y99W  01DPGVGBK6YGNYGNF2S6FSH02T          style   \n",
       "3  01E1JM43NQ3H17PB22EV3074NX  01E1JM5WFWWCCCH3JTTTCYQCEQ          style   \n",
       "4  01DSE8Z2ZDAZKZ2SKCS1E3B3HK  01DSE8ZG8Y3FR8KWE2TY1QDWBF     shoe_width   \n",
       "\n",
       "  attribute_value  \n",
       "0           Women  \n",
       "1          Blacks  \n",
       "2          Casual  \n",
       "3          Modern  \n",
       "4          Medium  "
      ]
     },
     "execution_count": 16,
     "metadata": {},
     "output_type": "execute_result"
    }
   ],
   "source": [
    "df_tagged.head(5)"
   ]
  },
  {
   "cell_type": "code",
   "execution_count": 17,
   "metadata": {},
   "outputs": [
    {
     "data": {
      "text/plain": [
       "(21925, 4)"
      ]
     },
     "execution_count": 17,
     "metadata": {},
     "output_type": "execute_result"
    }
   ],
   "source": [
    "df_tagged.shape"
   ]
  },
  {
   "cell_type": "code",
   "execution_count": 18,
   "metadata": {},
   "outputs": [
    {
     "data": {
      "text/html": [
       "<div>\n",
       "<style scoped>\n",
       "    .dataframe tbody tr th:only-of-type {\n",
       "        vertical-align: middle;\n",
       "    }\n",
       "\n",
       "    .dataframe tbody tr th {\n",
       "        vertical-align: top;\n",
       "    }\n",
       "\n",
       "    .dataframe thead th {\n",
       "        text-align: right;\n",
       "    }\n",
       "</style>\n",
       "<table border=\"1\" class=\"dataframe\">\n",
       "  <thead>\n",
       "    <tr style=\"text-align: right;\">\n",
       "      <th></th>\n",
       "      <th>product_id</th>\n",
       "      <th>product_color_id</th>\n",
       "      <th>attribute_name</th>\n",
       "      <th>attribute_value</th>\n",
       "    </tr>\n",
       "  </thead>\n",
       "  <tbody>\n",
       "    <tr>\n",
       "      <th>0</th>\n",
       "      <td>01E5ZXP5H0BTEZT9QD2HRZJ47A</td>\n",
       "      <td>01E5ZXP5JCREDC7WJVMWHK5Q40</td>\n",
       "      <td>materialclothing</td>\n",
       "      <td>linenblend</td>\n",
       "    </tr>\n",
       "    <tr>\n",
       "      <th>1</th>\n",
       "      <td>01E5ZXP5H0BTEZT9QD2HRZJ47A</td>\n",
       "      <td>01E5ZXP5JCREDC7WJVMWHK5Q40</td>\n",
       "      <td>materialclothing</td>\n",
       "      <td>cottonblend</td>\n",
       "    </tr>\n",
       "    <tr>\n",
       "      <th>2</th>\n",
       "      <td>01E5ZXP5H0BTEZT9QD2HRZJ47A</td>\n",
       "      <td>01E5ZXP5JCREDC7WJVMWHK5Q40</td>\n",
       "      <td>style</td>\n",
       "      <td>modern</td>\n",
       "    </tr>\n",
       "    <tr>\n",
       "      <th>3</th>\n",
       "      <td>01E5ZXP5H0BTEZT9QD2HRZJ47A</td>\n",
       "      <td>01E5ZXP5JCREDC7WJVMWHK5Q40</td>\n",
       "      <td>style</td>\n",
       "      <td>businesscasual</td>\n",
       "    </tr>\n",
       "    <tr>\n",
       "      <th>4</th>\n",
       "      <td>01E5ZXP5H0BTEZT9QD2HRZJ47A</td>\n",
       "      <td>01E5ZXP5JCREDC7WJVMWHK5Q40</td>\n",
       "      <td>style</td>\n",
       "      <td>classic</td>\n",
       "    </tr>\n",
       "  </tbody>\n",
       "</table>\n",
       "</div>"
      ],
      "text/plain": [
       "                   product_id            product_color_id    attribute_name  \\\n",
       "0  01E5ZXP5H0BTEZT9QD2HRZJ47A  01E5ZXP5JCREDC7WJVMWHK5Q40  materialclothing   \n",
       "1  01E5ZXP5H0BTEZT9QD2HRZJ47A  01E5ZXP5JCREDC7WJVMWHK5Q40  materialclothing   \n",
       "2  01E5ZXP5H0BTEZT9QD2HRZJ47A  01E5ZXP5JCREDC7WJVMWHK5Q40             style   \n",
       "3  01E5ZXP5H0BTEZT9QD2HRZJ47A  01E5ZXP5JCREDC7WJVMWHK5Q40             style   \n",
       "4  01E5ZXP5H0BTEZT9QD2HRZJ47A  01E5ZXP5JCREDC7WJVMWHK5Q40             style   \n",
       "\n",
       "  attribute_value  \n",
       "0      linenblend  \n",
       "1     cottonblend  \n",
       "2          modern  \n",
       "3  businesscasual  \n",
       "4         classic  "
      ]
     },
     "execution_count": 18,
     "metadata": {},
     "output_type": "execute_result"
    }
   ],
   "source": [
    "# loading second file with tags\n",
    "df_tagged2 = pd.read_csv('usc_additional_tags.csv')\n",
    "df_tagged2.head(5)"
   ]
  },
  {
   "cell_type": "code",
   "execution_count": 19,
   "metadata": {},
   "outputs": [
    {
     "data": {
      "text/plain": [
       "(97420, 4)"
      ]
     },
     "execution_count": 19,
     "metadata": {},
     "output_type": "execute_result"
    }
   ],
   "source": [
    "df_tagged2.shape"
   ]
  },
  {
   "cell_type": "code",
   "execution_count": 20,
   "metadata": {},
   "outputs": [],
   "source": [
    "# combining both tag files in one dataframe\n",
    "df_tag = pd.concat([df_tagged, df_tagged2])"
   ]
  },
  {
   "cell_type": "code",
   "execution_count": 21,
   "metadata": {},
   "outputs": [
    {
     "data": {
      "text/plain": [
       "(119345, 4)"
      ]
     },
     "execution_count": 21,
     "metadata": {},
     "output_type": "execute_result"
    }
   ],
   "source": [
    "df_tag.shape"
   ]
  },
  {
   "cell_type": "code",
   "execution_count": 22,
   "metadata": {},
   "outputs": [],
   "source": [
    "# creating a new column which will concat values of all columns\n",
    "# we will remove values which repeat in the error column to ensure there are no duplicates\n",
    "df_tag['error'] = df_tag['product_id'] + df_tag['product_color_id'] + df_tag['attribute_name'] + df_tag['attribute_value']"
   ]
  },
  {
   "cell_type": "code",
   "execution_count": 23,
   "metadata": {},
   "outputs": [
    {
     "data": {
      "text/plain": [
       "(119345, 5)"
      ]
     },
     "execution_count": 23,
     "metadata": {},
     "output_type": "execute_result"
    }
   ],
   "source": [
    "# dropping any duplicates\n",
    "df_tag.drop_duplicates(subset=[\"error\"],keep='first')\n",
    "# there are no duplicate values\n",
    "df_tag.shape"
   ]
  },
  {
   "cell_type": "code",
   "execution_count": 24,
   "metadata": {},
   "outputs": [],
   "source": [
    "# dropping the error column\n",
    "df_tag = df_tag.drop(columns = ['error'])"
   ]
  },
  {
   "cell_type": "code",
   "execution_count": 25,
   "metadata": {},
   "outputs": [
    {
     "data": {
      "text/plain": [
       "(119345, 4)"
      ]
     },
     "execution_count": 25,
     "metadata": {},
     "output_type": "execute_result"
    }
   ],
   "source": [
    "df_tag.shape"
   ]
  },
  {
   "cell_type": "code",
   "execution_count": 26,
   "metadata": {},
   "outputs": [
    {
     "data": {
      "text/html": [
       "<div>\n",
       "<style scoped>\n",
       "    .dataframe tbody tr th:only-of-type {\n",
       "        vertical-align: middle;\n",
       "    }\n",
       "\n",
       "    .dataframe tbody tr th {\n",
       "        vertical-align: top;\n",
       "    }\n",
       "\n",
       "    .dataframe thead th {\n",
       "        text-align: right;\n",
       "    }\n",
       "</style>\n",
       "<table border=\"1\" class=\"dataframe\">\n",
       "  <thead>\n",
       "    <tr style=\"text-align: right;\">\n",
       "      <th></th>\n",
       "      <th>product_id</th>\n",
       "      <th>count</th>\n",
       "    </tr>\n",
       "  </thead>\n",
       "  <tbody>\n",
       "    <tr>\n",
       "      <th>61</th>\n",
       "      <td>01DPGSTG4M1RXB26QMMN0MPPB8</td>\n",
       "      <td>572</td>\n",
       "    </tr>\n",
       "    <tr>\n",
       "      <th>167</th>\n",
       "      <td>01DPH1GQ33PHX8WG6C0RGSZDQQ</td>\n",
       "      <td>486</td>\n",
       "    </tr>\n",
       "    <tr>\n",
       "      <th>71</th>\n",
       "      <td>01DPGV4YRP3Z8J85DASGZ1Y99W</td>\n",
       "      <td>343</td>\n",
       "    </tr>\n",
       "    <tr>\n",
       "      <th>421</th>\n",
       "      <td>01DT0DKMM6G7HDJS12QCWK5X4H</td>\n",
       "      <td>330</td>\n",
       "    </tr>\n",
       "    <tr>\n",
       "      <th>910</th>\n",
       "      <td>01E1JKV4WQYPMJYVXYNN4NVYK8</td>\n",
       "      <td>327</td>\n",
       "    </tr>\n",
       "    <tr>\n",
       "      <th>13</th>\n",
       "      <td>01DPCHNEW5F2RHJQ3NJMVPK6SE</td>\n",
       "      <td>288</td>\n",
       "    </tr>\n",
       "    <tr>\n",
       "      <th>431</th>\n",
       "      <td>01DT0DM6NX4ZFPGP2ZCADMKVQW</td>\n",
       "      <td>252</td>\n",
       "    </tr>\n",
       "    <tr>\n",
       "      <th>927</th>\n",
       "      <td>01E1JM0023VJ552BMC0266SWNC</td>\n",
       "      <td>210</td>\n",
       "    </tr>\n",
       "    <tr>\n",
       "      <th>154</th>\n",
       "      <td>01DPH134V7QPAP0YX0DNH7HCVR</td>\n",
       "      <td>200</td>\n",
       "    </tr>\n",
       "    <tr>\n",
       "      <th>2267</th>\n",
       "      <td>01E2M4BTQCZMT0WRCAMT9CX3PY</td>\n",
       "      <td>198</td>\n",
       "    </tr>\n",
       "  </tbody>\n",
       "</table>\n",
       "</div>"
      ],
      "text/plain": [
       "                      product_id  count\n",
       "61    01DPGSTG4M1RXB26QMMN0MPPB8    572\n",
       "167   01DPH1GQ33PHX8WG6C0RGSZDQQ    486\n",
       "71    01DPGV4YRP3Z8J85DASGZ1Y99W    343\n",
       "421   01DT0DKMM6G7HDJS12QCWK5X4H    330\n",
       "910   01E1JKV4WQYPMJYVXYNN4NVYK8    327\n",
       "13    01DPCHNEW5F2RHJQ3NJMVPK6SE    288\n",
       "431   01DT0DM6NX4ZFPGP2ZCADMKVQW    252\n",
       "927   01E1JM0023VJ552BMC0266SWNC    210\n",
       "154   01DPH134V7QPAP0YX0DNH7HCVR    200\n",
       "2267  01E2M4BTQCZMT0WRCAMT9CX3PY    198"
      ]
     },
     "execution_count": 26,
     "metadata": {},
     "output_type": "execute_result"
    }
   ],
   "source": [
    "# checking for duplicate product id entries\n",
    "df_tag.groupby(\"product_id\").size().reset_index(name = 'count').sort_values('count', ascending = False).head(10)"
   ]
  },
  {
   "cell_type": "markdown",
   "metadata": {},
   "source": [
    "We can observe above there are multiple product ids owing to multiple labels. Our current problem is a supervised machine learning problem and it is necessary to have labels of the product ids for training the models. However, if we combine at this stage we would be processing same rows of data again. Hence, we recommend pre-processing the text data before adding in labels to the dataframe. "
   ]
  },
  {
   "cell_type": "markdown",
   "metadata": {},
   "source": [
    "## Pre-Processing the Data"
   ]
  },
  {
   "cell_type": "markdown",
   "metadata": {},
   "source": [
    "Text inherently contains a lot of noise, it is imperative that necessary steps are taken to remove the noise which would help im optimizing the results from the model."
   ]
  },
  {
   "cell_type": "code",
   "execution_count": 27,
   "metadata": {},
   "outputs": [
    {
     "data": {
      "text/html": [
       "<div>\n",
       "<style scoped>\n",
       "    .dataframe tbody tr th:only-of-type {\n",
       "        vertical-align: middle;\n",
       "    }\n",
       "\n",
       "    .dataframe tbody tr th {\n",
       "        vertical-align: top;\n",
       "    }\n",
       "\n",
       "    .dataframe thead th {\n",
       "        text-align: right;\n",
       "    }\n",
       "</style>\n",
       "<table border=\"1\" class=\"dataframe\">\n",
       "  <thead>\n",
       "    <tr style=\"text-align: right;\">\n",
       "      <th></th>\n",
       "      <th>product_id</th>\n",
       "      <th>brand</th>\n",
       "      <th>product_full_name</th>\n",
       "      <th>description</th>\n",
       "      <th>brand_category</th>\n",
       "      <th>details</th>\n",
       "      <th>labels</th>\n",
       "    </tr>\n",
       "  </thead>\n",
       "  <tbody>\n",
       "    <tr>\n",
       "      <th>0</th>\n",
       "      <td>01DSE9TC2DQXDG6GWKW9NMJ416</td>\n",
       "      <td>Banana Republic</td>\n",
       "      <td>Ankle-Strap Pump</td>\n",
       "      <td>A modern pump, in a rounded silhouette with an...</td>\n",
       "      <td>Unknown</td>\n",
       "      <td>A modern pump, in a rounded silhouette with an...</td>\n",
       "      <td>{\"Needs Review\"}</td>\n",
       "    </tr>\n",
       "    <tr>\n",
       "      <th>1</th>\n",
       "      <td>01DSE9SKM19XNA6SJP36JZC065</td>\n",
       "      <td>Banana Republic</td>\n",
       "      <td>Petite Tie-Neck Top</td>\n",
       "      <td>Dress it down with jeans and sneakers or dress...</td>\n",
       "      <td>Unknown</td>\n",
       "      <td>Dress it down with jeans and sneakers or dress...</td>\n",
       "      <td>{\"Needs Review\"}</td>\n",
       "    </tr>\n",
       "    <tr>\n",
       "      <th>2</th>\n",
       "      <td>01DSJX8GD4DSAP76SPR85HRCMN</td>\n",
       "      <td>Loewe</td>\n",
       "      <td>52MM Padded Leather Round Sunglasses</td>\n",
       "      <td>Padded leather covers classic round sunglasses.</td>\n",
       "      <td>JewelryAccessories/SunglassesReaders/RoundOval...</td>\n",
       "      <td>100% UV protection\\nCase and cleaning cloth in...</td>\n",
       "      <td>{\"Needs Review\"}</td>\n",
       "    </tr>\n",
       "    <tr>\n",
       "      <th>3</th>\n",
       "      <td>01DSJVKJNS6F4KQ1QM6YYK9AW2</td>\n",
       "      <td>Converse</td>\n",
       "      <td>Baby's &amp; Little Kid's All-Star Two-Tone Mid-To...</td>\n",
       "      <td>The iconic mid-top design gets an added dose o...</td>\n",
       "      <td>JustKids/Shoes/Baby024Months/BabyGirl,JustKids...</td>\n",
       "      <td>Canvas upper\\nRound toe\\nLace-up vamp\\nSmartFO...</td>\n",
       "      <td>{\"Needs Review\"}</td>\n",
       "    </tr>\n",
       "    <tr>\n",
       "      <th>4</th>\n",
       "      <td>01DSK15ZD4D5A0QXA8NSD25YXE</td>\n",
       "      <td>Alexander McQueen</td>\n",
       "      <td>64MM Rimless Sunglasses</td>\n",
       "      <td>Hexagonal shades offer a rimless view with int...</td>\n",
       "      <td>JewelryAccessories/SunglassesReaders/RoundOval</td>\n",
       "      <td>100% UV protection\\nGradient lenses\\nAdjustabl...</td>\n",
       "      <td>{\"Needs Review\"}</td>\n",
       "    </tr>\n",
       "    <tr>\n",
       "      <th>5</th>\n",
       "      <td>01DSRCS6FWFEXE6T3QYZ7QHN7V</td>\n",
       "      <td>Kissy Kissy</td>\n",
       "      <td>Baby Girl's Long-Sleeve Cotton Footie</td>\n",
       "      <td>Comfortable cotton footie with scalloped trim</td>\n",
       "      <td>JustKids/Baby024months/InfantGirls/FootiesRompers</td>\n",
       "      <td>Crewneck\\nLong sleeves\\nFront snap closure\\nPi...</td>\n",
       "      <td>{\"Needs Review\"}</td>\n",
       "    </tr>\n",
       "    <tr>\n",
       "      <th>6</th>\n",
       "      <td>01DSE9J9B1WCDKEZDBXY9JCD1H</td>\n",
       "      <td>Banana Republic</td>\n",
       "      <td>Untucked Slim-Fit Tech-Stretch Cotton Shirt</td>\n",
       "      <td>Made with our Tech Stretch Cotton fabric, this...</td>\n",
       "      <td>Unknown</td>\n",
       "      <td>Made with our Tech Stretch Cotton fabric, this...</td>\n",
       "      <td>{\"Needs Review\"}</td>\n",
       "    </tr>\n",
       "    <tr>\n",
       "      <th>7</th>\n",
       "      <td>01DSEAZS5R8HJBGWY3XHJSDC1W</td>\n",
       "      <td>Banana Republic</td>\n",
       "      <td>Classic-Fit Bi-Stretch Blazer</td>\n",
       "      <td>Our Classic Fit blazer has a single-button fro...</td>\n",
       "      <td>Unknown</td>\n",
       "      <td>Our Classic Fit blazer has a single-button fro...</td>\n",
       "      <td>{\"Needs Review\"}</td>\n",
       "    </tr>\n",
       "    <tr>\n",
       "      <th>8</th>\n",
       "      <td>01DSE9HTZN1C0YDB1W421K6TY0</td>\n",
       "      <td>Banana Republic</td>\n",
       "      <td>Print Puff-Sleeve Wrap Dress</td>\n",
       "      <td>Add a little feminine flair to your look with ...</td>\n",
       "      <td>Unknown</td>\n",
       "      <td>Add a little feminine flair to your look with ...</td>\n",
       "      <td>{\"Needs Review\"}</td>\n",
       "    </tr>\n",
       "    <tr>\n",
       "      <th>9</th>\n",
       "      <td>01DSJT9E7E6K26W1F0CP4H2E8H</td>\n",
       "      <td>Hunter</td>\n",
       "      <td>Hunter x Peppa Pig Print Umbrella</td>\n",
       "      <td>From the Hunter x Peppa Pig Collaboration. Lig...</td>\n",
       "      <td>JustKids/Girls214/Accessories,JustKids/Boys220...</td>\n",
       "      <td>Easy-to-hold curved handle\\nSafety feature on ...</td>\n",
       "      <td>{\"Needs Review\"}</td>\n",
       "    </tr>\n",
       "  </tbody>\n",
       "</table>\n",
       "</div>"
      ],
      "text/plain": [
       "                   product_id              brand  \\\n",
       "0  01DSE9TC2DQXDG6GWKW9NMJ416    Banana Republic   \n",
       "1  01DSE9SKM19XNA6SJP36JZC065    Banana Republic   \n",
       "2  01DSJX8GD4DSAP76SPR85HRCMN              Loewe   \n",
       "3  01DSJVKJNS6F4KQ1QM6YYK9AW2           Converse   \n",
       "4  01DSK15ZD4D5A0QXA8NSD25YXE  Alexander McQueen   \n",
       "5  01DSRCS6FWFEXE6T3QYZ7QHN7V        Kissy Kissy   \n",
       "6  01DSE9J9B1WCDKEZDBXY9JCD1H    Banana Republic   \n",
       "7  01DSEAZS5R8HJBGWY3XHJSDC1W    Banana Republic   \n",
       "8  01DSE9HTZN1C0YDB1W421K6TY0    Banana Republic   \n",
       "9  01DSJT9E7E6K26W1F0CP4H2E8H             Hunter   \n",
       "\n",
       "                                   product_full_name  \\\n",
       "0                                   Ankle-Strap Pump   \n",
       "1                                Petite Tie-Neck Top   \n",
       "2               52MM Padded Leather Round Sunglasses   \n",
       "3  Baby's & Little Kid's All-Star Two-Tone Mid-To...   \n",
       "4                            64MM Rimless Sunglasses   \n",
       "5              Baby Girl's Long-Sleeve Cotton Footie   \n",
       "6        Untucked Slim-Fit Tech-Stretch Cotton Shirt   \n",
       "7                      Classic-Fit Bi-Stretch Blazer   \n",
       "8                       Print Puff-Sleeve Wrap Dress   \n",
       "9                  Hunter x Peppa Pig Print Umbrella   \n",
       "\n",
       "                                         description  \\\n",
       "0  A modern pump, in a rounded silhouette with an...   \n",
       "1  Dress it down with jeans and sneakers or dress...   \n",
       "2    Padded leather covers classic round sunglasses.   \n",
       "3  The iconic mid-top design gets an added dose o...   \n",
       "4  Hexagonal shades offer a rimless view with int...   \n",
       "5      Comfortable cotton footie with scalloped trim   \n",
       "6  Made with our Tech Stretch Cotton fabric, this...   \n",
       "7  Our Classic Fit blazer has a single-button fro...   \n",
       "8  Add a little feminine flair to your look with ...   \n",
       "9  From the Hunter x Peppa Pig Collaboration. Lig...   \n",
       "\n",
       "                                      brand_category  \\\n",
       "0                                            Unknown   \n",
       "1                                            Unknown   \n",
       "2  JewelryAccessories/SunglassesReaders/RoundOval...   \n",
       "3  JustKids/Shoes/Baby024Months/BabyGirl,JustKids...   \n",
       "4     JewelryAccessories/SunglassesReaders/RoundOval   \n",
       "5  JustKids/Baby024months/InfantGirls/FootiesRompers   \n",
       "6                                            Unknown   \n",
       "7                                            Unknown   \n",
       "8                                            Unknown   \n",
       "9  JustKids/Girls214/Accessories,JustKids/Boys220...   \n",
       "\n",
       "                                             details            labels  \n",
       "0  A modern pump, in a rounded silhouette with an...  {\"Needs Review\"}  \n",
       "1  Dress it down with jeans and sneakers or dress...  {\"Needs Review\"}  \n",
       "2  100% UV protection\\nCase and cleaning cloth in...  {\"Needs Review\"}  \n",
       "3  Canvas upper\\nRound toe\\nLace-up vamp\\nSmartFO...  {\"Needs Review\"}  \n",
       "4  100% UV protection\\nGradient lenses\\nAdjustabl...  {\"Needs Review\"}  \n",
       "5  Crewneck\\nLong sleeves\\nFront snap closure\\nPi...  {\"Needs Review\"}  \n",
       "6  Made with our Tech Stretch Cotton fabric, this...  {\"Needs Review\"}  \n",
       "7  Our Classic Fit blazer has a single-button fro...  {\"Needs Review\"}  \n",
       "8  Add a little feminine flair to your look with ...  {\"Needs Review\"}  \n",
       "9  Easy-to-hold curved handle\\nSafety feature on ...  {\"Needs Review\"}  "
      ]
     },
     "execution_count": 27,
     "metadata": {},
     "output_type": "execute_result"
    }
   ],
   "source": [
    "df_all.head(10)"
   ]
  },
  {
   "cell_type": "code",
   "execution_count": 28,
   "metadata": {},
   "outputs": [
    {
     "data": {
      "text/plain": [
       "(48072, 7)"
      ]
     },
     "execution_count": 28,
     "metadata": {},
     "output_type": "execute_result"
    }
   ],
   "source": [
    "# dimensions of the final data file\n",
    "df_all.shape"
   ]
  },
  {
   "cell_type": "markdown",
   "metadata": {},
   "source": [
    "### Using regex to correct punctuations"
   ]
  },
  {
   "cell_type": "markdown",
   "metadata": {},
   "source": [
    "In this step we would be removing punctuations which won't necesaarily add value to the corpus. We have kept punctuations such as hyphen(-) and apostrophe(\") as they might add value. For instance apostrophe is used to denote inches in the corpus."
   ]
  },
  {
   "cell_type": "code",
   "execution_count": 29,
   "metadata": {},
   "outputs": [
    {
     "data": {
      "text/plain": [
       "'!\"#$%&\\'()*+,-./:;<=>?@[\\\\]^_`{|}~'"
      ]
     },
     "execution_count": 29,
     "metadata": {},
     "output_type": "execute_result"
    }
   ],
   "source": [
    "# Inspiration from https://stackoverflow.com/questions/34860982/replace-the-punctuation-with-whitespace\n",
    "string.punctuation"
   ]
  },
  {
   "cell_type": "code",
   "execution_count": 30,
   "metadata": {},
   "outputs": [
    {
     "data": {
      "text/plain": [
       "\"!#$%&'()*+,./:;<=>?@[\\\\]^_`{|}~\""
      ]
     },
     "execution_count": 30,
     "metadata": {},
     "output_type": "execute_result"
    }
   ],
   "source": [
    "punc_syn = string.punctuation\n",
    "punc_syn = punc_syn.replace('\"','')\n",
    "punc_syn = punc_syn.replace('-','')\n",
    "punc_syn"
   ]
  },
  {
   "cell_type": "code",
   "execution_count": 31,
   "metadata": {},
   "outputs": [],
   "source": [
    "def clean_punct(review_to_be_cleaned):\n",
    "    '''\n",
    "    Function which takes a list of sentences and cleans the data. Returns a cleaned list of sentences\n",
    "    '''\n",
    "    temp = review_to_be_cleaned\n",
    "\n",
    "    #Normalize tabs and remove newlines\n",
    "    temp = temp.replace('\\t', ' ').replace('\\n', ' ')\n",
    "    \n",
    "    # Replace punctuation with whitespace\n",
    "    punc_syn = string.punctuation\n",
    "    punc_syn = punc_syn.replace('\"','')\n",
    "    punc_syn = punc_syn.replace('-','')\n",
    "    temp = re.sub(r'[{}]'.format(punc_syn), ' ', temp)\n",
    "    \n",
    "    # Single character removal \n",
    "    temp = re.sub(r\"\\s+[a-zA-Z]\\s+\", ' ', temp)\n",
    "    \n",
    "    #Remove leading whitespaces\n",
    "    temp = temp.strip()\n",
    "\n",
    "    #Normalize spaces to 1\n",
    "    temp = re.sub(\" +\", \" \", temp)\n",
    "\n",
    "    #Normalize all characters to lowercase\n",
    "    temp = temp.lower()\n",
    "    \n",
    "    return temp"
   ]
  },
  {
   "cell_type": "code",
   "execution_count": 32,
   "metadata": {},
   "outputs": [],
   "source": [
    "# Using a copy of the original dataframe in case of refresh is required\n",
    "df_pre = df_all.copy()"
   ]
  },
  {
   "cell_type": "code",
   "execution_count": 33,
   "metadata": {},
   "outputs": [],
   "source": [
    "list_cols = ['brand', 'product_full_name', 'description', 'brand_category', 'details']\n",
    "\n",
    "for i in list_cols:\n",
    "    df_pre[i] = df_pre[i].astype(str).apply(clean_punct)"
   ]
  },
  {
   "cell_type": "code",
   "execution_count": 34,
   "metadata": {},
   "outputs": [
    {
     "data": {
      "text/html": [
       "<div>\n",
       "<style scoped>\n",
       "    .dataframe tbody tr th:only-of-type {\n",
       "        vertical-align: middle;\n",
       "    }\n",
       "\n",
       "    .dataframe tbody tr th {\n",
       "        vertical-align: top;\n",
       "    }\n",
       "\n",
       "    .dataframe thead th {\n",
       "        text-align: right;\n",
       "    }\n",
       "</style>\n",
       "<table border=\"1\" class=\"dataframe\">\n",
       "  <thead>\n",
       "    <tr style=\"text-align: right;\">\n",
       "      <th></th>\n",
       "      <th>product_id</th>\n",
       "      <th>brand</th>\n",
       "      <th>product_full_name</th>\n",
       "      <th>description</th>\n",
       "      <th>brand_category</th>\n",
       "      <th>details</th>\n",
       "      <th>labels</th>\n",
       "    </tr>\n",
       "  </thead>\n",
       "  <tbody>\n",
       "    <tr>\n",
       "      <th>0</th>\n",
       "      <td>01DSE9TC2DQXDG6GWKW9NMJ416</td>\n",
       "      <td>banana republic</td>\n",
       "      <td>ankle-strap pump</td>\n",
       "      <td>a modern pump in rounded silhouette with an an...</td>\n",
       "      <td>unknown</td>\n",
       "      <td>a modern pump in rounded silhouette with an an...</td>\n",
       "      <td>{\"Needs Review\"}</td>\n",
       "    </tr>\n",
       "    <tr>\n",
       "      <th>1</th>\n",
       "      <td>01DSE9SKM19XNA6SJP36JZC065</td>\n",
       "      <td>banana republic</td>\n",
       "      <td>petite tie-neck top</td>\n",
       "      <td>dress it down with jeans and sneakers or dress...</td>\n",
       "      <td>unknown</td>\n",
       "      <td>dress it down with jeans and sneakers or dress...</td>\n",
       "      <td>{\"Needs Review\"}</td>\n",
       "    </tr>\n",
       "    <tr>\n",
       "      <th>2</th>\n",
       "      <td>01DSJX8GD4DSAP76SPR85HRCMN</td>\n",
       "      <td>loewe</td>\n",
       "      <td>52mm padded leather round sunglasses</td>\n",
       "      <td>padded leather covers classic round sunglasses</td>\n",
       "      <td>jewelryaccessories sunglassesreaders roundoval...</td>\n",
       "      <td>100 uv protection case and cleaning cloth incl...</td>\n",
       "      <td>{\"Needs Review\"}</td>\n",
       "    </tr>\n",
       "    <tr>\n",
       "      <th>3</th>\n",
       "      <td>01DSJVKJNS6F4KQ1QM6YYK9AW2</td>\n",
       "      <td>converse</td>\n",
       "      <td>baby little kid all-star two-tone mid-top chuc...</td>\n",
       "      <td>the iconic mid-top design gets an added dose o...</td>\n",
       "      <td>justkids shoes baby024months babygirl justkids...</td>\n",
       "      <td>canvas upper round toe lace-up vamp smartfoam ...</td>\n",
       "      <td>{\"Needs Review\"}</td>\n",
       "    </tr>\n",
       "    <tr>\n",
       "      <th>4</th>\n",
       "      <td>01DSK15ZD4D5A0QXA8NSD25YXE</td>\n",
       "      <td>alexander mcqueen</td>\n",
       "      <td>64mm rimless sunglasses</td>\n",
       "      <td>hexagonal shades offer rimless view with intri...</td>\n",
       "      <td>jewelryaccessories sunglassesreaders roundoval</td>\n",
       "      <td>100 uv protection gradient lenses adjustable n...</td>\n",
       "      <td>{\"Needs Review\"}</td>\n",
       "    </tr>\n",
       "  </tbody>\n",
       "</table>\n",
       "</div>"
      ],
      "text/plain": [
       "                   product_id              brand  \\\n",
       "0  01DSE9TC2DQXDG6GWKW9NMJ416    banana republic   \n",
       "1  01DSE9SKM19XNA6SJP36JZC065    banana republic   \n",
       "2  01DSJX8GD4DSAP76SPR85HRCMN              loewe   \n",
       "3  01DSJVKJNS6F4KQ1QM6YYK9AW2           converse   \n",
       "4  01DSK15ZD4D5A0QXA8NSD25YXE  alexander mcqueen   \n",
       "\n",
       "                                   product_full_name  \\\n",
       "0                                   ankle-strap pump   \n",
       "1                                petite tie-neck top   \n",
       "2               52mm padded leather round sunglasses   \n",
       "3  baby little kid all-star two-tone mid-top chuc...   \n",
       "4                            64mm rimless sunglasses   \n",
       "\n",
       "                                         description  \\\n",
       "0  a modern pump in rounded silhouette with an an...   \n",
       "1  dress it down with jeans and sneakers or dress...   \n",
       "2     padded leather covers classic round sunglasses   \n",
       "3  the iconic mid-top design gets an added dose o...   \n",
       "4  hexagonal shades offer rimless view with intri...   \n",
       "\n",
       "                                      brand_category  \\\n",
       "0                                            unknown   \n",
       "1                                            unknown   \n",
       "2  jewelryaccessories sunglassesreaders roundoval...   \n",
       "3  justkids shoes baby024months babygirl justkids...   \n",
       "4     jewelryaccessories sunglassesreaders roundoval   \n",
       "\n",
       "                                             details            labels  \n",
       "0  a modern pump in rounded silhouette with an an...  {\"Needs Review\"}  \n",
       "1  dress it down with jeans and sneakers or dress...  {\"Needs Review\"}  \n",
       "2  100 uv protection case and cleaning cloth incl...  {\"Needs Review\"}  \n",
       "3  canvas upper round toe lace-up vamp smartfoam ...  {\"Needs Review\"}  \n",
       "4  100 uv protection gradient lenses adjustable n...  {\"Needs Review\"}  "
      ]
     },
     "execution_count": 34,
     "metadata": {},
     "output_type": "execute_result"
    }
   ],
   "source": [
    "df_pre.head(5)"
   ]
  },
  {
   "cell_type": "markdown",
   "metadata": {},
   "source": [
    "## Removing stop words"
   ]
  },
  {
   "cell_type": "markdown",
   "metadata": {},
   "source": [
    "In this step, we have removed words like \"the\", \"is\" which are commonly used in english language. However, these text add a lot of noise to the data as they might add more features without adding any value to the text. We used spacy library to remove these words. "
   ]
  },
  {
   "cell_type": "code",
   "execution_count": 36,
   "metadata": {},
   "outputs": [],
   "source": [
    "# using spacy library to remove the stop words\n",
    "for i in list_cols:\n",
    "    df_pre[i] = list(\n",
    "    map(lambda doc: \" \".join([token.text for token in nlp(doc) if not token.is_stop]), list(df_pre[i])))"
   ]
  },
  {
   "cell_type": "code",
   "execution_count": 37,
   "metadata": {},
   "outputs": [
    {
     "data": {
      "text/html": [
       "<div>\n",
       "<style scoped>\n",
       "    .dataframe tbody tr th:only-of-type {\n",
       "        vertical-align: middle;\n",
       "    }\n",
       "\n",
       "    .dataframe tbody tr th {\n",
       "        vertical-align: top;\n",
       "    }\n",
       "\n",
       "    .dataframe thead th {\n",
       "        text-align: right;\n",
       "    }\n",
       "</style>\n",
       "<table border=\"1\" class=\"dataframe\">\n",
       "  <thead>\n",
       "    <tr style=\"text-align: right;\">\n",
       "      <th></th>\n",
       "      <th>product_id</th>\n",
       "      <th>brand</th>\n",
       "      <th>product_full_name</th>\n",
       "      <th>description</th>\n",
       "      <th>brand_category</th>\n",
       "      <th>details</th>\n",
       "      <th>labels</th>\n",
       "    </tr>\n",
       "  </thead>\n",
       "  <tbody>\n",
       "    <tr>\n",
       "      <th>0</th>\n",
       "      <td>01DSE9TC2DQXDG6GWKW9NMJ416</td>\n",
       "      <td>banana republic</td>\n",
       "      <td>ankle - strap pump</td>\n",
       "      <td>modern pump rounded silhouette ankle strap ext...</td>\n",
       "      <td>unknown</td>\n",
       "      <td>modern pump rounded silhouette ankle strap ext...</td>\n",
       "      <td>{\"Needs Review\"}</td>\n",
       "    </tr>\n",
       "    <tr>\n",
       "      <th>1</th>\n",
       "      <td>01DSE9SKM19XNA6SJP36JZC065</td>\n",
       "      <td>banana republic</td>\n",
       "      <td>petite tie - neck</td>\n",
       "      <td>dress jeans sneakers dress tailored trouser he...</td>\n",
       "      <td>unknown</td>\n",
       "      <td>dress jeans sneakers dress tailored trouser he...</td>\n",
       "      <td>{\"Needs Review\"}</td>\n",
       "    </tr>\n",
       "    <tr>\n",
       "      <th>2</th>\n",
       "      <td>01DSJX8GD4DSAP76SPR85HRCMN</td>\n",
       "      <td>loewe</td>\n",
       "      <td>52 mm padded leather round sunglasses</td>\n",
       "      <td>padded leather covers classic round sunglasses</td>\n",
       "      <td>jewelryaccessories sunglassesreaders roundoval...</td>\n",
       "      <td>100 uv protection case cleaning cloth included...</td>\n",
       "      <td>{\"Needs Review\"}</td>\n",
       "    </tr>\n",
       "    <tr>\n",
       "      <th>3</th>\n",
       "      <td>01DSJVKJNS6F4KQ1QM6YYK9AW2</td>\n",
       "      <td>converse</td>\n",
       "      <td>baby little kid - star - tone mid - chuck tayl...</td>\n",
       "      <td>iconic mid - design gets added dose support pa...</td>\n",
       "      <td>justkids shoes baby024months babygirl justkids...</td>\n",
       "      <td>canvas upper round toe lace - vamp smartfoam i...</td>\n",
       "      <td>{\"Needs Review\"}</td>\n",
       "    </tr>\n",
       "    <tr>\n",
       "      <th>4</th>\n",
       "      <td>01DSK15ZD4D5A0QXA8NSD25YXE</td>\n",
       "      <td>alexander mcqueen</td>\n",
       "      <td>64 mm rimless sunglasses</td>\n",
       "      <td>hexagonal shades offer rimless view intricate ...</td>\n",
       "      <td>jewelryaccessories sunglassesreaders roundoval</td>\n",
       "      <td>100 uv protection gradient lenses adjustable n...</td>\n",
       "      <td>{\"Needs Review\"}</td>\n",
       "    </tr>\n",
       "  </tbody>\n",
       "</table>\n",
       "</div>"
      ],
      "text/plain": [
       "                   product_id              brand  \\\n",
       "0  01DSE9TC2DQXDG6GWKW9NMJ416    banana republic   \n",
       "1  01DSE9SKM19XNA6SJP36JZC065    banana republic   \n",
       "2  01DSJX8GD4DSAP76SPR85HRCMN              loewe   \n",
       "3  01DSJVKJNS6F4KQ1QM6YYK9AW2           converse   \n",
       "4  01DSK15ZD4D5A0QXA8NSD25YXE  alexander mcqueen   \n",
       "\n",
       "                                   product_full_name  \\\n",
       "0                                 ankle - strap pump   \n",
       "1                                  petite tie - neck   \n",
       "2              52 mm padded leather round sunglasses   \n",
       "3  baby little kid - star - tone mid - chuck tayl...   \n",
       "4                           64 mm rimless sunglasses   \n",
       "\n",
       "                                         description  \\\n",
       "0  modern pump rounded silhouette ankle strap ext...   \n",
       "1  dress jeans sneakers dress tailored trouser he...   \n",
       "2     padded leather covers classic round sunglasses   \n",
       "3  iconic mid - design gets added dose support pa...   \n",
       "4  hexagonal shades offer rimless view intricate ...   \n",
       "\n",
       "                                      brand_category  \\\n",
       "0                                            unknown   \n",
       "1                                            unknown   \n",
       "2  jewelryaccessories sunglassesreaders roundoval...   \n",
       "3  justkids shoes baby024months babygirl justkids...   \n",
       "4     jewelryaccessories sunglassesreaders roundoval   \n",
       "\n",
       "                                             details            labels  \n",
       "0  modern pump rounded silhouette ankle strap ext...  {\"Needs Review\"}  \n",
       "1  dress jeans sneakers dress tailored trouser he...  {\"Needs Review\"}  \n",
       "2  100 uv protection case cleaning cloth included...  {\"Needs Review\"}  \n",
       "3  canvas upper round toe lace - vamp smartfoam i...  {\"Needs Review\"}  \n",
       "4  100 uv protection gradient lenses adjustable n...  {\"Needs Review\"}  "
      ]
     },
     "execution_count": 37,
     "metadata": {},
     "output_type": "execute_result"
    }
   ],
   "source": [
    "# looking at the first 5 observations\n",
    "df_pre.head(5)"
   ]
  },
  {
   "cell_type": "markdown",
   "metadata": {},
   "source": [
    "### Lemmatization"
   ]
  },
  {
   "cell_type": "code",
   "execution_count": null,
   "metadata": {},
   "outputs": [],
   "source": [
    "In English language, we have words similar in meaning with suffixIn this step, we have utilized lemmatization to ensure that r"
   ]
  },
  {
   "cell_type": "code",
   "execution_count": 41,
   "metadata": {},
   "outputs": [],
   "source": [
    "from nltk.stem import WordNetLemmatizer\n",
    "\n",
    "def lemm(list_to_process):\n",
    "    '''\n",
    "    This function returns the list of reviews after lemmatization\n",
    "    '''\n",
    "    lemmatizer = WordNetLemmatizer()\n",
    "    sentences = []\n",
    "    \n",
    "    for i in list_to_process:\n",
    "        tokens = nltk.word_tokenize(i)\n",
    "        words = []\n",
    "        for word in tokens:\n",
    "            words.append(lemmatizer.lemmatize(word))\n",
    "        sentence = \" \".join(words)\n",
    "        sentences.append(sentence)\n",
    "    return sentences"
   ]
  },
  {
   "cell_type": "code",
   "execution_count": 42,
   "metadata": {},
   "outputs": [
    {
     "data": {
      "text/plain": [
       "['case']"
      ]
     },
     "execution_count": 42,
     "metadata": {},
     "output_type": "execute_result"
    }
   ],
   "source": [
    "lemm(['cases'])"
   ]
  },
  {
   "cell_type": "code",
   "execution_count": 43,
   "metadata": {},
   "outputs": [],
   "source": [
    "for i in list_cols:\n",
    "    df_pre[i] = lemm(df_pre[i])"
   ]
  },
  {
   "cell_type": "code",
   "execution_count": 44,
   "metadata": {},
   "outputs": [],
   "source": [
    "df_pre['combined'] =  df_pre.brand+' '+df_pre.product_full_name+' '+df_pre.description+' '+df_pre.brand_category+' '+df_pre.details"
   ]
  },
  {
   "cell_type": "code",
   "execution_count": 45,
   "metadata": {},
   "outputs": [
    {
     "data": {
      "text/html": [
       "<div>\n",
       "<style scoped>\n",
       "    .dataframe tbody tr th:only-of-type {\n",
       "        vertical-align: middle;\n",
       "    }\n",
       "\n",
       "    .dataframe tbody tr th {\n",
       "        vertical-align: top;\n",
       "    }\n",
       "\n",
       "    .dataframe thead th {\n",
       "        text-align: right;\n",
       "    }\n",
       "</style>\n",
       "<table border=\"1\" class=\"dataframe\">\n",
       "  <thead>\n",
       "    <tr style=\"text-align: right;\">\n",
       "      <th></th>\n",
       "      <th>product_id</th>\n",
       "      <th>brand</th>\n",
       "      <th>product_full_name</th>\n",
       "      <th>description</th>\n",
       "      <th>brand_category</th>\n",
       "      <th>details</th>\n",
       "      <th>labels</th>\n",
       "      <th>combined</th>\n",
       "    </tr>\n",
       "  </thead>\n",
       "  <tbody>\n",
       "    <tr>\n",
       "      <th>0</th>\n",
       "      <td>01DSE9TC2DQXDG6GWKW9NMJ416</td>\n",
       "      <td>banana republic</td>\n",
       "      <td>ankle - strap pump</td>\n",
       "      <td>modern pump rounded silhouette ankle strap ext...</td>\n",
       "      <td>unknown</td>\n",
       "      <td>modern pump rounded silhouette ankle strap ext...</td>\n",
       "      <td>{\"Needs Review\"}</td>\n",
       "      <td>banana republic ankle - strap pump modern pump...</td>\n",
       "    </tr>\n",
       "    <tr>\n",
       "      <th>1</th>\n",
       "      <td>01DSE9SKM19XNA6SJP36JZC065</td>\n",
       "      <td>banana republic</td>\n",
       "      <td>petite tie - neck</td>\n",
       "      <td>dress jean sneaker dress tailored trouser heel...</td>\n",
       "      <td>unknown</td>\n",
       "      <td>dress jean sneaker dress tailored trouser heel...</td>\n",
       "      <td>{\"Needs Review\"}</td>\n",
       "      <td>banana republic petite tie - neck dress jean s...</td>\n",
       "    </tr>\n",
       "    <tr>\n",
       "      <th>2</th>\n",
       "      <td>01DSJX8GD4DSAP76SPR85HRCMN</td>\n",
       "      <td>loewe</td>\n",
       "      <td>52 mm padded leather round sunglass</td>\n",
       "      <td>padded leather cover classic round sunglass</td>\n",
       "      <td>jewelryaccessories sunglassesreaders roundoval...</td>\n",
       "      <td>100 uv protection case cleaning cloth included...</td>\n",
       "      <td>{\"Needs Review\"}</td>\n",
       "      <td>loewe 52 mm padded leather round sunglass padd...</td>\n",
       "    </tr>\n",
       "    <tr>\n",
       "      <th>3</th>\n",
       "      <td>01DSJVKJNS6F4KQ1QM6YYK9AW2</td>\n",
       "      <td>converse</td>\n",
       "      <td>baby little kid - star - tone mid - chuck tayl...</td>\n",
       "      <td>iconic mid - design get added dose support pad...</td>\n",
       "      <td>justkids shoe baby024months babygirl justkids ...</td>\n",
       "      <td>canvas upper round toe lace - vamp smartfoam i...</td>\n",
       "      <td>{\"Needs Review\"}</td>\n",
       "      <td>converse baby little kid - star - tone mid - c...</td>\n",
       "    </tr>\n",
       "    <tr>\n",
       "      <th>4</th>\n",
       "      <td>01DSK15ZD4D5A0QXA8NSD25YXE</td>\n",
       "      <td>alexander mcqueen</td>\n",
       "      <td>64 mm rimless sunglass</td>\n",
       "      <td>hexagonal shade offer rimless view intricate n...</td>\n",
       "      <td>jewelryaccessories sunglassesreaders roundoval</td>\n",
       "      <td>100 uv protection gradient lens adjustable nos...</td>\n",
       "      <td>{\"Needs Review\"}</td>\n",
       "      <td>alexander mcqueen 64 mm rimless sunglass hexag...</td>\n",
       "    </tr>\n",
       "  </tbody>\n",
       "</table>\n",
       "</div>"
      ],
      "text/plain": [
       "                   product_id              brand  \\\n",
       "0  01DSE9TC2DQXDG6GWKW9NMJ416    banana republic   \n",
       "1  01DSE9SKM19XNA6SJP36JZC065    banana republic   \n",
       "2  01DSJX8GD4DSAP76SPR85HRCMN              loewe   \n",
       "3  01DSJVKJNS6F4KQ1QM6YYK9AW2           converse   \n",
       "4  01DSK15ZD4D5A0QXA8NSD25YXE  alexander mcqueen   \n",
       "\n",
       "                                   product_full_name  \\\n",
       "0                                 ankle - strap pump   \n",
       "1                                  petite tie - neck   \n",
       "2                52 mm padded leather round sunglass   \n",
       "3  baby little kid - star - tone mid - chuck tayl...   \n",
       "4                             64 mm rimless sunglass   \n",
       "\n",
       "                                         description  \\\n",
       "0  modern pump rounded silhouette ankle strap ext...   \n",
       "1  dress jean sneaker dress tailored trouser heel...   \n",
       "2        padded leather cover classic round sunglass   \n",
       "3  iconic mid - design get added dose support pad...   \n",
       "4  hexagonal shade offer rimless view intricate n...   \n",
       "\n",
       "                                      brand_category  \\\n",
       "0                                            unknown   \n",
       "1                                            unknown   \n",
       "2  jewelryaccessories sunglassesreaders roundoval...   \n",
       "3  justkids shoe baby024months babygirl justkids ...   \n",
       "4     jewelryaccessories sunglassesreaders roundoval   \n",
       "\n",
       "                                             details            labels  \\\n",
       "0  modern pump rounded silhouette ankle strap ext...  {\"Needs Review\"}   \n",
       "1  dress jean sneaker dress tailored trouser heel...  {\"Needs Review\"}   \n",
       "2  100 uv protection case cleaning cloth included...  {\"Needs Review\"}   \n",
       "3  canvas upper round toe lace - vamp smartfoam i...  {\"Needs Review\"}   \n",
       "4  100 uv protection gradient lens adjustable nos...  {\"Needs Review\"}   \n",
       "\n",
       "                                            combined  \n",
       "0  banana republic ankle - strap pump modern pump...  \n",
       "1  banana republic petite tie - neck dress jean s...  \n",
       "2  loewe 52 mm padded leather round sunglass padd...  \n",
       "3  converse baby little kid - star - tone mid - c...  \n",
       "4  alexander mcqueen 64 mm rimless sunglass hexag...  "
      ]
     },
     "execution_count": 45,
     "metadata": {},
     "output_type": "execute_result"
    }
   ],
   "source": [
    "df_pre.head(5)"
   ]
  },
  {
   "cell_type": "markdown",
   "metadata": {},
   "source": [
    "## Create separate dataframes for each category"
   ]
  },
  {
   "cell_type": "markdown",
   "metadata": {},
   "source": [
    "We selected following four categories to focus our analysis upon -\n",
    "- style\n",
    "- occassion\n",
    "- color\n",
    "- fit"
   ]
  },
  {
   "cell_type": "code",
   "execution_count": 46,
   "metadata": {},
   "outputs": [],
   "source": [
    "final_cat = ['style', 'occasion', 'fit', 'Primary Color', 'Additional Color', 'primarycolor', 'additionalcolor', 'color']"
   ]
  },
  {
   "cell_type": "code",
   "execution_count": 47,
   "metadata": {},
   "outputs": [],
   "source": [
    "#https://stackoverflow.com/questions/37292872/how-can-i-one-hot-encode-in-python\n",
    "\n",
    "one_hot = pd.get_dummies(df_tag['attribute_name'])"
   ]
  },
  {
   "cell_type": "code",
   "execution_count": 48,
   "metadata": {},
   "outputs": [
    {
     "data": {
      "text/html": [
       "<div>\n",
       "<style scoped>\n",
       "    .dataframe tbody tr th:only-of-type {\n",
       "        vertical-align: middle;\n",
       "    }\n",
       "\n",
       "    .dataframe tbody tr th {\n",
       "        vertical-align: top;\n",
       "    }\n",
       "\n",
       "    .dataframe thead th {\n",
       "        text-align: right;\n",
       "    }\n",
       "</style>\n",
       "<table border=\"1\" class=\"dataframe\">\n",
       "  <thead>\n",
       "    <tr style=\"text-align: right;\">\n",
       "      <th></th>\n",
       "      <th>Additional Color</th>\n",
       "      <th>Color</th>\n",
       "      <th>Pattern</th>\n",
       "      <th>Primary Color</th>\n",
       "      <th>Print</th>\n",
       "      <th>additionalcolor</th>\n",
       "      <th>beltbucklematerial</th>\n",
       "      <th>beltbuckleshape</th>\n",
       "      <th>beltclosure</th>\n",
       "      <th>beltmaterial</th>\n",
       "      <th>beltwidth</th>\n",
       "      <th>calf_width</th>\n",
       "      <th>calfwidth</th>\n",
       "      <th>category</th>\n",
       "      <th>class_blazers_coats_and_jackets</th>\n",
       "      <th>class_booties</th>\n",
       "      <th>class_boots</th>\n",
       "      <th>class_dress</th>\n",
       "      <th>class_flats</th>\n",
       "      <th>class_handbags</th>\n",
       "      <th>class_jumpsuit_and_romper</th>\n",
       "      <th>class_mules_and_slides</th>\n",
       "      <th>class_pants_and_leggings</th>\n",
       "      <th>class_pumps_and_heels</th>\n",
       "      <th>class_sandals</th>\n",
       "      <th>class_shorts</th>\n",
       "      <th>class_skirts</th>\n",
       "      <th>class_sneakers_and_athletic</th>\n",
       "      <th>class_wedges</th>\n",
       "      <th>classbelts</th>\n",
       "      <th>classblazerscoatsandjackets</th>\n",
       "      <th>classbooties</th>\n",
       "      <th>classboots</th>\n",
       "      <th>classdress</th>\n",
       "      <th>classflats</th>\n",
       "      <th>classhandbags</th>\n",
       "      <th>classjumpsuitandromper</th>\n",
       "      <th>classmulesandslides</th>\n",
       "      <th>classpantsandleggings</th>\n",
       "      <th>classpumpsandheels</th>\n",
       "      <th>classsandals</th>\n",
       "      <th>classshorts</th>\n",
       "      <th>classskirts</th>\n",
       "      <th>classslippers</th>\n",
       "      <th>classsneakersandathletic</th>\n",
       "      <th>classsunglasses</th>\n",
       "      <th>classwedges</th>\n",
       "      <th>closure_blazers_coats_and_jackets</th>\n",
       "      <th>closure_handbag</th>\n",
       "      <th>closure_top</th>\n",
       "      <th>closureblazerscoatsandjackets</th>\n",
       "      <th>closurehandbag</th>\n",
       "      <th>closureonepiece</th>\n",
       "      <th>closurepantsandleggings</th>\n",
       "      <th>closureshoe</th>\n",
       "      <th>closureshorts</th>\n",
       "      <th>closureskirts</th>\n",
       "      <th>closuresweater</th>\n",
       "      <th>closuretop</th>\n",
       "      <th>color</th>\n",
       "      <th>dry_clean_only</th>\n",
       "      <th>drycleanonly</th>\n",
       "      <th>embellishment</th>\n",
       "      <th>fit</th>\n",
       "      <th>gender</th>\n",
       "      <th>heel_height</th>\n",
       "      <th>heel_shape</th>\n",
       "      <th>heelheight</th>\n",
       "      <th>heelshape</th>\n",
       "      <th>leg_style</th>\n",
       "      <th>legstyle</th>\n",
       "      <th>legstylejeans</th>\n",
       "      <th>length_blazers_coats_and_jackets</th>\n",
       "      <th>length_one_piece</th>\n",
       "      <th>length_pants_and_leggings</th>\n",
       "      <th>length_shorts</th>\n",
       "      <th>length_skirts</th>\n",
       "      <th>length_top</th>\n",
       "      <th>lengthblazers</th>\n",
       "      <th>lengthblazerscoatsandjackets</th>\n",
       "      <th>lengthcoatsandjackets</th>\n",
       "      <th>lengthjeans</th>\n",
       "      <th>lengthonepiece</th>\n",
       "      <th>lengthpantsandleggings</th>\n",
       "      <th>lengthshorts</th>\n",
       "      <th>lengthskirts</th>\n",
       "      <th>lengthtop</th>\n",
       "      <th>material</th>\n",
       "      <th>material_clothing</th>\n",
       "      <th>material_purse</th>\n",
       "      <th>materialclothing</th>\n",
       "      <th>materialpurse</th>\n",
       "      <th>neckline</th>\n",
       "      <th>occasion</th>\n",
       "      <th>pattern</th>\n",
       "      <th>primarycolor</th>\n",
       "      <th>print</th>\n",
       "      <th>rise</th>\n",
       "      <th>risejeans</th>\n",
       "      <th>shaft_height</th>\n",
       "      <th>shaftheight</th>\n",
       "      <th>sheer</th>\n",
       "      <th>shoe_width</th>\n",
       "      <th>shoewidth</th>\n",
       "      <th>sizing</th>\n",
       "      <th>sleeve_length</th>\n",
       "      <th>sleevelength</th>\n",
       "      <th>strap</th>\n",
       "      <th>strap_material</th>\n",
       "      <th>strapmaterial</th>\n",
       "      <th>style</th>\n",
       "      <th>subcategory_accessory</th>\n",
       "      <th>subcategory_blazers_coats_and_jackets</th>\n",
       "      <th>subcategory_bottom</th>\n",
       "      <th>subcategory_one_piece</th>\n",
       "      <th>subcategory_shoe</th>\n",
       "      <th>subcategory_sweater</th>\n",
       "      <th>subcategory_sweatshirt_and_hoodie</th>\n",
       "      <th>subcategory_top</th>\n",
       "      <th>subcategoryaccessory</th>\n",
       "      <th>subcategoryblazerscoatsandjackets</th>\n",
       "      <th>subcategorybottom</th>\n",
       "      <th>subcategoryonepiece</th>\n",
       "      <th>subcategoryshoe</th>\n",
       "      <th>subcategorysweater</th>\n",
       "      <th>subcategorysweatshirtandhoodie</th>\n",
       "      <th>subcategorytop</th>\n",
       "      <th>sunglassframematerial</th>\n",
       "      <th>sweatshirtandhoodieclosure</th>\n",
       "      <th>toe_style</th>\n",
       "      <th>toeexposure</th>\n",
       "      <th>toestyle</th>\n",
       "      <th>trend</th>\n",
       "      <th>upper_material</th>\n",
       "      <th>uppermaterial</th>\n",
       "      <th>wash</th>\n",
       "    </tr>\n",
       "  </thead>\n",
       "  <tbody>\n",
       "    <tr>\n",
       "      <th>0</th>\n",
       "      <td>0</td>\n",
       "      <td>0</td>\n",
       "      <td>0</td>\n",
       "      <td>0</td>\n",
       "      <td>0</td>\n",
       "      <td>0</td>\n",
       "      <td>0</td>\n",
       "      <td>0</td>\n",
       "      <td>0</td>\n",
       "      <td>0</td>\n",
       "      <td>0</td>\n",
       "      <td>0</td>\n",
       "      <td>0</td>\n",
       "      <td>0</td>\n",
       "      <td>0</td>\n",
       "      <td>0</td>\n",
       "      <td>0</td>\n",
       "      <td>0</td>\n",
       "      <td>0</td>\n",
       "      <td>0</td>\n",
       "      <td>0</td>\n",
       "      <td>0</td>\n",
       "      <td>0</td>\n",
       "      <td>0</td>\n",
       "      <td>0</td>\n",
       "      <td>0</td>\n",
       "      <td>0</td>\n",
       "      <td>0</td>\n",
       "      <td>0</td>\n",
       "      <td>0</td>\n",
       "      <td>0</td>\n",
       "      <td>0</td>\n",
       "      <td>0</td>\n",
       "      <td>0</td>\n",
       "      <td>0</td>\n",
       "      <td>0</td>\n",
       "      <td>0</td>\n",
       "      <td>0</td>\n",
       "      <td>0</td>\n",
       "      <td>0</td>\n",
       "      <td>0</td>\n",
       "      <td>0</td>\n",
       "      <td>0</td>\n",
       "      <td>0</td>\n",
       "      <td>0</td>\n",
       "      <td>0</td>\n",
       "      <td>0</td>\n",
       "      <td>0</td>\n",
       "      <td>0</td>\n",
       "      <td>0</td>\n",
       "      <td>0</td>\n",
       "      <td>0</td>\n",
       "      <td>0</td>\n",
       "      <td>0</td>\n",
       "      <td>0</td>\n",
       "      <td>0</td>\n",
       "      <td>0</td>\n",
       "      <td>0</td>\n",
       "      <td>0</td>\n",
       "      <td>0</td>\n",
       "      <td>0</td>\n",
       "      <td>0</td>\n",
       "      <td>0</td>\n",
       "      <td>0</td>\n",
       "      <td>1</td>\n",
       "      <td>0</td>\n",
       "      <td>0</td>\n",
       "      <td>0</td>\n",
       "      <td>0</td>\n",
       "      <td>0</td>\n",
       "      <td>0</td>\n",
       "      <td>0</td>\n",
       "      <td>0</td>\n",
       "      <td>0</td>\n",
       "      <td>0</td>\n",
       "      <td>0</td>\n",
       "      <td>0</td>\n",
       "      <td>0</td>\n",
       "      <td>0</td>\n",
       "      <td>0</td>\n",
       "      <td>0</td>\n",
       "      <td>0</td>\n",
       "      <td>0</td>\n",
       "      <td>0</td>\n",
       "      <td>0</td>\n",
       "      <td>0</td>\n",
       "      <td>0</td>\n",
       "      <td>0</td>\n",
       "      <td>0</td>\n",
       "      <td>0</td>\n",
       "      <td>0</td>\n",
       "      <td>0</td>\n",
       "      <td>0</td>\n",
       "      <td>0</td>\n",
       "      <td>0</td>\n",
       "      <td>0</td>\n",
       "      <td>0</td>\n",
       "      <td>0</td>\n",
       "      <td>0</td>\n",
       "      <td>0</td>\n",
       "      <td>0</td>\n",
       "      <td>0</td>\n",
       "      <td>0</td>\n",
       "      <td>0</td>\n",
       "      <td>0</td>\n",
       "      <td>0</td>\n",
       "      <td>0</td>\n",
       "      <td>0</td>\n",
       "      <td>0</td>\n",
       "      <td>0</td>\n",
       "      <td>0</td>\n",
       "      <td>0</td>\n",
       "      <td>0</td>\n",
       "      <td>0</td>\n",
       "      <td>0</td>\n",
       "      <td>0</td>\n",
       "      <td>0</td>\n",
       "      <td>0</td>\n",
       "      <td>0</td>\n",
       "      <td>0</td>\n",
       "      <td>0</td>\n",
       "      <td>0</td>\n",
       "      <td>0</td>\n",
       "      <td>0</td>\n",
       "      <td>0</td>\n",
       "      <td>0</td>\n",
       "      <td>0</td>\n",
       "      <td>0</td>\n",
       "      <td>0</td>\n",
       "      <td>0</td>\n",
       "      <td>0</td>\n",
       "      <td>0</td>\n",
       "      <td>0</td>\n",
       "      <td>0</td>\n",
       "      <td>0</td>\n",
       "      <td>0</td>\n",
       "    </tr>\n",
       "    <tr>\n",
       "      <th>1</th>\n",
       "      <td>0</td>\n",
       "      <td>0</td>\n",
       "      <td>0</td>\n",
       "      <td>1</td>\n",
       "      <td>0</td>\n",
       "      <td>0</td>\n",
       "      <td>0</td>\n",
       "      <td>0</td>\n",
       "      <td>0</td>\n",
       "      <td>0</td>\n",
       "      <td>0</td>\n",
       "      <td>0</td>\n",
       "      <td>0</td>\n",
       "      <td>0</td>\n",
       "      <td>0</td>\n",
       "      <td>0</td>\n",
       "      <td>0</td>\n",
       "      <td>0</td>\n",
       "      <td>0</td>\n",
       "      <td>0</td>\n",
       "      <td>0</td>\n",
       "      <td>0</td>\n",
       "      <td>0</td>\n",
       "      <td>0</td>\n",
       "      <td>0</td>\n",
       "      <td>0</td>\n",
       "      <td>0</td>\n",
       "      <td>0</td>\n",
       "      <td>0</td>\n",
       "      <td>0</td>\n",
       "      <td>0</td>\n",
       "      <td>0</td>\n",
       "      <td>0</td>\n",
       "      <td>0</td>\n",
       "      <td>0</td>\n",
       "      <td>0</td>\n",
       "      <td>0</td>\n",
       "      <td>0</td>\n",
       "      <td>0</td>\n",
       "      <td>0</td>\n",
       "      <td>0</td>\n",
       "      <td>0</td>\n",
       "      <td>0</td>\n",
       "      <td>0</td>\n",
       "      <td>0</td>\n",
       "      <td>0</td>\n",
       "      <td>0</td>\n",
       "      <td>0</td>\n",
       "      <td>0</td>\n",
       "      <td>0</td>\n",
       "      <td>0</td>\n",
       "      <td>0</td>\n",
       "      <td>0</td>\n",
       "      <td>0</td>\n",
       "      <td>0</td>\n",
       "      <td>0</td>\n",
       "      <td>0</td>\n",
       "      <td>0</td>\n",
       "      <td>0</td>\n",
       "      <td>0</td>\n",
       "      <td>0</td>\n",
       "      <td>0</td>\n",
       "      <td>0</td>\n",
       "      <td>0</td>\n",
       "      <td>0</td>\n",
       "      <td>0</td>\n",
       "      <td>0</td>\n",
       "      <td>0</td>\n",
       "      <td>0</td>\n",
       "      <td>0</td>\n",
       "      <td>0</td>\n",
       "      <td>0</td>\n",
       "      <td>0</td>\n",
       "      <td>0</td>\n",
       "      <td>0</td>\n",
       "      <td>0</td>\n",
       "      <td>0</td>\n",
       "      <td>0</td>\n",
       "      <td>0</td>\n",
       "      <td>0</td>\n",
       "      <td>0</td>\n",
       "      <td>0</td>\n",
       "      <td>0</td>\n",
       "      <td>0</td>\n",
       "      <td>0</td>\n",
       "      <td>0</td>\n",
       "      <td>0</td>\n",
       "      <td>0</td>\n",
       "      <td>0</td>\n",
       "      <td>0</td>\n",
       "      <td>0</td>\n",
       "      <td>0</td>\n",
       "      <td>0</td>\n",
       "      <td>0</td>\n",
       "      <td>0</td>\n",
       "      <td>0</td>\n",
       "      <td>0</td>\n",
       "      <td>0</td>\n",
       "      <td>0</td>\n",
       "      <td>0</td>\n",
       "      <td>0</td>\n",
       "      <td>0</td>\n",
       "      <td>0</td>\n",
       "      <td>0</td>\n",
       "      <td>0</td>\n",
       "      <td>0</td>\n",
       "      <td>0</td>\n",
       "      <td>0</td>\n",
       "      <td>0</td>\n",
       "      <td>0</td>\n",
       "      <td>0</td>\n",
       "      <td>0</td>\n",
       "      <td>0</td>\n",
       "      <td>0</td>\n",
       "      <td>0</td>\n",
       "      <td>0</td>\n",
       "      <td>0</td>\n",
       "      <td>0</td>\n",
       "      <td>0</td>\n",
       "      <td>0</td>\n",
       "      <td>0</td>\n",
       "      <td>0</td>\n",
       "      <td>0</td>\n",
       "      <td>0</td>\n",
       "      <td>0</td>\n",
       "      <td>0</td>\n",
       "      <td>0</td>\n",
       "      <td>0</td>\n",
       "      <td>0</td>\n",
       "      <td>0</td>\n",
       "      <td>0</td>\n",
       "      <td>0</td>\n",
       "      <td>0</td>\n",
       "      <td>0</td>\n",
       "      <td>0</td>\n",
       "      <td>0</td>\n",
       "    </tr>\n",
       "    <tr>\n",
       "      <th>2</th>\n",
       "      <td>0</td>\n",
       "      <td>0</td>\n",
       "      <td>0</td>\n",
       "      <td>0</td>\n",
       "      <td>0</td>\n",
       "      <td>0</td>\n",
       "      <td>0</td>\n",
       "      <td>0</td>\n",
       "      <td>0</td>\n",
       "      <td>0</td>\n",
       "      <td>0</td>\n",
       "      <td>0</td>\n",
       "      <td>0</td>\n",
       "      <td>0</td>\n",
       "      <td>0</td>\n",
       "      <td>0</td>\n",
       "      <td>0</td>\n",
       "      <td>0</td>\n",
       "      <td>0</td>\n",
       "      <td>0</td>\n",
       "      <td>0</td>\n",
       "      <td>0</td>\n",
       "      <td>0</td>\n",
       "      <td>0</td>\n",
       "      <td>0</td>\n",
       "      <td>0</td>\n",
       "      <td>0</td>\n",
       "      <td>0</td>\n",
       "      <td>0</td>\n",
       "      <td>0</td>\n",
       "      <td>0</td>\n",
       "      <td>0</td>\n",
       "      <td>0</td>\n",
       "      <td>0</td>\n",
       "      <td>0</td>\n",
       "      <td>0</td>\n",
       "      <td>0</td>\n",
       "      <td>0</td>\n",
       "      <td>0</td>\n",
       "      <td>0</td>\n",
       "      <td>0</td>\n",
       "      <td>0</td>\n",
       "      <td>0</td>\n",
       "      <td>0</td>\n",
       "      <td>0</td>\n",
       "      <td>0</td>\n",
       "      <td>0</td>\n",
       "      <td>0</td>\n",
       "      <td>0</td>\n",
       "      <td>0</td>\n",
       "      <td>0</td>\n",
       "      <td>0</td>\n",
       "      <td>0</td>\n",
       "      <td>0</td>\n",
       "      <td>0</td>\n",
       "      <td>0</td>\n",
       "      <td>0</td>\n",
       "      <td>0</td>\n",
       "      <td>0</td>\n",
       "      <td>0</td>\n",
       "      <td>0</td>\n",
       "      <td>0</td>\n",
       "      <td>0</td>\n",
       "      <td>0</td>\n",
       "      <td>0</td>\n",
       "      <td>0</td>\n",
       "      <td>0</td>\n",
       "      <td>0</td>\n",
       "      <td>0</td>\n",
       "      <td>0</td>\n",
       "      <td>0</td>\n",
       "      <td>0</td>\n",
       "      <td>0</td>\n",
       "      <td>0</td>\n",
       "      <td>0</td>\n",
       "      <td>0</td>\n",
       "      <td>0</td>\n",
       "      <td>0</td>\n",
       "      <td>0</td>\n",
       "      <td>0</td>\n",
       "      <td>0</td>\n",
       "      <td>0</td>\n",
       "      <td>0</td>\n",
       "      <td>0</td>\n",
       "      <td>0</td>\n",
       "      <td>0</td>\n",
       "      <td>0</td>\n",
       "      <td>0</td>\n",
       "      <td>0</td>\n",
       "      <td>0</td>\n",
       "      <td>0</td>\n",
       "      <td>0</td>\n",
       "      <td>0</td>\n",
       "      <td>0</td>\n",
       "      <td>0</td>\n",
       "      <td>0</td>\n",
       "      <td>0</td>\n",
       "      <td>0</td>\n",
       "      <td>0</td>\n",
       "      <td>0</td>\n",
       "      <td>0</td>\n",
       "      <td>0</td>\n",
       "      <td>0</td>\n",
       "      <td>0</td>\n",
       "      <td>0</td>\n",
       "      <td>0</td>\n",
       "      <td>0</td>\n",
       "      <td>0</td>\n",
       "      <td>0</td>\n",
       "      <td>0</td>\n",
       "      <td>1</td>\n",
       "      <td>0</td>\n",
       "      <td>0</td>\n",
       "      <td>0</td>\n",
       "      <td>0</td>\n",
       "      <td>0</td>\n",
       "      <td>0</td>\n",
       "      <td>0</td>\n",
       "      <td>0</td>\n",
       "      <td>0</td>\n",
       "      <td>0</td>\n",
       "      <td>0</td>\n",
       "      <td>0</td>\n",
       "      <td>0</td>\n",
       "      <td>0</td>\n",
       "      <td>0</td>\n",
       "      <td>0</td>\n",
       "      <td>0</td>\n",
       "      <td>0</td>\n",
       "      <td>0</td>\n",
       "      <td>0</td>\n",
       "      <td>0</td>\n",
       "      <td>0</td>\n",
       "      <td>0</td>\n",
       "      <td>0</td>\n",
       "      <td>0</td>\n",
       "    </tr>\n",
       "    <tr>\n",
       "      <th>3</th>\n",
       "      <td>0</td>\n",
       "      <td>0</td>\n",
       "      <td>0</td>\n",
       "      <td>0</td>\n",
       "      <td>0</td>\n",
       "      <td>0</td>\n",
       "      <td>0</td>\n",
       "      <td>0</td>\n",
       "      <td>0</td>\n",
       "      <td>0</td>\n",
       "      <td>0</td>\n",
       "      <td>0</td>\n",
       "      <td>0</td>\n",
       "      <td>0</td>\n",
       "      <td>0</td>\n",
       "      <td>0</td>\n",
       "      <td>0</td>\n",
       "      <td>0</td>\n",
       "      <td>0</td>\n",
       "      <td>0</td>\n",
       "      <td>0</td>\n",
       "      <td>0</td>\n",
       "      <td>0</td>\n",
       "      <td>0</td>\n",
       "      <td>0</td>\n",
       "      <td>0</td>\n",
       "      <td>0</td>\n",
       "      <td>0</td>\n",
       "      <td>0</td>\n",
       "      <td>0</td>\n",
       "      <td>0</td>\n",
       "      <td>0</td>\n",
       "      <td>0</td>\n",
       "      <td>0</td>\n",
       "      <td>0</td>\n",
       "      <td>0</td>\n",
       "      <td>0</td>\n",
       "      <td>0</td>\n",
       "      <td>0</td>\n",
       "      <td>0</td>\n",
       "      <td>0</td>\n",
       "      <td>0</td>\n",
       "      <td>0</td>\n",
       "      <td>0</td>\n",
       "      <td>0</td>\n",
       "      <td>0</td>\n",
       "      <td>0</td>\n",
       "      <td>0</td>\n",
       "      <td>0</td>\n",
       "      <td>0</td>\n",
       "      <td>0</td>\n",
       "      <td>0</td>\n",
       "      <td>0</td>\n",
       "      <td>0</td>\n",
       "      <td>0</td>\n",
       "      <td>0</td>\n",
       "      <td>0</td>\n",
       "      <td>0</td>\n",
       "      <td>0</td>\n",
       "      <td>0</td>\n",
       "      <td>0</td>\n",
       "      <td>0</td>\n",
       "      <td>0</td>\n",
       "      <td>0</td>\n",
       "      <td>0</td>\n",
       "      <td>0</td>\n",
       "      <td>0</td>\n",
       "      <td>0</td>\n",
       "      <td>0</td>\n",
       "      <td>0</td>\n",
       "      <td>0</td>\n",
       "      <td>0</td>\n",
       "      <td>0</td>\n",
       "      <td>0</td>\n",
       "      <td>0</td>\n",
       "      <td>0</td>\n",
       "      <td>0</td>\n",
       "      <td>0</td>\n",
       "      <td>0</td>\n",
       "      <td>0</td>\n",
       "      <td>0</td>\n",
       "      <td>0</td>\n",
       "      <td>0</td>\n",
       "      <td>0</td>\n",
       "      <td>0</td>\n",
       "      <td>0</td>\n",
       "      <td>0</td>\n",
       "      <td>0</td>\n",
       "      <td>0</td>\n",
       "      <td>0</td>\n",
       "      <td>0</td>\n",
       "      <td>0</td>\n",
       "      <td>0</td>\n",
       "      <td>0</td>\n",
       "      <td>0</td>\n",
       "      <td>0</td>\n",
       "      <td>0</td>\n",
       "      <td>0</td>\n",
       "      <td>0</td>\n",
       "      <td>0</td>\n",
       "      <td>0</td>\n",
       "      <td>0</td>\n",
       "      <td>0</td>\n",
       "      <td>0</td>\n",
       "      <td>0</td>\n",
       "      <td>0</td>\n",
       "      <td>0</td>\n",
       "      <td>0</td>\n",
       "      <td>0</td>\n",
       "      <td>0</td>\n",
       "      <td>1</td>\n",
       "      <td>0</td>\n",
       "      <td>0</td>\n",
       "      <td>0</td>\n",
       "      <td>0</td>\n",
       "      <td>0</td>\n",
       "      <td>0</td>\n",
       "      <td>0</td>\n",
       "      <td>0</td>\n",
       "      <td>0</td>\n",
       "      <td>0</td>\n",
       "      <td>0</td>\n",
       "      <td>0</td>\n",
       "      <td>0</td>\n",
       "      <td>0</td>\n",
       "      <td>0</td>\n",
       "      <td>0</td>\n",
       "      <td>0</td>\n",
       "      <td>0</td>\n",
       "      <td>0</td>\n",
       "      <td>0</td>\n",
       "      <td>0</td>\n",
       "      <td>0</td>\n",
       "      <td>0</td>\n",
       "      <td>0</td>\n",
       "      <td>0</td>\n",
       "    </tr>\n",
       "    <tr>\n",
       "      <th>4</th>\n",
       "      <td>0</td>\n",
       "      <td>0</td>\n",
       "      <td>0</td>\n",
       "      <td>0</td>\n",
       "      <td>0</td>\n",
       "      <td>0</td>\n",
       "      <td>0</td>\n",
       "      <td>0</td>\n",
       "      <td>0</td>\n",
       "      <td>0</td>\n",
       "      <td>0</td>\n",
       "      <td>0</td>\n",
       "      <td>0</td>\n",
       "      <td>0</td>\n",
       "      <td>0</td>\n",
       "      <td>0</td>\n",
       "      <td>0</td>\n",
       "      <td>0</td>\n",
       "      <td>0</td>\n",
       "      <td>0</td>\n",
       "      <td>0</td>\n",
       "      <td>0</td>\n",
       "      <td>0</td>\n",
       "      <td>0</td>\n",
       "      <td>0</td>\n",
       "      <td>0</td>\n",
       "      <td>0</td>\n",
       "      <td>0</td>\n",
       "      <td>0</td>\n",
       "      <td>0</td>\n",
       "      <td>0</td>\n",
       "      <td>0</td>\n",
       "      <td>0</td>\n",
       "      <td>0</td>\n",
       "      <td>0</td>\n",
       "      <td>0</td>\n",
       "      <td>0</td>\n",
       "      <td>0</td>\n",
       "      <td>0</td>\n",
       "      <td>0</td>\n",
       "      <td>0</td>\n",
       "      <td>0</td>\n",
       "      <td>0</td>\n",
       "      <td>0</td>\n",
       "      <td>0</td>\n",
       "      <td>0</td>\n",
       "      <td>0</td>\n",
       "      <td>0</td>\n",
       "      <td>0</td>\n",
       "      <td>0</td>\n",
       "      <td>0</td>\n",
       "      <td>0</td>\n",
       "      <td>0</td>\n",
       "      <td>0</td>\n",
       "      <td>0</td>\n",
       "      <td>0</td>\n",
       "      <td>0</td>\n",
       "      <td>0</td>\n",
       "      <td>0</td>\n",
       "      <td>0</td>\n",
       "      <td>0</td>\n",
       "      <td>0</td>\n",
       "      <td>0</td>\n",
       "      <td>0</td>\n",
       "      <td>0</td>\n",
       "      <td>0</td>\n",
       "      <td>0</td>\n",
       "      <td>0</td>\n",
       "      <td>0</td>\n",
       "      <td>0</td>\n",
       "      <td>0</td>\n",
       "      <td>0</td>\n",
       "      <td>0</td>\n",
       "      <td>0</td>\n",
       "      <td>0</td>\n",
       "      <td>0</td>\n",
       "      <td>0</td>\n",
       "      <td>0</td>\n",
       "      <td>0</td>\n",
       "      <td>0</td>\n",
       "      <td>0</td>\n",
       "      <td>0</td>\n",
       "      <td>0</td>\n",
       "      <td>0</td>\n",
       "      <td>0</td>\n",
       "      <td>0</td>\n",
       "      <td>0</td>\n",
       "      <td>0</td>\n",
       "      <td>0</td>\n",
       "      <td>0</td>\n",
       "      <td>0</td>\n",
       "      <td>0</td>\n",
       "      <td>0</td>\n",
       "      <td>0</td>\n",
       "      <td>0</td>\n",
       "      <td>0</td>\n",
       "      <td>0</td>\n",
       "      <td>0</td>\n",
       "      <td>0</td>\n",
       "      <td>0</td>\n",
       "      <td>0</td>\n",
       "      <td>0</td>\n",
       "      <td>1</td>\n",
       "      <td>0</td>\n",
       "      <td>0</td>\n",
       "      <td>0</td>\n",
       "      <td>0</td>\n",
       "      <td>0</td>\n",
       "      <td>0</td>\n",
       "      <td>0</td>\n",
       "      <td>0</td>\n",
       "      <td>0</td>\n",
       "      <td>0</td>\n",
       "      <td>0</td>\n",
       "      <td>0</td>\n",
       "      <td>0</td>\n",
       "      <td>0</td>\n",
       "      <td>0</td>\n",
       "      <td>0</td>\n",
       "      <td>0</td>\n",
       "      <td>0</td>\n",
       "      <td>0</td>\n",
       "      <td>0</td>\n",
       "      <td>0</td>\n",
       "      <td>0</td>\n",
       "      <td>0</td>\n",
       "      <td>0</td>\n",
       "      <td>0</td>\n",
       "      <td>0</td>\n",
       "      <td>0</td>\n",
       "      <td>0</td>\n",
       "      <td>0</td>\n",
       "      <td>0</td>\n",
       "      <td>0</td>\n",
       "      <td>0</td>\n",
       "      <td>0</td>\n",
       "    </tr>\n",
       "  </tbody>\n",
       "</table>\n",
       "</div>"
      ],
      "text/plain": [
       "   Additional Color  Color  Pattern  Primary Color  Print  additionalcolor  \\\n",
       "0                 0      0        0              0      0                0   \n",
       "1                 0      0        0              1      0                0   \n",
       "2                 0      0        0              0      0                0   \n",
       "3                 0      0        0              0      0                0   \n",
       "4                 0      0        0              0      0                0   \n",
       "\n",
       "   beltbucklematerial  beltbuckleshape  beltclosure  beltmaterial  beltwidth  \\\n",
       "0                   0                0            0             0          0   \n",
       "1                   0                0            0             0          0   \n",
       "2                   0                0            0             0          0   \n",
       "3                   0                0            0             0          0   \n",
       "4                   0                0            0             0          0   \n",
       "\n",
       "   calf_width  calfwidth  category  class_blazers_coats_and_jackets  \\\n",
       "0           0          0         0                                0   \n",
       "1           0          0         0                                0   \n",
       "2           0          0         0                                0   \n",
       "3           0          0         0                                0   \n",
       "4           0          0         0                                0   \n",
       "\n",
       "   class_booties  class_boots  class_dress  class_flats  class_handbags  \\\n",
       "0              0            0            0            0               0   \n",
       "1              0            0            0            0               0   \n",
       "2              0            0            0            0               0   \n",
       "3              0            0            0            0               0   \n",
       "4              0            0            0            0               0   \n",
       "\n",
       "   class_jumpsuit_and_romper  class_mules_and_slides  \\\n",
       "0                          0                       0   \n",
       "1                          0                       0   \n",
       "2                          0                       0   \n",
       "3                          0                       0   \n",
       "4                          0                       0   \n",
       "\n",
       "   class_pants_and_leggings  class_pumps_and_heels  class_sandals  \\\n",
       "0                         0                      0              0   \n",
       "1                         0                      0              0   \n",
       "2                         0                      0              0   \n",
       "3                         0                      0              0   \n",
       "4                         0                      0              0   \n",
       "\n",
       "   class_shorts  class_skirts  class_sneakers_and_athletic  class_wedges  \\\n",
       "0             0             0                            0             0   \n",
       "1             0             0                            0             0   \n",
       "2             0             0                            0             0   \n",
       "3             0             0                            0             0   \n",
       "4             0             0                            0             0   \n",
       "\n",
       "   classbelts  classblazerscoatsandjackets  classbooties  classboots  \\\n",
       "0           0                            0             0           0   \n",
       "1           0                            0             0           0   \n",
       "2           0                            0             0           0   \n",
       "3           0                            0             0           0   \n",
       "4           0                            0             0           0   \n",
       "\n",
       "   classdress  classflats  classhandbags  classjumpsuitandromper  \\\n",
       "0           0           0              0                       0   \n",
       "1           0           0              0                       0   \n",
       "2           0           0              0                       0   \n",
       "3           0           0              0                       0   \n",
       "4           0           0              0                       0   \n",
       "\n",
       "   classmulesandslides  classpantsandleggings  classpumpsandheels  \\\n",
       "0                    0                      0                   0   \n",
       "1                    0                      0                   0   \n",
       "2                    0                      0                   0   \n",
       "3                    0                      0                   0   \n",
       "4                    0                      0                   0   \n",
       "\n",
       "   classsandals  classshorts  classskirts  classslippers  \\\n",
       "0             0            0            0              0   \n",
       "1             0            0            0              0   \n",
       "2             0            0            0              0   \n",
       "3             0            0            0              0   \n",
       "4             0            0            0              0   \n",
       "\n",
       "   classsneakersandathletic  classsunglasses  classwedges  \\\n",
       "0                         0                0            0   \n",
       "1                         0                0            0   \n",
       "2                         0                0            0   \n",
       "3                         0                0            0   \n",
       "4                         0                0            0   \n",
       "\n",
       "   closure_blazers_coats_and_jackets  closure_handbag  closure_top  \\\n",
       "0                                  0                0            0   \n",
       "1                                  0                0            0   \n",
       "2                                  0                0            0   \n",
       "3                                  0                0            0   \n",
       "4                                  0                0            0   \n",
       "\n",
       "   closureblazerscoatsandjackets  closurehandbag  closureonepiece  \\\n",
       "0                              0               0                0   \n",
       "1                              0               0                0   \n",
       "2                              0               0                0   \n",
       "3                              0               0                0   \n",
       "4                              0               0                0   \n",
       "\n",
       "   closurepantsandleggings  closureshoe  closureshorts  closureskirts  \\\n",
       "0                        0            0              0              0   \n",
       "1                        0            0              0              0   \n",
       "2                        0            0              0              0   \n",
       "3                        0            0              0              0   \n",
       "4                        0            0              0              0   \n",
       "\n",
       "   closuresweater  closuretop  color  dry_clean_only  drycleanonly  \\\n",
       "0               0           0      0               0             0   \n",
       "1               0           0      0               0             0   \n",
       "2               0           0      0               0             0   \n",
       "3               0           0      0               0             0   \n",
       "4               0           0      0               0             0   \n",
       "\n",
       "   embellishment  fit  gender  heel_height  heel_shape  heelheight  heelshape  \\\n",
       "0              0    0       1            0           0           0          0   \n",
       "1              0    0       0            0           0           0          0   \n",
       "2              0    0       0            0           0           0          0   \n",
       "3              0    0       0            0           0           0          0   \n",
       "4              0    0       0            0           0           0          0   \n",
       "\n",
       "   leg_style  legstyle  legstylejeans  length_blazers_coats_and_jackets  \\\n",
       "0          0         0              0                                 0   \n",
       "1          0         0              0                                 0   \n",
       "2          0         0              0                                 0   \n",
       "3          0         0              0                                 0   \n",
       "4          0         0              0                                 0   \n",
       "\n",
       "   length_one_piece  length_pants_and_leggings  length_shorts  length_skirts  \\\n",
       "0                 0                          0              0              0   \n",
       "1                 0                          0              0              0   \n",
       "2                 0                          0              0              0   \n",
       "3                 0                          0              0              0   \n",
       "4                 0                          0              0              0   \n",
       "\n",
       "   length_top  lengthblazers  lengthblazerscoatsandjackets  \\\n",
       "0           0              0                             0   \n",
       "1           0              0                             0   \n",
       "2           0              0                             0   \n",
       "3           0              0                             0   \n",
       "4           0              0                             0   \n",
       "\n",
       "   lengthcoatsandjackets  lengthjeans  lengthonepiece  lengthpantsandleggings  \\\n",
       "0                      0            0               0                       0   \n",
       "1                      0            0               0                       0   \n",
       "2                      0            0               0                       0   \n",
       "3                      0            0               0                       0   \n",
       "4                      0            0               0                       0   \n",
       "\n",
       "   lengthshorts  lengthskirts  lengthtop  material  material_clothing  \\\n",
       "0             0             0          0         0                  0   \n",
       "1             0             0          0         0                  0   \n",
       "2             0             0          0         0                  0   \n",
       "3             0             0          0         0                  0   \n",
       "4             0             0          0         0                  0   \n",
       "\n",
       "   material_purse  materialclothing  materialpurse  neckline  occasion  \\\n",
       "0               0                 0              0         0         0   \n",
       "1               0                 0              0         0         0   \n",
       "2               0                 0              0         0         0   \n",
       "3               0                 0              0         0         0   \n",
       "4               0                 0              0         0         0   \n",
       "\n",
       "   pattern  primarycolor  print  rise  risejeans  shaft_height  shaftheight  \\\n",
       "0        0             0      0     0          0             0            0   \n",
       "1        0             0      0     0          0             0            0   \n",
       "2        0             0      0     0          0             0            0   \n",
       "3        0             0      0     0          0             0            0   \n",
       "4        0             0      0     0          0             0            0   \n",
       "\n",
       "   sheer  shoe_width  shoewidth  sizing  sleeve_length  sleevelength  strap  \\\n",
       "0      0           0          0       0              0             0      0   \n",
       "1      0           0          0       0              0             0      0   \n",
       "2      0           0          0       0              0             0      0   \n",
       "3      0           0          0       0              0             0      0   \n",
       "4      0           1          0       0              0             0      0   \n",
       "\n",
       "   strap_material  strapmaterial  style  subcategory_accessory  \\\n",
       "0               0              0      0                      0   \n",
       "1               0              0      0                      0   \n",
       "2               0              0      1                      0   \n",
       "3               0              0      1                      0   \n",
       "4               0              0      0                      0   \n",
       "\n",
       "   subcategory_blazers_coats_and_jackets  subcategory_bottom  \\\n",
       "0                                      0                   0   \n",
       "1                                      0                   0   \n",
       "2                                      0                   0   \n",
       "3                                      0                   0   \n",
       "4                                      0                   0   \n",
       "\n",
       "   subcategory_one_piece  subcategory_shoe  subcategory_sweater  \\\n",
       "0                      0                 0                    0   \n",
       "1                      0                 0                    0   \n",
       "2                      0                 0                    0   \n",
       "3                      0                 0                    0   \n",
       "4                      0                 0                    0   \n",
       "\n",
       "   subcategory_sweatshirt_and_hoodie  subcategory_top  subcategoryaccessory  \\\n",
       "0                                  0                0                     0   \n",
       "1                                  0                0                     0   \n",
       "2                                  0                0                     0   \n",
       "3                                  0                0                     0   \n",
       "4                                  0                0                     0   \n",
       "\n",
       "   subcategoryblazerscoatsandjackets  subcategorybottom  subcategoryonepiece  \\\n",
       "0                                  0                  0                    0   \n",
       "1                                  0                  0                    0   \n",
       "2                                  0                  0                    0   \n",
       "3                                  0                  0                    0   \n",
       "4                                  0                  0                    0   \n",
       "\n",
       "   subcategoryshoe  subcategorysweater  subcategorysweatshirtandhoodie  \\\n",
       "0                0                   0                               0   \n",
       "1                0                   0                               0   \n",
       "2                0                   0                               0   \n",
       "3                0                   0                               0   \n",
       "4                0                   0                               0   \n",
       "\n",
       "   subcategorytop  sunglassframematerial  sweatshirtandhoodieclosure  \\\n",
       "0               0                      0                           0   \n",
       "1               0                      0                           0   \n",
       "2               0                      0                           0   \n",
       "3               0                      0                           0   \n",
       "4               0                      0                           0   \n",
       "\n",
       "   toe_style  toeexposure  toestyle  trend  upper_material  uppermaterial  \\\n",
       "0          0            0         0      0               0              0   \n",
       "1          0            0         0      0               0              0   \n",
       "2          0            0         0      0               0              0   \n",
       "3          0            0         0      0               0              0   \n",
       "4          0            0         0      0               0              0   \n",
       "\n",
       "   wash  \n",
       "0     0  \n",
       "1     0  \n",
       "2     0  \n",
       "3     0  \n",
       "4     0  "
      ]
     },
     "execution_count": 48,
     "metadata": {},
     "output_type": "execute_result"
    }
   ],
   "source": [
    "one_hot.head(5)"
   ]
  },
  {
   "cell_type": "code",
   "execution_count": 49,
   "metadata": {},
   "outputs": [
    {
     "data": {
      "text/html": [
       "<div>\n",
       "<style scoped>\n",
       "    .dataframe tbody tr th:only-of-type {\n",
       "        vertical-align: middle;\n",
       "    }\n",
       "\n",
       "    .dataframe tbody tr th {\n",
       "        vertical-align: top;\n",
       "    }\n",
       "\n",
       "    .dataframe thead th {\n",
       "        text-align: right;\n",
       "    }\n",
       "</style>\n",
       "<table border=\"1\" class=\"dataframe\">\n",
       "  <thead>\n",
       "    <tr style=\"text-align: right;\">\n",
       "      <th></th>\n",
       "      <th>style</th>\n",
       "      <th>occasion</th>\n",
       "      <th>fit</th>\n",
       "      <th>Primary Color</th>\n",
       "      <th>Additional Color</th>\n",
       "      <th>primarycolor</th>\n",
       "      <th>additionalcolor</th>\n",
       "      <th>color</th>\n",
       "    </tr>\n",
       "  </thead>\n",
       "  <tbody>\n",
       "    <tr>\n",
       "      <th>0</th>\n",
       "      <td>0</td>\n",
       "      <td>0</td>\n",
       "      <td>0</td>\n",
       "      <td>0</td>\n",
       "      <td>0</td>\n",
       "      <td>0</td>\n",
       "      <td>0</td>\n",
       "      <td>0</td>\n",
       "    </tr>\n",
       "    <tr>\n",
       "      <th>1</th>\n",
       "      <td>0</td>\n",
       "      <td>0</td>\n",
       "      <td>0</td>\n",
       "      <td>1</td>\n",
       "      <td>0</td>\n",
       "      <td>0</td>\n",
       "      <td>0</td>\n",
       "      <td>0</td>\n",
       "    </tr>\n",
       "    <tr>\n",
       "      <th>2</th>\n",
       "      <td>1</td>\n",
       "      <td>0</td>\n",
       "      <td>0</td>\n",
       "      <td>0</td>\n",
       "      <td>0</td>\n",
       "      <td>0</td>\n",
       "      <td>0</td>\n",
       "      <td>0</td>\n",
       "    </tr>\n",
       "    <tr>\n",
       "      <th>3</th>\n",
       "      <td>1</td>\n",
       "      <td>0</td>\n",
       "      <td>0</td>\n",
       "      <td>0</td>\n",
       "      <td>0</td>\n",
       "      <td>0</td>\n",
       "      <td>0</td>\n",
       "      <td>0</td>\n",
       "    </tr>\n",
       "    <tr>\n",
       "      <th>4</th>\n",
       "      <td>0</td>\n",
       "      <td>0</td>\n",
       "      <td>0</td>\n",
       "      <td>0</td>\n",
       "      <td>0</td>\n",
       "      <td>0</td>\n",
       "      <td>0</td>\n",
       "      <td>0</td>\n",
       "    </tr>\n",
       "  </tbody>\n",
       "</table>\n",
       "</div>"
      ],
      "text/plain": [
       "   style  occasion  fit  Primary Color  Additional Color  primarycolor  \\\n",
       "0      0         0    0              0                 0             0   \n",
       "1      0         0    0              1                 0             0   \n",
       "2      1         0    0              0                 0             0   \n",
       "3      1         0    0              0                 0             0   \n",
       "4      0         0    0              0                 0             0   \n",
       "\n",
       "   additionalcolor  color  \n",
       "0                0      0  \n",
       "1                0      0  \n",
       "2                0      0  \n",
       "3                0      0  \n",
       "4                0      0  "
      ]
     },
     "execution_count": 49,
     "metadata": {},
     "output_type": "execute_result"
    }
   ],
   "source": [
    "one_hot = one_hot[final_cat]\n",
    "one_hot.head(5)"
   ]
  },
  {
   "cell_type": "code",
   "execution_count": 50,
   "metadata": {},
   "outputs": [
    {
     "data": {
      "text/plain": [
       "(119345, 8)"
      ]
     },
     "execution_count": 50,
     "metadata": {},
     "output_type": "execute_result"
    }
   ],
   "source": [
    "one_hot.shape"
   ]
  },
  {
   "cell_type": "code",
   "execution_count": 51,
   "metadata": {},
   "outputs": [],
   "source": [
    "df_tag_keep = df_tag.copy()"
   ]
  },
  {
   "cell_type": "code",
   "execution_count": 52,
   "metadata": {},
   "outputs": [],
   "source": [
    "df_tag_keep = pd.concat([df_tag_keep, one_hot], axis=1)"
   ]
  },
  {
   "cell_type": "code",
   "execution_count": 53,
   "metadata": {},
   "outputs": [
    {
     "data": {
      "text/html": [
       "<div>\n",
       "<style scoped>\n",
       "    .dataframe tbody tr th:only-of-type {\n",
       "        vertical-align: middle;\n",
       "    }\n",
       "\n",
       "    .dataframe tbody tr th {\n",
       "        vertical-align: top;\n",
       "    }\n",
       "\n",
       "    .dataframe thead th {\n",
       "        text-align: right;\n",
       "    }\n",
       "</style>\n",
       "<table border=\"1\" class=\"dataframe\">\n",
       "  <thead>\n",
       "    <tr style=\"text-align: right;\">\n",
       "      <th></th>\n",
       "      <th>product_id</th>\n",
       "      <th>product_color_id</th>\n",
       "      <th>attribute_name</th>\n",
       "      <th>attribute_value</th>\n",
       "      <th>style</th>\n",
       "      <th>occasion</th>\n",
       "      <th>fit</th>\n",
       "      <th>Primary Color</th>\n",
       "      <th>Additional Color</th>\n",
       "      <th>primarycolor</th>\n",
       "      <th>additionalcolor</th>\n",
       "      <th>color</th>\n",
       "    </tr>\n",
       "  </thead>\n",
       "  <tbody>\n",
       "    <tr>\n",
       "      <th>0</th>\n",
       "      <td>01DVBTBPHR8WJTCVEN5AJRHF47</td>\n",
       "      <td>01DVBTBPJ41VVT00JJCG8TTZ2W</td>\n",
       "      <td>gender</td>\n",
       "      <td>Women</td>\n",
       "      <td>0</td>\n",
       "      <td>0</td>\n",
       "      <td>0</td>\n",
       "      <td>0</td>\n",
       "      <td>0</td>\n",
       "      <td>0</td>\n",
       "      <td>0</td>\n",
       "      <td>0</td>\n",
       "    </tr>\n",
       "    <tr>\n",
       "      <th>1</th>\n",
       "      <td>01DVA7QRXM928ZM0WWR7HFNTC1</td>\n",
       "      <td>01DVA7QRXXR9F0TWVE1HMC5ZQ3</td>\n",
       "      <td>Primary Color</td>\n",
       "      <td>Blacks</td>\n",
       "      <td>0</td>\n",
       "      <td>0</td>\n",
       "      <td>0</td>\n",
       "      <td>1</td>\n",
       "      <td>0</td>\n",
       "      <td>0</td>\n",
       "      <td>0</td>\n",
       "      <td>0</td>\n",
       "    </tr>\n",
       "    <tr>\n",
       "      <th>2</th>\n",
       "      <td>01DPGV4YRP3Z8J85DASGZ1Y99W</td>\n",
       "      <td>01DPGVGBK6YGNYGNF2S6FSH02T</td>\n",
       "      <td>style</td>\n",
       "      <td>Casual</td>\n",
       "      <td>1</td>\n",
       "      <td>0</td>\n",
       "      <td>0</td>\n",
       "      <td>0</td>\n",
       "      <td>0</td>\n",
       "      <td>0</td>\n",
       "      <td>0</td>\n",
       "      <td>0</td>\n",
       "    </tr>\n",
       "    <tr>\n",
       "      <th>3</th>\n",
       "      <td>01E1JM43NQ3H17PB22EV3074NX</td>\n",
       "      <td>01E1JM5WFWWCCCH3JTTTCYQCEQ</td>\n",
       "      <td>style</td>\n",
       "      <td>Modern</td>\n",
       "      <td>1</td>\n",
       "      <td>0</td>\n",
       "      <td>0</td>\n",
       "      <td>0</td>\n",
       "      <td>0</td>\n",
       "      <td>0</td>\n",
       "      <td>0</td>\n",
       "      <td>0</td>\n",
       "    </tr>\n",
       "    <tr>\n",
       "      <th>4</th>\n",
       "      <td>01DSE8Z2ZDAZKZ2SKCS1E3B3HK</td>\n",
       "      <td>01DSE8ZG8Y3FR8KWE2TY1QDWBF</td>\n",
       "      <td>shoe_width</td>\n",
       "      <td>Medium</td>\n",
       "      <td>0</td>\n",
       "      <td>0</td>\n",
       "      <td>0</td>\n",
       "      <td>0</td>\n",
       "      <td>0</td>\n",
       "      <td>0</td>\n",
       "      <td>0</td>\n",
       "      <td>0</td>\n",
       "    </tr>\n",
       "  </tbody>\n",
       "</table>\n",
       "</div>"
      ],
      "text/plain": [
       "                   product_id            product_color_id attribute_name  \\\n",
       "0  01DVBTBPHR8WJTCVEN5AJRHF47  01DVBTBPJ41VVT00JJCG8TTZ2W         gender   \n",
       "1  01DVA7QRXM928ZM0WWR7HFNTC1  01DVA7QRXXR9F0TWVE1HMC5ZQ3  Primary Color   \n",
       "2  01DPGV4YRP3Z8J85DASGZ1Y99W  01DPGVGBK6YGNYGNF2S6FSH02T          style   \n",
       "3  01E1JM43NQ3H17PB22EV3074NX  01E1JM5WFWWCCCH3JTTTCYQCEQ          style   \n",
       "4  01DSE8Z2ZDAZKZ2SKCS1E3B3HK  01DSE8ZG8Y3FR8KWE2TY1QDWBF     shoe_width   \n",
       "\n",
       "  attribute_value  style  occasion  fit  Primary Color  Additional Color  \\\n",
       "0           Women      0         0    0              0                 0   \n",
       "1          Blacks      0         0    0              1                 0   \n",
       "2          Casual      1         0    0              0                 0   \n",
       "3          Modern      1         0    0              0                 0   \n",
       "4          Medium      0         0    0              0                 0   \n",
       "\n",
       "   primarycolor  additionalcolor  color  \n",
       "0             0                0      0  \n",
       "1             0                0      0  \n",
       "2             0                0      0  \n",
       "3             0                0      0  \n",
       "4             0                0      0  "
      ]
     },
     "execution_count": 53,
     "metadata": {},
     "output_type": "execute_result"
    }
   ],
   "source": [
    "df_tag_keep.head(5)"
   ]
  },
  {
   "cell_type": "code",
   "execution_count": 54,
   "metadata": {},
   "outputs": [
    {
     "data": {
      "text/plain": [
       "(119345, 12)"
      ]
     },
     "execution_count": 54,
     "metadata": {},
     "output_type": "execute_result"
    }
   ],
   "source": [
    "df_tag_keep.shape"
   ]
  },
  {
   "cell_type": "code",
   "execution_count": 55,
   "metadata": {},
   "outputs": [
    {
     "data": {
      "text/plain": [
       "['style',\n",
       " 'occasion',\n",
       " 'fit',\n",
       " 'Primary Color',\n",
       " 'Additional Color',\n",
       " 'primarycolor',\n",
       " 'additionalcolor',\n",
       " 'color']"
      ]
     },
     "execution_count": 55,
     "metadata": {},
     "output_type": "execute_result"
    }
   ],
   "source": [
    "final_cat"
   ]
  },
  {
   "cell_type": "markdown",
   "metadata": {},
   "source": [
    "Now we create dataframes for each category"
   ]
  },
  {
   "cell_type": "code",
   "execution_count": 56,
   "metadata": {},
   "outputs": [],
   "source": [
    "df_style_temp = df_tag_keep[df_tag_keep['style']>0].copy()"
   ]
  },
  {
   "cell_type": "code",
   "execution_count": 57,
   "metadata": {},
   "outputs": [
    {
     "data": {
      "text/plain": [
       "(18335, 12)"
      ]
     },
     "execution_count": 57,
     "metadata": {},
     "output_type": "execute_result"
    }
   ],
   "source": [
    "df_style_temp.shape"
   ]
  },
  {
   "cell_type": "code",
   "execution_count": 58,
   "metadata": {},
   "outputs": [
    {
     "data": {
      "text/plain": [
       "array(['Casual', 'Modern', 'Androgynous', 'Romantic', 'Boho',\n",
       "       'Business Casual', 'Edgy', 'Glam', 'Classic', 'Athleisure',\n",
       "       'Retro', 'modern', 'businesscasual', 'classic', 'glam', 'edgy',\n",
       "       'casual', 'retro', 'boho', 'androgynous', 'romantic', 'athleisure'],\n",
       "      dtype=object)"
      ]
     },
     "execution_count": 58,
     "metadata": {},
     "output_type": "execute_result"
    }
   ],
   "source": [
    "df_style_temp.attribute_value.unique()"
   ]
  },
  {
   "cell_type": "markdown",
   "metadata": {},
   "source": [
    "Looking at the unique values of each category, we can observe that there are similar labels with different capitalization.\n",
    "We convert all of the similar labels to one."
   ]
  },
  {
   "cell_type": "code",
   "execution_count": 59,
   "metadata": {},
   "outputs": [
    {
     "data": {
      "text/plain": [
       "array(['casual', 'modern', 'androgynous', 'romantic', 'boho',\n",
       "       'business casual', 'edgy', 'glam', 'classic', 'athleisure',\n",
       "       'retro'], dtype=object)"
      ]
     },
     "execution_count": 59,
     "metadata": {},
     "output_type": "execute_result"
    }
   ],
   "source": [
    "def change_label_style(x):\n",
    "    x = x.lower()\n",
    "    if x == 'businesscasual':\n",
    "        return 'business casual'\n",
    "    else:\n",
    "        return x\n",
    "\n",
    "df_style_temp.attribute_value = df_style_temp.attribute_value.apply(change_label_style)\n",
    "\n",
    "df_style_temp.attribute_value.unique()"
   ]
  },
  {
   "cell_type": "code",
   "execution_count": 60,
   "metadata": {},
   "outputs": [],
   "source": [
    "# We then one hot encode the labels for each row\n",
    "df_style_temp = df_style_temp[['product_id', 'attribute_name', 'attribute_value']]\n",
    "\n",
    "# Remove duplicates\n",
    "df_style_temp = df_style_temp.drop_duplicates(subset = ['product_id', 'attribute_name', 'attribute_value'], keep='first')\n",
    "\n",
    "# one hot encoding\n",
    "one_hot_style = pd.get_dummies(df_style_temp['attribute_value'])\n",
    "\n",
    "# combining in one dataframe\n",
    "df_style_temp = pd.concat([df_style_temp, one_hot_style], axis=1)"
   ]
  },
  {
   "cell_type": "code",
   "execution_count": 61,
   "metadata": {},
   "outputs": [
    {
     "data": {
      "text/plain": [
       "(10514, 14)"
      ]
     },
     "execution_count": 61,
     "metadata": {},
     "output_type": "execute_result"
    }
   ],
   "source": [
    "df_style_temp.shape"
   ]
  },
  {
   "cell_type": "code",
   "execution_count": 62,
   "metadata": {},
   "outputs": [
    {
     "data": {
      "text/html": [
       "<div>\n",
       "<style scoped>\n",
       "    .dataframe tbody tr th:only-of-type {\n",
       "        vertical-align: middle;\n",
       "    }\n",
       "\n",
       "    .dataframe tbody tr th {\n",
       "        vertical-align: top;\n",
       "    }\n",
       "\n",
       "    .dataframe thead th {\n",
       "        text-align: right;\n",
       "    }\n",
       "</style>\n",
       "<table border=\"1\" class=\"dataframe\">\n",
       "  <thead>\n",
       "    <tr style=\"text-align: right;\">\n",
       "      <th></th>\n",
       "      <th>product_id</th>\n",
       "      <th>attribute_name</th>\n",
       "      <th>attribute_value</th>\n",
       "      <th>androgynous</th>\n",
       "      <th>athleisure</th>\n",
       "      <th>boho</th>\n",
       "      <th>business casual</th>\n",
       "      <th>casual</th>\n",
       "      <th>classic</th>\n",
       "      <th>edgy</th>\n",
       "      <th>glam</th>\n",
       "      <th>modern</th>\n",
       "      <th>retro</th>\n",
       "      <th>romantic</th>\n",
       "    </tr>\n",
       "  </thead>\n",
       "  <tbody>\n",
       "    <tr>\n",
       "      <th>2</th>\n",
       "      <td>01DPGV4YRP3Z8J85DASGZ1Y99W</td>\n",
       "      <td>style</td>\n",
       "      <td>casual</td>\n",
       "      <td>0</td>\n",
       "      <td>0</td>\n",
       "      <td>0</td>\n",
       "      <td>0</td>\n",
       "      <td>1</td>\n",
       "      <td>0</td>\n",
       "      <td>0</td>\n",
       "      <td>0</td>\n",
       "      <td>0</td>\n",
       "      <td>0</td>\n",
       "      <td>0</td>\n",
       "    </tr>\n",
       "    <tr>\n",
       "      <th>129</th>\n",
       "      <td>01DPGV4YRP3Z8J85DASGZ1Y99W</td>\n",
       "      <td>style</td>\n",
       "      <td>business casual</td>\n",
       "      <td>0</td>\n",
       "      <td>0</td>\n",
       "      <td>0</td>\n",
       "      <td>1</td>\n",
       "      <td>0</td>\n",
       "      <td>0</td>\n",
       "      <td>0</td>\n",
       "      <td>0</td>\n",
       "      <td>0</td>\n",
       "      <td>0</td>\n",
       "      <td>0</td>\n",
       "    </tr>\n",
       "    <tr>\n",
       "      <th>409</th>\n",
       "      <td>01DPGV4YRP3Z8J85DASGZ1Y99W</td>\n",
       "      <td>style</td>\n",
       "      <td>classic</td>\n",
       "      <td>0</td>\n",
       "      <td>0</td>\n",
       "      <td>0</td>\n",
       "      <td>0</td>\n",
       "      <td>0</td>\n",
       "      <td>1</td>\n",
       "      <td>0</td>\n",
       "      <td>0</td>\n",
       "      <td>0</td>\n",
       "      <td>0</td>\n",
       "      <td>0</td>\n",
       "    </tr>\n",
       "    <tr>\n",
       "      <th>555</th>\n",
       "      <td>01DPGV4YRP3Z8J85DASGZ1Y99W</td>\n",
       "      <td>style</td>\n",
       "      <td>edgy</td>\n",
       "      <td>0</td>\n",
       "      <td>0</td>\n",
       "      <td>0</td>\n",
       "      <td>0</td>\n",
       "      <td>0</td>\n",
       "      <td>0</td>\n",
       "      <td>1</td>\n",
       "      <td>0</td>\n",
       "      <td>0</td>\n",
       "      <td>0</td>\n",
       "      <td>0</td>\n",
       "    </tr>\n",
       "    <tr>\n",
       "      <th>1474</th>\n",
       "      <td>01DPGV4YRP3Z8J85DASGZ1Y99W</td>\n",
       "      <td>style</td>\n",
       "      <td>modern</td>\n",
       "      <td>0</td>\n",
       "      <td>0</td>\n",
       "      <td>0</td>\n",
       "      <td>0</td>\n",
       "      <td>0</td>\n",
       "      <td>0</td>\n",
       "      <td>0</td>\n",
       "      <td>0</td>\n",
       "      <td>1</td>\n",
       "      <td>0</td>\n",
       "      <td>0</td>\n",
       "    </tr>\n",
       "    <tr>\n",
       "      <th>2407</th>\n",
       "      <td>01DPGV4YRP3Z8J85DASGZ1Y99W</td>\n",
       "      <td>style</td>\n",
       "      <td>androgynous</td>\n",
       "      <td>1</td>\n",
       "      <td>0</td>\n",
       "      <td>0</td>\n",
       "      <td>0</td>\n",
       "      <td>0</td>\n",
       "      <td>0</td>\n",
       "      <td>0</td>\n",
       "      <td>0</td>\n",
       "      <td>0</td>\n",
       "      <td>0</td>\n",
       "      <td>0</td>\n",
       "    </tr>\n",
       "  </tbody>\n",
       "</table>\n",
       "</div>"
      ],
      "text/plain": [
       "                      product_id attribute_name  attribute_value  androgynous  \\\n",
       "2     01DPGV4YRP3Z8J85DASGZ1Y99W          style           casual            0   \n",
       "129   01DPGV4YRP3Z8J85DASGZ1Y99W          style  business casual            0   \n",
       "409   01DPGV4YRP3Z8J85DASGZ1Y99W          style          classic            0   \n",
       "555   01DPGV4YRP3Z8J85DASGZ1Y99W          style             edgy            0   \n",
       "1474  01DPGV4YRP3Z8J85DASGZ1Y99W          style           modern            0   \n",
       "2407  01DPGV4YRP3Z8J85DASGZ1Y99W          style      androgynous            1   \n",
       "\n",
       "      athleisure  boho  business casual  casual  classic  edgy  glam  modern  \\\n",
       "2              0     0                0       1        0     0     0       0   \n",
       "129            0     0                1       0        0     0     0       0   \n",
       "409            0     0                0       0        1     0     0       0   \n",
       "555            0     0                0       0        0     1     0       0   \n",
       "1474           0     0                0       0        0     0     0       1   \n",
       "2407           0     0                0       0        0     0     0       0   \n",
       "\n",
       "      retro  romantic  \n",
       "2         0         0  \n",
       "129       0         0  \n",
       "409       0         0  \n",
       "555       0         0  \n",
       "1474      0         0  \n",
       "2407      0         0  "
      ]
     },
     "execution_count": 62,
     "metadata": {},
     "output_type": "execute_result"
    }
   ],
   "source": [
    "df_style_temp[df_style_temp['product_id']=='01DPGV4YRP3Z8J85DASGZ1Y99W'].head(10)"
   ]
  },
  {
   "cell_type": "markdown",
   "metadata": {},
   "source": [
    "We can observe that same product id with different attribute values needs to combined in one row"
   ]
  },
  {
   "cell_type": "code",
   "execution_count": 63,
   "metadata": {},
   "outputs": [],
   "source": [
    "df_style_sum = df_style_temp.groupby('product_id').sum().reset_index()\n",
    "df_style_concat = df_style_temp.groupby(['product_id', 'attribute_name'])['attribute_value'].apply(lambda x: ', '.join(x)).reset_index()"
   ]
  },
  {
   "cell_type": "code",
   "execution_count": 64,
   "metadata": {},
   "outputs": [],
   "source": [
    "df_style = pd.merge(df_style_sum, df_style_concat[['product_id', 'attribute_value']], on = 'product_id')"
   ]
  },
  {
   "cell_type": "code",
   "execution_count": 65,
   "metadata": {},
   "outputs": [
    {
     "data": {
      "text/plain": [
       "(3916, 13)"
      ]
     },
     "execution_count": 65,
     "metadata": {},
     "output_type": "execute_result"
    }
   ],
   "source": [
    "df_style.shape"
   ]
  },
  {
   "cell_type": "code",
   "execution_count": 66,
   "metadata": {},
   "outputs": [],
   "source": [
    "df_style = pd.merge(df_style, df_pre[['product_id', 'combined']], on = 'product_id', how = \"left\")"
   ]
  },
  {
   "cell_type": "code",
   "execution_count": 67,
   "metadata": {},
   "outputs": [
    {
     "data": {
      "text/plain": [
       "(3916, 14)"
      ]
     },
     "execution_count": 67,
     "metadata": {},
     "output_type": "execute_result"
    }
   ],
   "source": [
    "df_style.shape"
   ]
  },
  {
   "cell_type": "code",
   "execution_count": 68,
   "metadata": {},
   "outputs": [
    {
     "data": {
      "text/plain": [
       "0"
      ]
     },
     "execution_count": 68,
     "metadata": {},
     "output_type": "execute_result"
    }
   ],
   "source": [
    "df_style.combined.isna().sum()"
   ]
  },
  {
   "cell_type": "code",
   "execution_count": 69,
   "metadata": {},
   "outputs": [
    {
     "data": {
      "text/plain": [
       "androgynous        1\n",
       "athleisure         1\n",
       "boho               1\n",
       "business casual    1\n",
       "casual             1\n",
       "classic            1\n",
       "edgy               1\n",
       "glam               1\n",
       "modern             1\n",
       "retro              1\n",
       "romantic           1\n",
       "dtype: uint8"
      ]
     },
     "execution_count": 69,
     "metadata": {},
     "output_type": "execute_result"
    }
   ],
   "source": [
    "df_style.iloc[:,1:-2].max()"
   ]
  },
  {
   "cell_type": "code",
   "execution_count": 70,
   "metadata": {},
   "outputs": [
    {
     "data": {
      "text/html": [
       "<div>\n",
       "<style scoped>\n",
       "    .dataframe tbody tr th:only-of-type {\n",
       "        vertical-align: middle;\n",
       "    }\n",
       "\n",
       "    .dataframe tbody tr th {\n",
       "        vertical-align: top;\n",
       "    }\n",
       "\n",
       "    .dataframe thead th {\n",
       "        text-align: right;\n",
       "    }\n",
       "</style>\n",
       "<table border=\"1\" class=\"dataframe\">\n",
       "  <thead>\n",
       "    <tr style=\"text-align: right;\">\n",
       "      <th></th>\n",
       "      <th>product_id</th>\n",
       "      <th>androgynous</th>\n",
       "      <th>athleisure</th>\n",
       "      <th>boho</th>\n",
       "      <th>business casual</th>\n",
       "      <th>casual</th>\n",
       "      <th>classic</th>\n",
       "      <th>edgy</th>\n",
       "      <th>glam</th>\n",
       "      <th>modern</th>\n",
       "      <th>retro</th>\n",
       "      <th>romantic</th>\n",
       "      <th>attribute_value</th>\n",
       "      <th>combined</th>\n",
       "    </tr>\n",
       "  </thead>\n",
       "  <tbody>\n",
       "    <tr>\n",
       "      <th>0</th>\n",
       "      <td>01DPC9GSTT72KHNN0MNDNKH7RD</td>\n",
       "      <td>0</td>\n",
       "      <td>0</td>\n",
       "      <td>0</td>\n",
       "      <td>1</td>\n",
       "      <td>0</td>\n",
       "      <td>1</td>\n",
       "      <td>0</td>\n",
       "      <td>0</td>\n",
       "      <td>0</td>\n",
       "      <td>0</td>\n",
       "      <td>0</td>\n",
       "      <td>business casual, classic</td>\n",
       "      <td>j crew devon bonded leather tote new wear - - ...</td>\n",
       "    </tr>\n",
       "    <tr>\n",
       "      <th>1</th>\n",
       "      <td>01DPCB2KEAVXXKFVM7FXBNE4VY</td>\n",
       "      <td>0</td>\n",
       "      <td>0</td>\n",
       "      <td>1</td>\n",
       "      <td>0</td>\n",
       "      <td>0</td>\n",
       "      <td>0</td>\n",
       "      <td>0</td>\n",
       "      <td>0</td>\n",
       "      <td>1</td>\n",
       "      <td>0</td>\n",
       "      <td>0</td>\n",
       "      <td>modern, boho</td>\n",
       "      <td>j crew fiona lace - kitten heel ankle boot bla...</td>\n",
       "    </tr>\n",
       "    <tr>\n",
       "      <th>2</th>\n",
       "      <td>01DPCDEF6SYX2E1NT5X7HJBFGY</td>\n",
       "      <td>0</td>\n",
       "      <td>0</td>\n",
       "      <td>0</td>\n",
       "      <td>0</td>\n",
       "      <td>0</td>\n",
       "      <td>1</td>\n",
       "      <td>0</td>\n",
       "      <td>0</td>\n",
       "      <td>0</td>\n",
       "      <td>0</td>\n",
       "      <td>0</td>\n",
       "      <td>classic</td>\n",
       "      <td>j crew ribbed scarf everyday cashmere come qua...</td>\n",
       "    </tr>\n",
       "    <tr>\n",
       "      <th>3</th>\n",
       "      <td>01DPCG1C1P0MQAV9NMS3N1TDAA</td>\n",
       "      <td>0</td>\n",
       "      <td>0</td>\n",
       "      <td>0</td>\n",
       "      <td>0</td>\n",
       "      <td>0</td>\n",
       "      <td>0</td>\n",
       "      <td>0</td>\n",
       "      <td>1</td>\n",
       "      <td>0</td>\n",
       "      <td>0</td>\n",
       "      <td>1</td>\n",
       "      <td>glam, romantic</td>\n",
       "      <td>j crew collection fluted sheath dress ratti ® ...</td>\n",
       "    </tr>\n",
       "    <tr>\n",
       "      <th>4</th>\n",
       "      <td>01DPCHNEW5F2RHJQ3NJMVPK6SE</td>\n",
       "      <td>1</td>\n",
       "      <td>0</td>\n",
       "      <td>0</td>\n",
       "      <td>1</td>\n",
       "      <td>1</td>\n",
       "      <td>1</td>\n",
       "      <td>0</td>\n",
       "      <td>0</td>\n",
       "      <td>0</td>\n",
       "      <td>0</td>\n",
       "      <td>0</td>\n",
       "      <td>business casual, classic, casual, androgynous</td>\n",
       "      <td>j crew long - sleeve everyday cashmere mocknec...</td>\n",
       "    </tr>\n",
       "  </tbody>\n",
       "</table>\n",
       "</div>"
      ],
      "text/plain": [
       "                   product_id  androgynous  athleisure  boho  business casual  \\\n",
       "0  01DPC9GSTT72KHNN0MNDNKH7RD            0           0     0                1   \n",
       "1  01DPCB2KEAVXXKFVM7FXBNE4VY            0           0     1                0   \n",
       "2  01DPCDEF6SYX2E1NT5X7HJBFGY            0           0     0                0   \n",
       "3  01DPCG1C1P0MQAV9NMS3N1TDAA            0           0     0                0   \n",
       "4  01DPCHNEW5F2RHJQ3NJMVPK6SE            1           0     0                1   \n",
       "\n",
       "   casual  classic  edgy  glam  modern  retro  romantic  \\\n",
       "0       0        1     0     0       0      0         0   \n",
       "1       0        0     0     0       1      0         0   \n",
       "2       0        1     0     0       0      0         0   \n",
       "3       0        0     0     1       0      0         1   \n",
       "4       1        1     0     0       0      0         0   \n",
       "\n",
       "                                 attribute_value  \\\n",
       "0                       business casual, classic   \n",
       "1                                   modern, boho   \n",
       "2                                        classic   \n",
       "3                                 glam, romantic   \n",
       "4  business casual, classic, casual, androgynous   \n",
       "\n",
       "                                            combined  \n",
       "0  j crew devon bonded leather tote new wear - - ...  \n",
       "1  j crew fiona lace - kitten heel ankle boot bla...  \n",
       "2  j crew ribbed scarf everyday cashmere come qua...  \n",
       "3  j crew collection fluted sheath dress ratti ® ...  \n",
       "4  j crew long - sleeve everyday cashmere mocknec...  "
      ]
     },
     "execution_count": 70,
     "metadata": {},
     "output_type": "execute_result"
    }
   ],
   "source": [
    "df_style.head(5)"
   ]
  },
  {
   "cell_type": "markdown",
   "metadata": {},
   "source": [
    "We repeat the above steps done for style for other three categories"
   ]
  },
  {
   "cell_type": "code",
   "execution_count": 71,
   "metadata": {},
   "outputs": [],
   "source": [
    "# occasion"
   ]
  },
  {
   "cell_type": "code",
   "execution_count": 72,
   "metadata": {},
   "outputs": [],
   "source": [
    "df_occasion_temp = df_tag_keep[df_tag_keep['occasion']>0].copy()"
   ]
  },
  {
   "cell_type": "code",
   "execution_count": 73,
   "metadata": {},
   "outputs": [
    {
     "data": {
      "text/plain": [
       "(15694, 12)"
      ]
     },
     "execution_count": 73,
     "metadata": {},
     "output_type": "execute_result"
    }
   ],
   "source": [
    "df_occasion_temp.shape"
   ]
  },
  {
   "cell_type": "code",
   "execution_count": 74,
   "metadata": {},
   "outputs": [
    {
     "data": {
      "text/plain": [
       "array(['Weekend', 'Day to Night', 'Work', 'Vacation', 'Night Out',\n",
       "       'Workout', 'weekend', 'workout', 'daytonight', 'coldweather',\n",
       "       'vacation', 'nightout', 'work'], dtype=object)"
      ]
     },
     "execution_count": 74,
     "metadata": {},
     "output_type": "execute_result"
    }
   ],
   "source": [
    "df_occasion_temp.attribute_value.unique()"
   ]
  },
  {
   "cell_type": "markdown",
   "metadata": {},
   "source": [
    "Looking at the unique values of each category, we can observe that there are similar labels with different capitalization.\n",
    "We convert all of the similar labels to one."
   ]
  },
  {
   "cell_type": "code",
   "execution_count": 75,
   "metadata": {},
   "outputs": [
    {
     "data": {
      "text/plain": [
       "array(['weekend', 'day to night', 'work', 'vacation', 'night out',\n",
       "       'workout', 'coldweather'], dtype=object)"
      ]
     },
     "execution_count": 75,
     "metadata": {},
     "output_type": "execute_result"
    }
   ],
   "source": [
    "def change_label_occasion(x):\n",
    "    x = x.lower()\n",
    "    if x == 'daytonight':\n",
    "        return 'day to night'\n",
    "    if x == 'nightout':\n",
    "        return 'night out'\n",
    "    else:\n",
    "        return x\n",
    "\n",
    "df_occasion_temp.attribute_value = df_occasion_temp.attribute_value.apply(change_label_occasion)\n",
    "\n",
    "df_occasion_temp.attribute_value.unique()"
   ]
  },
  {
   "cell_type": "code",
   "execution_count": 76,
   "metadata": {},
   "outputs": [],
   "source": [
    "# We then one hot encode the labels for each row\n",
    "df_occasion_temp = df_occasion_temp[['product_id', 'attribute_name', 'attribute_value']]\n",
    "\n",
    "# Remove duplicates\n",
    "df_occasion_temp = df_occasion_temp.drop_duplicates(subset = ['product_id', 'attribute_name', 'attribute_value'], keep='first')\n",
    "\n",
    "# one hot encoding\n",
    "one_hot_occasion = pd.get_dummies(df_occasion_temp['attribute_value'])\n",
    "\n",
    "# combining in one dataframe\n",
    "df_occasion_temp = pd.concat([df_occasion_temp, one_hot_occasion], axis=1)"
   ]
  },
  {
   "cell_type": "code",
   "execution_count": 77,
   "metadata": {},
   "outputs": [
    {
     "data": {
      "text/plain": [
       "(9054, 10)"
      ]
     },
     "execution_count": 77,
     "metadata": {},
     "output_type": "execute_result"
    }
   ],
   "source": [
    "df_occasion_temp.shape"
   ]
  },
  {
   "cell_type": "code",
   "execution_count": 78,
   "metadata": {},
   "outputs": [],
   "source": [
    "df_occasion_sum = df_occasion_temp.groupby('product_id').sum().reset_index()\n",
    "df_occasion_concat = df_occasion_temp.groupby(['product_id', 'attribute_name'])['attribute_value'].apply(lambda x: ', '.join(x)).reset_index()"
   ]
  },
  {
   "cell_type": "code",
   "execution_count": 79,
   "metadata": {},
   "outputs": [],
   "source": [
    "df_occasion = pd.merge(df_occasion_sum, df_occasion_concat[['product_id', 'attribute_value']], on = 'product_id')"
   ]
  },
  {
   "cell_type": "code",
   "execution_count": 80,
   "metadata": {},
   "outputs": [
    {
     "data": {
      "text/plain": [
       "(3914, 9)"
      ]
     },
     "execution_count": 80,
     "metadata": {},
     "output_type": "execute_result"
    }
   ],
   "source": [
    "df_occasion.shape"
   ]
  },
  {
   "cell_type": "code",
   "execution_count": 81,
   "metadata": {},
   "outputs": [],
   "source": [
    "df_occasion = pd.merge(df_occasion, df_pre[['product_id', 'combined']], on = 'product_id')"
   ]
  },
  {
   "cell_type": "code",
   "execution_count": 82,
   "metadata": {},
   "outputs": [
    {
     "data": {
      "text/plain": [
       "(3914, 10)"
      ]
     },
     "execution_count": 82,
     "metadata": {},
     "output_type": "execute_result"
    }
   ],
   "source": [
    "df_occasion.shape"
   ]
  },
  {
   "cell_type": "code",
   "execution_count": 83,
   "metadata": {},
   "outputs": [
    {
     "data": {
      "text/plain": [
       "0"
      ]
     },
     "execution_count": 83,
     "metadata": {},
     "output_type": "execute_result"
    }
   ],
   "source": [
    "df_occasion.combined.isna().sum()"
   ]
  },
  {
   "cell_type": "code",
   "execution_count": 84,
   "metadata": {},
   "outputs": [
    {
     "data": {
      "text/plain": [
       "coldweather     1\n",
       "day to night    1\n",
       "night out       1\n",
       "vacation        1\n",
       "weekend         1\n",
       "work            1\n",
       "workout         1\n",
       "dtype: uint8"
      ]
     },
     "execution_count": 84,
     "metadata": {},
     "output_type": "execute_result"
    }
   ],
   "source": [
    "df_occasion.iloc[:,1:-2].max()"
   ]
  },
  {
   "cell_type": "code",
   "execution_count": 85,
   "metadata": {
    "scrolled": true
   },
   "outputs": [
    {
     "data": {
      "text/html": [
       "<div>\n",
       "<style scoped>\n",
       "    .dataframe tbody tr th:only-of-type {\n",
       "        vertical-align: middle;\n",
       "    }\n",
       "\n",
       "    .dataframe tbody tr th {\n",
       "        vertical-align: top;\n",
       "    }\n",
       "\n",
       "    .dataframe thead th {\n",
       "        text-align: right;\n",
       "    }\n",
       "</style>\n",
       "<table border=\"1\" class=\"dataframe\">\n",
       "  <thead>\n",
       "    <tr style=\"text-align: right;\">\n",
       "      <th></th>\n",
       "      <th>product_id</th>\n",
       "      <th>coldweather</th>\n",
       "      <th>day to night</th>\n",
       "      <th>night out</th>\n",
       "      <th>vacation</th>\n",
       "      <th>weekend</th>\n",
       "      <th>work</th>\n",
       "      <th>workout</th>\n",
       "      <th>attribute_value</th>\n",
       "      <th>combined</th>\n",
       "    </tr>\n",
       "  </thead>\n",
       "  <tbody>\n",
       "    <tr>\n",
       "      <th>0</th>\n",
       "      <td>01DPC9GSTT72KHNN0MNDNKH7RD</td>\n",
       "      <td>0</td>\n",
       "      <td>1</td>\n",
       "      <td>0</td>\n",
       "      <td>0</td>\n",
       "      <td>0</td>\n",
       "      <td>1</td>\n",
       "      <td>0</td>\n",
       "      <td>day to night, work</td>\n",
       "      <td>j crew devon bonded leather tote new wear - - ...</td>\n",
       "    </tr>\n",
       "    <tr>\n",
       "      <th>1</th>\n",
       "      <td>01DPCB2KEAVXXKFVM7FXBNE4VY</td>\n",
       "      <td>0</td>\n",
       "      <td>1</td>\n",
       "      <td>0</td>\n",
       "      <td>0</td>\n",
       "      <td>1</td>\n",
       "      <td>1</td>\n",
       "      <td>0</td>\n",
       "      <td>day to night, weekend, work</td>\n",
       "      <td>j crew fiona lace - kitten heel ankle boot bla...</td>\n",
       "    </tr>\n",
       "    <tr>\n",
       "      <th>2</th>\n",
       "      <td>01DPCG1C1P0MQAV9NMS3N1TDAA</td>\n",
       "      <td>0</td>\n",
       "      <td>0</td>\n",
       "      <td>1</td>\n",
       "      <td>0</td>\n",
       "      <td>1</td>\n",
       "      <td>0</td>\n",
       "      <td>0</td>\n",
       "      <td>weekend, night out</td>\n",
       "      <td>j crew collection fluted sheath dress ratti ® ...</td>\n",
       "    </tr>\n",
       "    <tr>\n",
       "      <th>3</th>\n",
       "      <td>01DPCHNEW5F2RHJQ3NJMVPK6SE</td>\n",
       "      <td>0</td>\n",
       "      <td>1</td>\n",
       "      <td>0</td>\n",
       "      <td>0</td>\n",
       "      <td>1</td>\n",
       "      <td>1</td>\n",
       "      <td>0</td>\n",
       "      <td>work, day to night, weekend</td>\n",
       "      <td>j crew long - sleeve everyday cashmere mocknec...</td>\n",
       "    </tr>\n",
       "    <tr>\n",
       "      <th>4</th>\n",
       "      <td>01DPCHNQM0PA0SXZZZX85PF2ZJ</td>\n",
       "      <td>0</td>\n",
       "      <td>1</td>\n",
       "      <td>0</td>\n",
       "      <td>0</td>\n",
       "      <td>1</td>\n",
       "      <td>0</td>\n",
       "      <td>0</td>\n",
       "      <td>day to night, weekend</td>\n",
       "      <td>j crew slim boyfriend jean hydrangea blue wash...</td>\n",
       "    </tr>\n",
       "  </tbody>\n",
       "</table>\n",
       "</div>"
      ],
      "text/plain": [
       "                   product_id  coldweather  day to night  night out  vacation  \\\n",
       "0  01DPC9GSTT72KHNN0MNDNKH7RD            0             1          0         0   \n",
       "1  01DPCB2KEAVXXKFVM7FXBNE4VY            0             1          0         0   \n",
       "2  01DPCG1C1P0MQAV9NMS3N1TDAA            0             0          1         0   \n",
       "3  01DPCHNEW5F2RHJQ3NJMVPK6SE            0             1          0         0   \n",
       "4  01DPCHNQM0PA0SXZZZX85PF2ZJ            0             1          0         0   \n",
       "\n",
       "   weekend  work  workout              attribute_value  \\\n",
       "0        0     1        0           day to night, work   \n",
       "1        1     1        0  day to night, weekend, work   \n",
       "2        1     0        0           weekend, night out   \n",
       "3        1     1        0  work, day to night, weekend   \n",
       "4        1     0        0        day to night, weekend   \n",
       "\n",
       "                                            combined  \n",
       "0  j crew devon bonded leather tote new wear - - ...  \n",
       "1  j crew fiona lace - kitten heel ankle boot bla...  \n",
       "2  j crew collection fluted sheath dress ratti ® ...  \n",
       "3  j crew long - sleeve everyday cashmere mocknec...  \n",
       "4  j crew slim boyfriend jean hydrangea blue wash...  "
      ]
     },
     "execution_count": 85,
     "metadata": {},
     "output_type": "execute_result"
    }
   ],
   "source": [
    "df_occasion.head(5)"
   ]
  },
  {
   "cell_type": "code",
   "execution_count": 86,
   "metadata": {},
   "outputs": [],
   "source": [
    "# fit"
   ]
  },
  {
   "cell_type": "code",
   "execution_count": 87,
   "metadata": {},
   "outputs": [],
   "source": [
    "df_fit_temp = df_tag_keep[df_tag_keep['fit']>0].copy()"
   ]
  },
  {
   "cell_type": "code",
   "execution_count": 88,
   "metadata": {},
   "outputs": [
    {
     "data": {
      "text/plain": [
       "(4728, 12)"
      ]
     },
     "execution_count": 88,
     "metadata": {},
     "output_type": "execute_result"
    }
   ],
   "source": [
    "df_fit_temp.shape"
   ]
  },
  {
   "cell_type": "code",
   "execution_count": 89,
   "metadata": {},
   "outputs": [
    {
     "data": {
      "text/plain": [
       "array(['Semi-Fitted', 'Straight / Regular', 'Relaxed',\n",
       "       'Fitted / Tailored', 'Oversized', 'straightregular', 'semifitted',\n",
       "       'relaxed', 'oversized', 'fittedtailored'], dtype=object)"
      ]
     },
     "execution_count": 89,
     "metadata": {},
     "output_type": "execute_result"
    }
   ],
   "source": [
    "df_fit_temp.attribute_value.unique()"
   ]
  },
  {
   "cell_type": "markdown",
   "metadata": {},
   "source": [
    "Looking at the unique values of each category, we can observe that there are similar labels with different capitalization.\n",
    "We convert all of the similar labels to one."
   ]
  },
  {
   "cell_type": "code",
   "execution_count": 90,
   "metadata": {},
   "outputs": [
    {
     "data": {
      "text/plain": [
       "array(['semi-fitted', 'straight / regular', 'relaxed',\n",
       "       'fitted / tailored', 'oversized'], dtype=object)"
      ]
     },
     "execution_count": 90,
     "metadata": {},
     "output_type": "execute_result"
    }
   ],
   "source": [
    "def change_label_fit(x):\n",
    "    x = x.lower()\n",
    "    if x == 'semifitted':\n",
    "        return 'semi-fitted'\n",
    "    if x == 'straightregular':\n",
    "        return 'straight / regular'\n",
    "    if x == 'fittedtailored':\n",
    "        return 'fitted / tailored'\n",
    "    else:\n",
    "        return x\n",
    "\n",
    "df_fit_temp.attribute_value = df_fit_temp.attribute_value.apply(change_label_fit)\n",
    "\n",
    "df_fit_temp.attribute_value.unique()"
   ]
  },
  {
   "cell_type": "code",
   "execution_count": 91,
   "metadata": {},
   "outputs": [],
   "source": [
    "# We then one hot encode the labels for each row\n",
    "df_fit_temp = df_fit_temp[['product_id', 'attribute_name', 'attribute_value']]\n",
    "\n",
    "# Remove duplicates\n",
    "df_fit_temp = df_fit_temp.drop_duplicates(subset = ['product_id', 'attribute_name', 'attribute_value'], keep='first')\n",
    "\n",
    "# one hot encoding\n",
    "one_hot_fit = pd.get_dummies(df_fit_temp['attribute_value'])\n",
    "\n",
    "# combining in one dataframe\n",
    "df_fit_temp = pd.concat([df_fit_temp, one_hot_fit], axis=1)"
   ]
  },
  {
   "cell_type": "code",
   "execution_count": 92,
   "metadata": {},
   "outputs": [
    {
     "data": {
      "text/plain": [
       "(3040, 8)"
      ]
     },
     "execution_count": 92,
     "metadata": {},
     "output_type": "execute_result"
    }
   ],
   "source": [
    "df_fit_temp.shape"
   ]
  },
  {
   "cell_type": "code",
   "execution_count": 93,
   "metadata": {},
   "outputs": [],
   "source": [
    "df_fit_sum = df_fit_temp.groupby('product_id').sum().reset_index()\n",
    "df_fit_concat = df_fit_temp.groupby(['product_id', 'attribute_name'])['attribute_value'].apply(lambda x: ', '.join(x)).reset_index()"
   ]
  },
  {
   "cell_type": "code",
   "execution_count": 94,
   "metadata": {},
   "outputs": [],
   "source": [
    "df_fit = pd.merge(df_fit_sum, df_fit_concat[['product_id', 'attribute_value']], on = 'product_id')"
   ]
  },
  {
   "cell_type": "code",
   "execution_count": 95,
   "metadata": {},
   "outputs": [
    {
     "data": {
      "text/plain": [
       "(2949, 7)"
      ]
     },
     "execution_count": 95,
     "metadata": {},
     "output_type": "execute_result"
    }
   ],
   "source": [
    "df_fit.shape"
   ]
  },
  {
   "cell_type": "code",
   "execution_count": 96,
   "metadata": {},
   "outputs": [],
   "source": [
    "df_fit = pd.merge(df_fit, df_pre[['product_id', 'combined']], on = 'product_id')"
   ]
  },
  {
   "cell_type": "code",
   "execution_count": 97,
   "metadata": {},
   "outputs": [
    {
     "data": {
      "text/plain": [
       "(2949, 8)"
      ]
     },
     "execution_count": 97,
     "metadata": {},
     "output_type": "execute_result"
    }
   ],
   "source": [
    "df_fit.shape"
   ]
  },
  {
   "cell_type": "code",
   "execution_count": 98,
   "metadata": {},
   "outputs": [
    {
     "data": {
      "text/plain": [
       "0"
      ]
     },
     "execution_count": 98,
     "metadata": {},
     "output_type": "execute_result"
    }
   ],
   "source": [
    "df_fit.combined.isna().sum()"
   ]
  },
  {
   "cell_type": "code",
   "execution_count": 99,
   "metadata": {},
   "outputs": [
    {
     "data": {
      "text/plain": [
       "fitted / tailored     1\n",
       "oversized             1\n",
       "relaxed               1\n",
       "semi-fitted           1\n",
       "straight / regular    1\n",
       "dtype: uint8"
      ]
     },
     "execution_count": 99,
     "metadata": {},
     "output_type": "execute_result"
    }
   ],
   "source": [
    "df_fit.iloc[:,1:-2].max()"
   ]
  },
  {
   "cell_type": "code",
   "execution_count": 100,
   "metadata": {
    "scrolled": false
   },
   "outputs": [
    {
     "data": {
      "text/html": [
       "<div>\n",
       "<style scoped>\n",
       "    .dataframe tbody tr th:only-of-type {\n",
       "        vertical-align: middle;\n",
       "    }\n",
       "\n",
       "    .dataframe tbody tr th {\n",
       "        vertical-align: top;\n",
       "    }\n",
       "\n",
       "    .dataframe thead th {\n",
       "        text-align: right;\n",
       "    }\n",
       "</style>\n",
       "<table border=\"1\" class=\"dataframe\">\n",
       "  <thead>\n",
       "    <tr style=\"text-align: right;\">\n",
       "      <th></th>\n",
       "      <th>product_id</th>\n",
       "      <th>fitted / tailored</th>\n",
       "      <th>oversized</th>\n",
       "      <th>relaxed</th>\n",
       "      <th>semi-fitted</th>\n",
       "      <th>straight / regular</th>\n",
       "      <th>attribute_value</th>\n",
       "      <th>combined</th>\n",
       "    </tr>\n",
       "  </thead>\n",
       "  <tbody>\n",
       "    <tr>\n",
       "      <th>0</th>\n",
       "      <td>01DPCG1C1P0MQAV9NMS3N1TDAA</td>\n",
       "      <td>0</td>\n",
       "      <td>0</td>\n",
       "      <td>0</td>\n",
       "      <td>1</td>\n",
       "      <td>0</td>\n",
       "      <td>semi-fitted</td>\n",
       "      <td>j crew collection fluted sheath dress ratti ® ...</td>\n",
       "    </tr>\n",
       "    <tr>\n",
       "      <th>1</th>\n",
       "      <td>01DPCHNEW5F2RHJQ3NJMVPK6SE</td>\n",
       "      <td>0</td>\n",
       "      <td>0</td>\n",
       "      <td>1</td>\n",
       "      <td>0</td>\n",
       "      <td>0</td>\n",
       "      <td>relaxed</td>\n",
       "      <td>j crew long - sleeve everyday cashmere mocknec...</td>\n",
       "    </tr>\n",
       "    <tr>\n",
       "      <th>2</th>\n",
       "      <td>01DPCHNQM0PA0SXZZZX85PF2ZJ</td>\n",
       "      <td>0</td>\n",
       "      <td>0</td>\n",
       "      <td>1</td>\n",
       "      <td>0</td>\n",
       "      <td>1</td>\n",
       "      <td>straight / regular, relaxed</td>\n",
       "      <td>j crew slim boyfriend jean hydrangea blue wash...</td>\n",
       "    </tr>\n",
       "    <tr>\n",
       "      <th>3</th>\n",
       "      <td>01DPCQ0CNKKHD3899ZEY9SEDHA</td>\n",
       "      <td>0</td>\n",
       "      <td>0</td>\n",
       "      <td>0</td>\n",
       "      <td>0</td>\n",
       "      <td>1</td>\n",
       "      <td>straight / regular</td>\n",
       "      <td>j crew curvy slim stretch perfect shirt stripe...</td>\n",
       "    </tr>\n",
       "    <tr>\n",
       "      <th>4</th>\n",
       "      <td>01DPCXVC45EFA5ZYKAXT412KG1</td>\n",
       "      <td>0</td>\n",
       "      <td>0</td>\n",
       "      <td>0</td>\n",
       "      <td>1</td>\n",
       "      <td>0</td>\n",
       "      <td>semi-fitted</td>\n",
       "      <td>j crew collection cropped moto jacket crackled...</td>\n",
       "    </tr>\n",
       "  </tbody>\n",
       "</table>\n",
       "</div>"
      ],
      "text/plain": [
       "                   product_id  fitted / tailored  oversized  relaxed  \\\n",
       "0  01DPCG1C1P0MQAV9NMS3N1TDAA                  0          0        0   \n",
       "1  01DPCHNEW5F2RHJQ3NJMVPK6SE                  0          0        1   \n",
       "2  01DPCHNQM0PA0SXZZZX85PF2ZJ                  0          0        1   \n",
       "3  01DPCQ0CNKKHD3899ZEY9SEDHA                  0          0        0   \n",
       "4  01DPCXVC45EFA5ZYKAXT412KG1                  0          0        0   \n",
       "\n",
       "   semi-fitted  straight / regular              attribute_value  \\\n",
       "0            1                   0                  semi-fitted   \n",
       "1            0                   0                      relaxed   \n",
       "2            0                   1  straight / regular, relaxed   \n",
       "3            0                   1           straight / regular   \n",
       "4            1                   0                  semi-fitted   \n",
       "\n",
       "                                            combined  \n",
       "0  j crew collection fluted sheath dress ratti ® ...  \n",
       "1  j crew long - sleeve everyday cashmere mocknec...  \n",
       "2  j crew slim boyfriend jean hydrangea blue wash...  \n",
       "3  j crew curvy slim stretch perfect shirt stripe...  \n",
       "4  j crew collection cropped moto jacket crackled...  "
      ]
     },
     "execution_count": 100,
     "metadata": {},
     "output_type": "execute_result"
    }
   ],
   "source": [
    "df_fit.head(5)"
   ]
  },
  {
   "cell_type": "code",
   "execution_count": 101,
   "metadata": {},
   "outputs": [],
   "source": [
    "# color"
   ]
  },
  {
   "cell_type": "code",
   "execution_count": 102,
   "metadata": {},
   "outputs": [],
   "source": [
    "df_color_temp = df_tag_keep[(df_tag_keep['color']>0)|\n",
    "                      (df_tag_keep['Primary Color']>0)|\n",
    "                      (df_tag_keep['Additional Color']>0)|\n",
    "                      (df_tag_keep['primarycolor']>0)|\n",
    "                      (df_tag_keep['additionalcolor']>0)].copy()"
   ]
  },
  {
   "cell_type": "code",
   "execution_count": 103,
   "metadata": {},
   "outputs": [
    {
     "data": {
      "text/plain": [
       "(9856, 12)"
      ]
     },
     "execution_count": 103,
     "metadata": {},
     "output_type": "execute_result"
    }
   ],
   "source": [
    "df_color_temp.shape"
   ]
  },
  {
   "cell_type": "code",
   "execution_count": 104,
   "metadata": {},
   "outputs": [
    {
     "data": {
      "text/plain": [
       "array(['Blacks', 'Pinks', 'Browns', 'Golds', 'Whites', 'Reds', 'Navy',\n",
       "       'Beiges', 'Blues', 'Greens', 'Silvers', 'Neutrals', 'Yellows',\n",
       "       'Grays', 'Burgundies', 'Purples', 'Multi', 'Oranges', 'Teal',\n",
       "       'blues', 'blacks', 'yellows', 'oranges', 'whites', 'multi', 'navy',\n",
       "       'darkbrowns', 'grays', 'greens', 'pinks', 'beiges', 'golds',\n",
       "       'silvers', 'lightbrowns', 'reds', 'lightbrown', 'burgundies',\n",
       "       'purples', 'teal'], dtype=object)"
      ]
     },
     "execution_count": 104,
     "metadata": {},
     "output_type": "execute_result"
    }
   ],
   "source": [
    "df_color_temp.attribute_value.unique()"
   ]
  },
  {
   "cell_type": "markdown",
   "metadata": {},
   "source": [
    "Looking at the unique values of each category, we can observe that there are similar labels with different capitalization.\n",
    "We convert all of the similar labels to one."
   ]
  },
  {
   "cell_type": "code",
   "execution_count": 105,
   "metadata": {},
   "outputs": [
    {
     "data": {
      "text/plain": [
       "array(['blacks', 'pinks', 'browns', 'golds', 'whites', 'reds', 'navy',\n",
       "       'beiges', 'blues', 'greens', 'silvers', 'neutrals', 'yellows',\n",
       "       'grays', 'burgundies', 'purples', 'multi', 'oranges', 'teal',\n",
       "       'darkbrowns', 'lightbrowns'], dtype=object)"
      ]
     },
     "execution_count": 105,
     "metadata": {},
     "output_type": "execute_result"
    }
   ],
   "source": [
    "def change_label_color(x):\n",
    "    x = x.lower()\n",
    "    if x == 'lightbrown':\n",
    "        return 'lightbrowns'\n",
    "    else:\n",
    "        return x\n",
    "\n",
    "df_color_temp.attribute_value = df_color_temp.attribute_value.apply(change_label_color)\n",
    "\n",
    "df_color_temp.attribute_value.unique()"
   ]
  },
  {
   "cell_type": "code",
   "execution_count": 106,
   "metadata": {},
   "outputs": [],
   "source": [
    "# We then one hot encode the labels for each row\n",
    "df_color_temp = df_color_temp[['product_id', 'attribute_name', 'attribute_value']]\n",
    "\n",
    "# Remove duplicates\n",
    "df_color_temp = df_color_temp.drop_duplicates(subset = ['product_id', 'attribute_name', 'attribute_value'], keep='first')\n",
    "\n",
    "# one hot encoding\n",
    "one_hot_color = pd.get_dummies(df_color_temp['attribute_value'])\n",
    "\n",
    "# combining in one dataframe\n",
    "df_color_temp = pd.concat([df_color_temp, one_hot_color], axis=1)"
   ]
  },
  {
   "cell_type": "code",
   "execution_count": 107,
   "metadata": {},
   "outputs": [
    {
     "data": {
      "text/plain": [
       "(9346, 24)"
      ]
     },
     "execution_count": 107,
     "metadata": {},
     "output_type": "execute_result"
    }
   ],
   "source": [
    "df_color_temp.shape"
   ]
  },
  {
   "cell_type": "code",
   "execution_count": 108,
   "metadata": {},
   "outputs": [],
   "source": [
    "df_color_sum = df_color_temp.groupby('product_id').sum().reset_index()\n",
    "df_color_concat = df_color_temp.groupby(['product_id', 'attribute_name'])['attribute_value'].apply(lambda x: ', '.join(x)).reset_index()"
   ]
  },
  {
   "cell_type": "code",
   "execution_count": 109,
   "metadata": {},
   "outputs": [],
   "source": [
    "df_color = pd.merge(df_color_sum, df_color_concat[['product_id', 'attribute_value']], on = 'product_id')"
   ]
  },
  {
   "cell_type": "code",
   "execution_count": 110,
   "metadata": {},
   "outputs": [
    {
     "data": {
      "text/plain": [
       "(6672, 23)"
      ]
     },
     "execution_count": 110,
     "metadata": {},
     "output_type": "execute_result"
    }
   ],
   "source": [
    "df_color.shape"
   ]
  },
  {
   "cell_type": "code",
   "execution_count": 111,
   "metadata": {},
   "outputs": [],
   "source": [
    "df_color = pd.merge(df_color, df_pre[['product_id', 'combined']], on = 'product_id')"
   ]
  },
  {
   "cell_type": "code",
   "execution_count": 112,
   "metadata": {},
   "outputs": [
    {
     "data": {
      "text/plain": [
       "(6672, 24)"
      ]
     },
     "execution_count": 112,
     "metadata": {},
     "output_type": "execute_result"
    }
   ],
   "source": [
    "df_color.shape"
   ]
  },
  {
   "cell_type": "code",
   "execution_count": 113,
   "metadata": {},
   "outputs": [
    {
     "data": {
      "text/plain": [
       "0"
      ]
     },
     "execution_count": 113,
     "metadata": {},
     "output_type": "execute_result"
    }
   ],
   "source": [
    "df_color.combined.isna().sum()"
   ]
  },
  {
   "cell_type": "code",
   "execution_count": 114,
   "metadata": {},
   "outputs": [
    {
     "data": {
      "text/plain": [
       "beiges         4\n",
       "blacks         4\n",
       "blues          4\n",
       "browns         2\n",
       "burgundies     2\n",
       "darkbrowns     2\n",
       "golds          4\n",
       "grays          4\n",
       "greens         4\n",
       "lightbrowns    2\n",
       "multi          4\n",
       "navy           2\n",
       "neutrals       1\n",
       "oranges        3\n",
       "pinks          4\n",
       "purples        4\n",
       "reds           4\n",
       "silvers        2\n",
       "teal           2\n",
       "whites         4\n",
       "yellows        3\n",
       "dtype: uint8"
      ]
     },
     "execution_count": 114,
     "metadata": {},
     "output_type": "execute_result"
    }
   ],
   "source": [
    "df_color.iloc[:,1:-2].max()"
   ]
  },
  {
   "cell_type": "code",
   "execution_count": 115,
   "metadata": {},
   "outputs": [],
   "source": [
    "def ret_1(x):\n",
    "    \n",
    "    if x>=1:\n",
    "        return 1\n",
    "    else:\n",
    "        return 0"
   ]
  },
  {
   "cell_type": "code",
   "execution_count": 116,
   "metadata": {},
   "outputs": [],
   "source": [
    "for i in list(df_color.iloc[:,1:-2].columns):\n",
    "    df_color[i] = df_color[i].apply(ret_1)"
   ]
  },
  {
   "cell_type": "code",
   "execution_count": 117,
   "metadata": {},
   "outputs": [
    {
     "data": {
      "text/plain": [
       "beiges         1\n",
       "blacks         1\n",
       "blues          1\n",
       "browns         1\n",
       "burgundies     1\n",
       "darkbrowns     1\n",
       "golds          1\n",
       "grays          1\n",
       "greens         1\n",
       "lightbrowns    1\n",
       "multi          1\n",
       "navy           1\n",
       "neutrals       1\n",
       "oranges        1\n",
       "pinks          1\n",
       "purples        1\n",
       "reds           1\n",
       "silvers        1\n",
       "teal           1\n",
       "whites         1\n",
       "yellows        1\n",
       "dtype: int64"
      ]
     },
     "execution_count": 117,
     "metadata": {},
     "output_type": "execute_result"
    }
   ],
   "source": [
    "df_color.iloc[:,1:-2].max()"
   ]
  },
  {
   "cell_type": "code",
   "execution_count": 118,
   "metadata": {
    "scrolled": true
   },
   "outputs": [
    {
     "data": {
      "text/html": [
       "<div>\n",
       "<style scoped>\n",
       "    .dataframe tbody tr th:only-of-type {\n",
       "        vertical-align: middle;\n",
       "    }\n",
       "\n",
       "    .dataframe tbody tr th {\n",
       "        vertical-align: top;\n",
       "    }\n",
       "\n",
       "    .dataframe thead th {\n",
       "        text-align: right;\n",
       "    }\n",
       "</style>\n",
       "<table border=\"1\" class=\"dataframe\">\n",
       "  <thead>\n",
       "    <tr style=\"text-align: right;\">\n",
       "      <th></th>\n",
       "      <th>product_id</th>\n",
       "      <th>beiges</th>\n",
       "      <th>blacks</th>\n",
       "      <th>blues</th>\n",
       "      <th>browns</th>\n",
       "      <th>burgundies</th>\n",
       "      <th>darkbrowns</th>\n",
       "      <th>golds</th>\n",
       "      <th>grays</th>\n",
       "      <th>greens</th>\n",
       "      <th>lightbrowns</th>\n",
       "      <th>multi</th>\n",
       "      <th>navy</th>\n",
       "      <th>neutrals</th>\n",
       "      <th>oranges</th>\n",
       "      <th>pinks</th>\n",
       "      <th>purples</th>\n",
       "      <th>reds</th>\n",
       "      <th>silvers</th>\n",
       "      <th>teal</th>\n",
       "      <th>whites</th>\n",
       "      <th>yellows</th>\n",
       "      <th>attribute_value</th>\n",
       "      <th>combined</th>\n",
       "    </tr>\n",
       "  </thead>\n",
       "  <tbody>\n",
       "    <tr>\n",
       "      <th>0</th>\n",
       "      <td>01DMBRYVA2P5H24WK0HTK4R0A1</td>\n",
       "      <td>1</td>\n",
       "      <td>0</td>\n",
       "      <td>0</td>\n",
       "      <td>0</td>\n",
       "      <td>0</td>\n",
       "      <td>0</td>\n",
       "      <td>0</td>\n",
       "      <td>0</td>\n",
       "      <td>0</td>\n",
       "      <td>0</td>\n",
       "      <td>0</td>\n",
       "      <td>0</td>\n",
       "      <td>0</td>\n",
       "      <td>0</td>\n",
       "      <td>0</td>\n",
       "      <td>0</td>\n",
       "      <td>0</td>\n",
       "      <td>0</td>\n",
       "      <td>0</td>\n",
       "      <td>0</td>\n",
       "      <td>0</td>\n",
       "      <td>beiges</td>\n",
       "      <td>eileen fisher slim knit skirt nice skirt appar...</td>\n",
       "    </tr>\n",
       "    <tr>\n",
       "      <th>1</th>\n",
       "      <td>01DPC9GSTT72KHNN0MNDNKH7RD</td>\n",
       "      <td>0</td>\n",
       "      <td>1</td>\n",
       "      <td>0</td>\n",
       "      <td>0</td>\n",
       "      <td>1</td>\n",
       "      <td>0</td>\n",
       "      <td>0</td>\n",
       "      <td>0</td>\n",
       "      <td>0</td>\n",
       "      <td>1</td>\n",
       "      <td>0</td>\n",
       "      <td>0</td>\n",
       "      <td>0</td>\n",
       "      <td>0</td>\n",
       "      <td>0</td>\n",
       "      <td>0</td>\n",
       "      <td>0</td>\n",
       "      <td>0</td>\n",
       "      <td>0</td>\n",
       "      <td>0</td>\n",
       "      <td>0</td>\n",
       "      <td>burgundies, lightbrowns, blacks</td>\n",
       "      <td>j crew devon bonded leather tote new wear - - ...</td>\n",
       "    </tr>\n",
       "    <tr>\n",
       "      <th>2</th>\n",
       "      <td>01DPCB2KEAVXXKFVM7FXBNE4VY</td>\n",
       "      <td>0</td>\n",
       "      <td>1</td>\n",
       "      <td>0</td>\n",
       "      <td>1</td>\n",
       "      <td>0</td>\n",
       "      <td>1</td>\n",
       "      <td>0</td>\n",
       "      <td>0</td>\n",
       "      <td>0</td>\n",
       "      <td>0</td>\n",
       "      <td>0</td>\n",
       "      <td>0</td>\n",
       "      <td>0</td>\n",
       "      <td>0</td>\n",
       "      <td>0</td>\n",
       "      <td>0</td>\n",
       "      <td>0</td>\n",
       "      <td>0</td>\n",
       "      <td>0</td>\n",
       "      <td>0</td>\n",
       "      <td>0</td>\n",
       "      <td>browns, blacks</td>\n",
       "      <td>j crew fiona lace - kitten heel ankle boot bla...</td>\n",
       "    </tr>\n",
       "    <tr>\n",
       "      <th>3</th>\n",
       "      <td>01DPCB2KEAVXXKFVM7FXBNE4VY</td>\n",
       "      <td>0</td>\n",
       "      <td>1</td>\n",
       "      <td>0</td>\n",
       "      <td>1</td>\n",
       "      <td>0</td>\n",
       "      <td>1</td>\n",
       "      <td>0</td>\n",
       "      <td>0</td>\n",
       "      <td>0</td>\n",
       "      <td>0</td>\n",
       "      <td>0</td>\n",
       "      <td>0</td>\n",
       "      <td>0</td>\n",
       "      <td>0</td>\n",
       "      <td>0</td>\n",
       "      <td>0</td>\n",
       "      <td>0</td>\n",
       "      <td>0</td>\n",
       "      <td>0</td>\n",
       "      <td>0</td>\n",
       "      <td>0</td>\n",
       "      <td>blacks, darkbrowns</td>\n",
       "      <td>j crew fiona lace - kitten heel ankle boot bla...</td>\n",
       "    </tr>\n",
       "    <tr>\n",
       "      <th>4</th>\n",
       "      <td>01DPCDEF6SYX2E1NT5X7HJBFGY</td>\n",
       "      <td>1</td>\n",
       "      <td>1</td>\n",
       "      <td>0</td>\n",
       "      <td>0</td>\n",
       "      <td>1</td>\n",
       "      <td>0</td>\n",
       "      <td>0</td>\n",
       "      <td>1</td>\n",
       "      <td>1</td>\n",
       "      <td>0</td>\n",
       "      <td>0</td>\n",
       "      <td>0</td>\n",
       "      <td>0</td>\n",
       "      <td>0</td>\n",
       "      <td>1</td>\n",
       "      <td>0</td>\n",
       "      <td>0</td>\n",
       "      <td>0</td>\n",
       "      <td>0</td>\n",
       "      <td>0</td>\n",
       "      <td>0</td>\n",
       "      <td>pinks</td>\n",
       "      <td>j crew ribbed scarf everyday cashmere come qua...</td>\n",
       "    </tr>\n",
       "  </tbody>\n",
       "</table>\n",
       "</div>"
      ],
      "text/plain": [
       "                   product_id  beiges  blacks  blues  browns  burgundies  \\\n",
       "0  01DMBRYVA2P5H24WK0HTK4R0A1       1       0      0       0           0   \n",
       "1  01DPC9GSTT72KHNN0MNDNKH7RD       0       1      0       0           1   \n",
       "2  01DPCB2KEAVXXKFVM7FXBNE4VY       0       1      0       1           0   \n",
       "3  01DPCB2KEAVXXKFVM7FXBNE4VY       0       1      0       1           0   \n",
       "4  01DPCDEF6SYX2E1NT5X7HJBFGY       1       1      0       0           1   \n",
       "\n",
       "   darkbrowns  golds  grays  greens  lightbrowns  multi  navy  neutrals  \\\n",
       "0           0      0      0       0            0      0     0         0   \n",
       "1           0      0      0       0            1      0     0         0   \n",
       "2           1      0      0       0            0      0     0         0   \n",
       "3           1      0      0       0            0      0     0         0   \n",
       "4           0      0      1       1            0      0     0         0   \n",
       "\n",
       "   oranges  pinks  purples  reds  silvers  teal  whites  yellows  \\\n",
       "0        0      0        0     0        0     0       0        0   \n",
       "1        0      0        0     0        0     0       0        0   \n",
       "2        0      0        0     0        0     0       0        0   \n",
       "3        0      0        0     0        0     0       0        0   \n",
       "4        0      1        0     0        0     0       0        0   \n",
       "\n",
       "                   attribute_value  \\\n",
       "0                           beiges   \n",
       "1  burgundies, lightbrowns, blacks   \n",
       "2                   browns, blacks   \n",
       "3               blacks, darkbrowns   \n",
       "4                            pinks   \n",
       "\n",
       "                                            combined  \n",
       "0  eileen fisher slim knit skirt nice skirt appar...  \n",
       "1  j crew devon bonded leather tote new wear - - ...  \n",
       "2  j crew fiona lace - kitten heel ankle boot bla...  \n",
       "3  j crew fiona lace - kitten heel ankle boot bla...  \n",
       "4  j crew ribbed scarf everyday cashmere come qua...  "
      ]
     },
     "execution_count": 118,
     "metadata": {},
     "output_type": "execute_result"
    }
   ],
   "source": [
    "df_color.head(5)"
   ]
  },
  {
   "cell_type": "code",
   "execution_count": 120,
   "metadata": {},
   "outputs": [],
   "source": [
    "df_style.to_csv('01 style.csv', index = False)\n",
    "df_occasion.to_csv('02 occasion.csv', index = False)\n",
    "df_fit.to_csv('03 fit.csv', index = False)\n",
    "df_color.to_csv('04 color.csv')"
   ]
  },
  {
   "cell_type": "markdown",
   "metadata": {},
   "source": [
    "## Model Selection"
   ]
  },
  {
   "cell_type": "markdown",
   "metadata": {},
   "source": [
    "In this part we define several vectorizer methods and models. We divide the current data into training and test data set in the proportion of 0.75-0.25. We evaluate our models on the test data with 50% accuracy as the baseline accuracy."
   ]
  },
  {
   "cell_type": "code",
   "execution_count": 121,
   "metadata": {},
   "outputs": [],
   "source": [
    "def count_(docs):\n",
    "    '''\n",
    "    This returns count vectorized vectors of the docs\n",
    "    '''\n",
    "    \n",
    "    # use English stopwords, and use one-hot encoding, and the word must appear in at least two of the movie plots\n",
    "    vectorizer = CountVectorizer(ngram_range=(1,1), stop_words=\"english\", binary=True, min_df=10, max_df=5000) \n",
    "    vectorizer = vectorizer.fit(docs)\n",
    "    X = vectorizer.transform(docs)\n",
    "\n",
    "    vectorized_df = pd.DataFrame(X.toarray(), columns=vectorizer.get_feature_names())\n",
    "    \n",
    "    return vectorized_df, vectorizer\n",
    "\n",
    "def count_2gram(docs):\n",
    "    \n",
    "    vectorizer = CountVectorizer(ngram_range=(2,2), stop_words=\"english\", binary=True, min_df=10, max_df=5000)\n",
    "    vectorizer = vectorizer.fit(docs)\n",
    "    X = vectorizer.transform(docs)\n",
    "\n",
    "    vectorized_df = pd.DataFrame(X.toarray(), columns=vectorizer.get_feature_names())\n",
    "    \n",
    "    return vectorized_df, vectorizer\n",
    "\n",
    "def count_3gram(docs):\n",
    "    \n",
    "    vectorizer = CountVectorizer(ngram_range=(3,3), stop_words=\"english\", binary=True, min_df=10, max_df=5000)\n",
    "    vectorizer = vectorizer.fit(docs)\n",
    "    X = vectorizer.transform(docs)\n",
    "    \n",
    "    vectorized_df = pd.DataFrame(X.toarray(), columns=vectorizer.get_feature_names())\n",
    "    \n",
    "    return vectorized_df, vectorizer\n",
    "\n",
    "def tfidf(docs):\n",
    "    \n",
    "    vectorizer = TfidfVectorizer(ngram_range=(1,1), stop_words=\"english\", max_df=0.75)\n",
    "    vectorizer = vectorizer.fit(docs)\n",
    "    X = vectorizer.transform(docs)\n",
    "\n",
    "    vectorized_df = pd.DataFrame(X.toarray(), columns=vectorizer.get_feature_names())\n",
    "    \n",
    "    return vectorized_df, vectorizer\n",
    "\n",
    "def tfidf_2gram(docs):\n",
    "    \n",
    "    vectorizer = TfidfVectorizer(ngram_range=(2,2), stop_words=\"english\", max_df=0.75)\n",
    "    vectorizer = vectorizer.fit(docs)\n",
    "    X = vectorizer.transform(docs)\n",
    "\n",
    "    vectorized_df = pd.DataFrame(X.toarray(), columns=vectorizer.get_feature_names())\n",
    "    \n",
    "    return vectorized_df, vectorizer\n",
    "\n",
    "def tfidf_3gram(docs):\n",
    "    \n",
    "    vectorizer = TfidfVectorizer(ngram_range=(3,3), stop_words=\"english\", max_df=0.75)\n",
    "    vectorizer = vectorizer.fit(docs)\n",
    "    X = vectorizer.transform(docs)\n",
    "\n",
    "    vectorized_df = pd.DataFrame(X.toarray(), columns=vectorizer.get_feature_names())\n",
    "    \n",
    "    return vectorized_df, vectorizer"
   ]
  },
  {
   "cell_type": "code",
   "execution_count": 122,
   "metadata": {},
   "outputs": [],
   "source": [
    "# Model\n",
    "def log_reg(X_train, Y_train, X_test, Y_test):\n",
    "    \n",
    "    lr = LogisticRegression()\n",
    "    lr.fit(X_train, Y_train)\n",
    "    \n",
    "    y_pred = lr.predict(X_test)\n",
    "    \n",
    "    return round(np.mean(y_pred == Y_test),2)"
   ]
  },
  {
   "cell_type": "code",
   "execution_count": 239,
   "metadata": {},
   "outputs": [
    {
     "data": {
      "application/vnd.jupyter.widget-view+json": {
       "model_id": "48e2a3ab9acf4821b6a55255cc6d5d50",
       "version_major": 2,
       "version_minor": 0
      },
      "text/plain": [
       "HBox(children=(FloatProgress(value=0.0, max=4.0), HTML(value='')))"
      ]
     },
     "metadata": {},
     "output_type": "display_data"
    },
    {
     "data": {
      "application/vnd.jupyter.widget-view+json": {
       "model_id": "972de589483342df93a0cf6828796d88",
       "version_major": 2,
       "version_minor": 0
      },
      "text/plain": [
       "HBox(children=(FloatProgress(value=0.0, max=11.0), HTML(value='')))"
      ]
     },
     "metadata": {},
     "output_type": "display_data"
    },
    {
     "name": "stdout",
     "output_type": "stream",
     "text": [
      "\n"
     ]
    },
    {
     "data": {
      "application/vnd.jupyter.widget-view+json": {
       "model_id": "68c53df5db084f0ea01a8129efcc9930",
       "version_major": 2,
       "version_minor": 0
      },
      "text/plain": [
       "HBox(children=(FloatProgress(value=0.0, max=7.0), HTML(value='')))"
      ]
     },
     "metadata": {},
     "output_type": "display_data"
    },
    {
     "name": "stdout",
     "output_type": "stream",
     "text": [
      "\n"
     ]
    },
    {
     "data": {
      "application/vnd.jupyter.widget-view+json": {
       "model_id": "b900bdda37e24f43a39ed065ed7c0524",
       "version_major": 2,
       "version_minor": 0
      },
      "text/plain": [
       "HBox(children=(FloatProgress(value=0.0, max=5.0), HTML(value='')))"
      ]
     },
     "metadata": {},
     "output_type": "display_data"
    },
    {
     "name": "stdout",
     "output_type": "stream",
     "text": [
      "\n"
     ]
    },
    {
     "data": {
      "application/vnd.jupyter.widget-view+json": {
       "model_id": "20bf418f9b5c4d0da48d26886c41461c",
       "version_major": 2,
       "version_minor": 0
      },
      "text/plain": [
       "HBox(children=(FloatProgress(value=0.0, max=21.0), HTML(value='')))"
      ]
     },
     "metadata": {},
     "output_type": "display_data"
    },
    {
     "name": "stdout",
     "output_type": "stream",
     "text": [
      "\n",
      "\n"
     ]
    }
   ],
   "source": [
    "category_list = []\n",
    "label_list = []\n",
    "vectorizer_list = []\n",
    "logreg_accuracy = []\n",
    "\n",
    "cat = ['style', 'occasion', 'fit', 'color']\n",
    "\n",
    "for i in tqdm_notebook(cat):\n",
    "    \n",
    "    if i == 'style':\n",
    "        df = df_style.copy()\n",
    "        \n",
    "    if i == 'occasion':\n",
    "        df = df_occasion.copy()\n",
    "    \n",
    "    if i == 'fit':\n",
    "        df = df_fit.copy()\n",
    "    \n",
    "    if i == 'color':\n",
    "        df = df_color.copy()\n",
    "        \n",
    "        \n",
    "    labels = list(df.iloc[:,1:-2].columns)\n",
    "\n",
    "    for j in tqdm_notebook(labels):\n",
    "        \n",
    "        for k in ['c_1ng', 'c_2ng', 'c_3ng', 'tfidf_1ng', 'tfidf_2ng', 'tfidf_3ng']:\n",
    "            category_list.append(i)\n",
    "            label_list.append(j)\n",
    "            \n",
    "            X_train, X_test, y_train, y_test = train_test_split(df['combined'], df[j], test_size=0.25, random_state=42)\n",
    "\n",
    "            if k==\"c_1ng\":\n",
    "                train_df, vectorizer = count_(X_train)\n",
    "                vectorizer_list.append(\"count_1gram\")\n",
    "\n",
    "            if k==\"c_2ng\":\n",
    "                train_df, vectorizer = count_2gram(X_train)\n",
    "                vectorizer_list.append(\"count_2gram\")\n",
    "\n",
    "            if k==\"c_3ng\":\n",
    "                train_df, vectorizer = count_3gram(X_train)\n",
    "                vectorizer_list.append(\"count_3gram\")\n",
    "\n",
    "            if k==\"tfidf_1ng\":\n",
    "                train_df, vectorizer = tfidf(X_train)\n",
    "                vectorizer_list.append(\"tfid_1gram\")\n",
    "\n",
    "            if k==\"tfidf_2ng\":\n",
    "                train_df, vectorizer = tfidf_2gram(X_train)\n",
    "                vectorizer_list.append(\"tfidf_2gram\")\n",
    "\n",
    "            if k==\"tfidf_3ng\":\n",
    "                train_df, vectorizer = tfidf_3gram(X_train)\n",
    "                vectorizer_list.append(\"tfidf_3gram\")\n",
    "\n",
    "            test_vector = vectorizer.transform(X_test)\n",
    "\n",
    "            test_df = pd.DataFrame(test_vector.toarray(), columns=vectorizer.get_feature_names())\n",
    "\n",
    "            accuracy = log_reg(train_df, y_train, test_df, y_test)\n",
    "\n",
    "            logreg_accuracy.append(accuracy)"
   ]
  },
  {
   "cell_type": "code",
   "execution_count": 240,
   "metadata": {},
   "outputs": [],
   "source": [
    "results_logreg = pd.DataFrame({\"category\":category_list, \"label\":label_list, \"vectorizer\":vectorizer_list,\n",
    "                               \"LogReg_Accuracy\":logreg_accuracy})"
   ]
  },
  {
   "cell_type": "code",
   "execution_count": 241,
   "metadata": {},
   "outputs": [
    {
     "data": {
      "text/html": [
       "<div>\n",
       "<style scoped>\n",
       "    .dataframe tbody tr th:only-of-type {\n",
       "        vertical-align: middle;\n",
       "    }\n",
       "\n",
       "    .dataframe tbody tr th {\n",
       "        vertical-align: top;\n",
       "    }\n",
       "\n",
       "    .dataframe thead th {\n",
       "        text-align: right;\n",
       "    }\n",
       "</style>\n",
       "<table border=\"1\" class=\"dataframe\">\n",
       "  <thead>\n",
       "    <tr style=\"text-align: right;\">\n",
       "      <th></th>\n",
       "      <th>category</th>\n",
       "      <th>label</th>\n",
       "      <th>vectorizer</th>\n",
       "      <th>LogReg_Accuracy</th>\n",
       "    </tr>\n",
       "  </thead>\n",
       "  <tbody>\n",
       "    <tr>\n",
       "      <th>0</th>\n",
       "      <td>style</td>\n",
       "      <td>androgynous</td>\n",
       "      <td>count_1gram</td>\n",
       "      <td>0.82</td>\n",
       "    </tr>\n",
       "    <tr>\n",
       "      <th>1</th>\n",
       "      <td>style</td>\n",
       "      <td>androgynous</td>\n",
       "      <td>count_2gram</td>\n",
       "      <td>0.82</td>\n",
       "    </tr>\n",
       "    <tr>\n",
       "      <th>2</th>\n",
       "      <td>style</td>\n",
       "      <td>androgynous</td>\n",
       "      <td>count_3gram</td>\n",
       "      <td>0.81</td>\n",
       "    </tr>\n",
       "    <tr>\n",
       "      <th>3</th>\n",
       "      <td>style</td>\n",
       "      <td>androgynous</td>\n",
       "      <td>tfid_1gram</td>\n",
       "      <td>0.84</td>\n",
       "    </tr>\n",
       "    <tr>\n",
       "      <th>4</th>\n",
       "      <td>style</td>\n",
       "      <td>androgynous</td>\n",
       "      <td>tfidf_2gram</td>\n",
       "      <td>0.82</td>\n",
       "    </tr>\n",
       "    <tr>\n",
       "      <th>5</th>\n",
       "      <td>style</td>\n",
       "      <td>androgynous</td>\n",
       "      <td>tfidf_3gram</td>\n",
       "      <td>0.82</td>\n",
       "    </tr>\n",
       "    <tr>\n",
       "      <th>6</th>\n",
       "      <td>style</td>\n",
       "      <td>athleisure</td>\n",
       "      <td>count_1gram</td>\n",
       "      <td>0.97</td>\n",
       "    </tr>\n",
       "    <tr>\n",
       "      <th>7</th>\n",
       "      <td>style</td>\n",
       "      <td>athleisure</td>\n",
       "      <td>count_2gram</td>\n",
       "      <td>0.97</td>\n",
       "    </tr>\n",
       "    <tr>\n",
       "      <th>8</th>\n",
       "      <td>style</td>\n",
       "      <td>athleisure</td>\n",
       "      <td>count_3gram</td>\n",
       "      <td>0.96</td>\n",
       "    </tr>\n",
       "    <tr>\n",
       "      <th>9</th>\n",
       "      <td>style</td>\n",
       "      <td>athleisure</td>\n",
       "      <td>tfid_1gram</td>\n",
       "      <td>0.96</td>\n",
       "    </tr>\n",
       "  </tbody>\n",
       "</table>\n",
       "</div>"
      ],
      "text/plain": [
       "  category        label   vectorizer  LogReg_Accuracy\n",
       "0    style  androgynous  count_1gram             0.82\n",
       "1    style  androgynous  count_2gram             0.82\n",
       "2    style  androgynous  count_3gram             0.81\n",
       "3    style  androgynous   tfid_1gram             0.84\n",
       "4    style  androgynous  tfidf_2gram             0.82\n",
       "5    style  androgynous  tfidf_3gram             0.82\n",
       "6    style   athleisure  count_1gram             0.97\n",
       "7    style   athleisure  count_2gram             0.97\n",
       "8    style   athleisure  count_3gram             0.96\n",
       "9    style   athleisure   tfid_1gram             0.96"
      ]
     },
     "execution_count": 241,
     "metadata": {},
     "output_type": "execute_result"
    }
   ],
   "source": [
    "results_logreg.head(10)"
   ]
  },
  {
   "cell_type": "code",
   "execution_count": 242,
   "metadata": {},
   "outputs": [],
   "source": [
    "results_logreg.to_csv('01 Results_logreg.csv', index = False)"
   ]
  },
  {
   "cell_type": "markdown",
   "metadata": {},
   "source": [
    "### Using Word Embeddings with Keras"
   ]
  },
  {
   "cell_type": "code",
   "execution_count": 127,
   "metadata": {},
   "outputs": [],
   "source": [
    "def get_max_token_length_per_doc(docs: List[List[str]])-> int:\n",
    "    return max(list(map(lambda x: len(x.split()), docs)))"
   ]
  },
  {
   "cell_type": "code",
   "execution_count": 128,
   "metadata": {},
   "outputs": [],
   "source": [
    "def integer_encode_documents(docs, tokenizer):\n",
    "    return tokenizer.texts_to_sequences(docs)"
   ]
  },
  {
   "cell_type": "code",
   "execution_count": 129,
   "metadata": {},
   "outputs": [],
   "source": [
    "def keras_m(X_train, y_train, X_test, y_test, vocab_size, EMBEDDING_SIZE, max_length):\n",
    "    # define the model\n",
    "    model = Sequential()\n",
    "    model.add(Embedding(vocab_size, EMBEDDING_SIZE, input_length=max_length))\n",
    "    model.add(Flatten())\n",
    "    \n",
    "    # since we are doing binary classification, activation function is sigmoid\n",
    "    model.add(Dense(1, activation='sigmoid')) \n",
    "\n",
    "    model.compile(optimizer='adam', loss='binary_crossentropy', metrics=['acc'])\n",
    "    \n",
    "    model.fit(X_train, y_train, epochs=20, verbose=0)\n",
    "    \n",
    "    loss, accuracy = model.evaluate(X_test, y_test, verbose=0)\n",
    "    \n",
    "    return round(accuracy,2)"
   ]
  },
  {
   "cell_type": "code",
   "execution_count": 130,
   "metadata": {},
   "outputs": [
    {
     "data": {
      "application/vnd.jupyter.widget-view+json": {
       "model_id": "8b18068b90704c35b1d13199c472cf25",
       "version_major": 2,
       "version_minor": 0
      },
      "text/plain": [
       "HBox(children=(FloatProgress(value=0.0, max=4.0), HTML(value='')))"
      ]
     },
     "metadata": {},
     "output_type": "display_data"
    },
    {
     "data": {
      "application/vnd.jupyter.widget-view+json": {
       "model_id": "076ea57b502d4376a0fa74bc0e22928c",
       "version_major": 2,
       "version_minor": 0
      },
      "text/plain": [
       "HBox(children=(FloatProgress(value=0.0, max=11.0), HTML(value='')))"
      ]
     },
     "metadata": {},
     "output_type": "display_data"
    },
    {
     "name": "stdout",
     "output_type": "stream",
     "text": [
      "\n"
     ]
    },
    {
     "data": {
      "application/vnd.jupyter.widget-view+json": {
       "model_id": "1959b75fe3c141708861af4137f94a4e",
       "version_major": 2,
       "version_minor": 0
      },
      "text/plain": [
       "HBox(children=(FloatProgress(value=0.0, max=7.0), HTML(value='')))"
      ]
     },
     "metadata": {},
     "output_type": "display_data"
    },
    {
     "name": "stdout",
     "output_type": "stream",
     "text": [
      "\n"
     ]
    },
    {
     "data": {
      "application/vnd.jupyter.widget-view+json": {
       "model_id": "119d94a362e1430ca75ea8cc482aa52c",
       "version_major": 2,
       "version_minor": 0
      },
      "text/plain": [
       "HBox(children=(FloatProgress(value=0.0, max=5.0), HTML(value='')))"
      ]
     },
     "metadata": {},
     "output_type": "display_data"
    },
    {
     "name": "stdout",
     "output_type": "stream",
     "text": [
      "\n"
     ]
    },
    {
     "data": {
      "application/vnd.jupyter.widget-view+json": {
       "model_id": "2fbd44478ef243fd9398c426f1e48a48",
       "version_major": 2,
       "version_minor": 0
      },
      "text/plain": [
       "HBox(children=(FloatProgress(value=0.0, max=21.0), HTML(value='')))"
      ]
     },
     "metadata": {},
     "output_type": "display_data"
    },
    {
     "name": "stdout",
     "output_type": "stream",
     "text": [
      "\n",
      "\n"
     ]
    }
   ],
   "source": [
    "category_list = []\n",
    "label_list = []\n",
    "vectorizer_list = []\n",
    "keras_accuracy = []\n",
    "\n",
    "cat = ['style', 'occasion', 'fit', 'color']\n",
    "\n",
    "for i in tqdm_notebook(cat):\n",
    "    \n",
    "    if i == 'style':\n",
    "        df = df_style.copy()\n",
    "        \n",
    "    if i == 'occasion':\n",
    "        df = df_occasion.copy()\n",
    "    \n",
    "    if i == 'fit':\n",
    "        df = df_fit.copy()\n",
    "\n",
    "    if i == 'color':\n",
    "        df = df_color.copy()\n",
    "        \n",
    "    labels = list(df.iloc[:,1:-2].columns)\n",
    "\n",
    "    for j in tqdm_notebook(labels):\n",
    "        \n",
    "        tokenizer = Tokenizer(num_words=5000, oov_token=\"UNKNOWN_TOKEN\")\n",
    "        tokenizer.fit_on_texts(df['combined'])\n",
    "        \n",
    "        max_length = get_max_token_length_per_doc(df['combined'])\n",
    "        \n",
    "        # integer encode the training data\n",
    "        encoded_docs = integer_encode_documents(df['combined'], tokenizer)\n",
    "        # pad the documents\n",
    "        padded_docs = pad_sequences(encoded_docs, maxlen=max_length, padding='post')\n",
    "        # get vocab size\n",
    "        vocab_size = int(len(tokenizer.word_index) + 1)\n",
    "        \n",
    "        X_train, X_test, y_train, y_test = train_test_split(padded_docs, df[j], test_size=0.25, random_state=42)\n",
    "        \n",
    "        EMBEDDING_SIZE = 50\n",
    "        \n",
    "        accuracy = keras_m(X_train, y_train, X_test, y_test, vocab_size, EMBEDDING_SIZE, max_length)\n",
    "        \n",
    "        # Storing values in a list\n",
    "        keras_accuracy.append(accuracy)\n",
    "        category_list.append(i)\n",
    "        label_list.append(j)\n",
    "        vectorizer_list.append(\"keras-word embed\")"
   ]
  },
  {
   "cell_type": "code",
   "execution_count": null,
   "metadata": {},
   "outputs": [],
   "source": [
    "results_keras_w = pd.DataFrame({\"category\":category_list, \"label\":label_list, \"vectorizer\":vectorizer_list,\n",
    "                               \"Keras_Accuracy\":keras_accuracy})"
   ]
  },
  {
   "cell_type": "code",
   "execution_count": 238,
   "metadata": {},
   "outputs": [
    {
     "data": {
      "text/html": [
       "<div>\n",
       "<style scoped>\n",
       "    .dataframe tbody tr th:only-of-type {\n",
       "        vertical-align: middle;\n",
       "    }\n",
       "\n",
       "    .dataframe tbody tr th {\n",
       "        vertical-align: top;\n",
       "    }\n",
       "\n",
       "    .dataframe thead th {\n",
       "        text-align: right;\n",
       "    }\n",
       "</style>\n",
       "<table border=\"1\" class=\"dataframe\">\n",
       "  <thead>\n",
       "    <tr style=\"text-align: right;\">\n",
       "      <th></th>\n",
       "      <th>category</th>\n",
       "      <th>label</th>\n",
       "      <th>vectorizer</th>\n",
       "      <th>Accuracy</th>\n",
       "      <th>model</th>\n",
       "    </tr>\n",
       "  </thead>\n",
       "  <tbody>\n",
       "    <tr>\n",
       "      <th>0</th>\n",
       "      <td>style</td>\n",
       "      <td>androgynous</td>\n",
       "      <td>keras-word embed</td>\n",
       "      <td>0.84</td>\n",
       "      <td>Keras-Word</td>\n",
       "    </tr>\n",
       "    <tr>\n",
       "      <th>1</th>\n",
       "      <td>style</td>\n",
       "      <td>athleisure</td>\n",
       "      <td>keras-word embed</td>\n",
       "      <td>0.98</td>\n",
       "      <td>Keras-Word</td>\n",
       "    </tr>\n",
       "    <tr>\n",
       "      <th>2</th>\n",
       "      <td>style</td>\n",
       "      <td>boho</td>\n",
       "      <td>keras-word embed</td>\n",
       "      <td>0.90</td>\n",
       "      <td>Keras-Word</td>\n",
       "    </tr>\n",
       "    <tr>\n",
       "      <th>3</th>\n",
       "      <td>style</td>\n",
       "      <td>business casual</td>\n",
       "      <td>keras-word embed</td>\n",
       "      <td>0.81</td>\n",
       "      <td>Keras-Word</td>\n",
       "    </tr>\n",
       "    <tr>\n",
       "      <th>4</th>\n",
       "      <td>style</td>\n",
       "      <td>casual</td>\n",
       "      <td>keras-word embed</td>\n",
       "      <td>0.79</td>\n",
       "      <td>Keras-Word</td>\n",
       "    </tr>\n",
       "    <tr>\n",
       "      <th>5</th>\n",
       "      <td>style</td>\n",
       "      <td>classic</td>\n",
       "      <td>keras-word embed</td>\n",
       "      <td>0.72</td>\n",
       "      <td>Keras-Word</td>\n",
       "    </tr>\n",
       "    <tr>\n",
       "      <th>6</th>\n",
       "      <td>style</td>\n",
       "      <td>edgy</td>\n",
       "      <td>keras-word embed</td>\n",
       "      <td>0.82</td>\n",
       "      <td>Keras-Word</td>\n",
       "    </tr>\n",
       "    <tr>\n",
       "      <th>7</th>\n",
       "      <td>style</td>\n",
       "      <td>glam</td>\n",
       "      <td>keras-word embed</td>\n",
       "      <td>0.89</td>\n",
       "      <td>Keras-Word</td>\n",
       "    </tr>\n",
       "    <tr>\n",
       "      <th>8</th>\n",
       "      <td>style</td>\n",
       "      <td>modern</td>\n",
       "      <td>keras-word embed</td>\n",
       "      <td>0.74</td>\n",
       "      <td>Keras-Word</td>\n",
       "    </tr>\n",
       "    <tr>\n",
       "      <th>9</th>\n",
       "      <td>style</td>\n",
       "      <td>retro</td>\n",
       "      <td>keras-word embed</td>\n",
       "      <td>0.95</td>\n",
       "      <td>Keras-Word</td>\n",
       "    </tr>\n",
       "  </tbody>\n",
       "</table>\n",
       "</div>"
      ],
      "text/plain": [
       "  category            label        vectorizer  Accuracy       model\n",
       "0    style      androgynous  keras-word embed      0.84  Keras-Word\n",
       "1    style       athleisure  keras-word embed      0.98  Keras-Word\n",
       "2    style             boho  keras-word embed      0.90  Keras-Word\n",
       "3    style  business casual  keras-word embed      0.81  Keras-Word\n",
       "4    style           casual  keras-word embed      0.79  Keras-Word\n",
       "5    style          classic  keras-word embed      0.72  Keras-Word\n",
       "6    style             edgy  keras-word embed      0.82  Keras-Word\n",
       "7    style             glam  keras-word embed      0.89  Keras-Word\n",
       "8    style           modern  keras-word embed      0.74  Keras-Word\n",
       "9    style            retro  keras-word embed      0.95  Keras-Word"
      ]
     },
     "execution_count": 238,
     "metadata": {},
     "output_type": "execute_result"
    }
   ],
   "source": [
    "results_keras_w.head(10)"
   ]
  },
  {
   "cell_type": "code",
   "execution_count": 135,
   "metadata": {},
   "outputs": [],
   "source": [
    "results_keras_w.to_csv('01 Results_keras_w.csv', index = False)"
   ]
  },
  {
   "cell_type": "markdown",
   "metadata": {},
   "source": [
    "### Using Pre_Trained Embedings with Keras"
   ]
  },
  {
   "cell_type": "code",
   "execution_count": 138,
   "metadata": {},
   "outputs": [],
   "source": [
    "embeddings_index = dict()\n",
    "f = open('glove.6B.100d.txt', encoding = 'utf-8')\n",
    "for line in f:\n",
    "    values = line.split()\n",
    "    word = values[0]\n",
    "    coefs = asarray(values[1:], dtype='float32')\n",
    "    embeddings_index[word] = coefs\n",
    "f.close()"
   ]
  },
  {
   "cell_type": "code",
   "execution_count": 148,
   "metadata": {},
   "outputs": [],
   "source": [
    "def keras_gl(X_train, y_train, X_test, y_test, vocab_size, embedding_matrix, max_length, padded_docs):\n",
    "    # define model\n",
    "    model = Sequential()\n",
    "    e = Embedding(vocab_size, 100, weights=[embedding_matrix], input_length=max_length, trainable=False)\n",
    "    model.add(e)\n",
    "    model.add(Flatten())\n",
    "    model.add(Dense(1, activation='sigmoid'))\n",
    "    \n",
    "    # compile the model\n",
    "    model.compile(optimizer='adam', loss='binary_crossentropy', metrics=['acc'])\n",
    "\n",
    "    # fit the model\n",
    "    model.fit(X_train, y_train, epochs=20, verbose=0)\n",
    "    # evaluate the model\n",
    "    loss, accuracy = model.evaluate(X_test, y_test, verbose=0)\n",
    "\n",
    "    return round(accuracy,2)"
   ]
  },
  {
   "cell_type": "code",
   "execution_count": 151,
   "metadata": {},
   "outputs": [
    {
     "data": {
      "application/vnd.jupyter.widget-view+json": {
       "model_id": "82314f7a483941d0bcf01afacd679e9d",
       "version_major": 2,
       "version_minor": 0
      },
      "text/plain": [
       "HBox(children=(FloatProgress(value=0.0, max=4.0), HTML(value='')))"
      ]
     },
     "metadata": {},
     "output_type": "display_data"
    },
    {
     "data": {
      "application/vnd.jupyter.widget-view+json": {
       "model_id": "776b6608e34140eeb83da31a6f3f96fb",
       "version_major": 2,
       "version_minor": 0
      },
      "text/plain": [
       "HBox(children=(FloatProgress(value=0.0, max=11.0), HTML(value='')))"
      ]
     },
     "metadata": {},
     "output_type": "display_data"
    },
    {
     "name": "stdout",
     "output_type": "stream",
     "text": [
      "\n"
     ]
    },
    {
     "data": {
      "application/vnd.jupyter.widget-view+json": {
       "model_id": "b30d73bb364f46bea3ea3b0b05198800",
       "version_major": 2,
       "version_minor": 0
      },
      "text/plain": [
       "HBox(children=(FloatProgress(value=0.0, max=7.0), HTML(value='')))"
      ]
     },
     "metadata": {},
     "output_type": "display_data"
    },
    {
     "name": "stdout",
     "output_type": "stream",
     "text": [
      "\n"
     ]
    },
    {
     "data": {
      "application/vnd.jupyter.widget-view+json": {
       "model_id": "9947dc716b73469fb302f8ba0f795e2b",
       "version_major": 2,
       "version_minor": 0
      },
      "text/plain": [
       "HBox(children=(FloatProgress(value=0.0, max=5.0), HTML(value='')))"
      ]
     },
     "metadata": {},
     "output_type": "display_data"
    },
    {
     "name": "stdout",
     "output_type": "stream",
     "text": [
      "\n"
     ]
    },
    {
     "data": {
      "application/vnd.jupyter.widget-view+json": {
       "model_id": "4bd67b8722c34d9a965dd5ee1466868e",
       "version_major": 2,
       "version_minor": 0
      },
      "text/plain": [
       "HBox(children=(FloatProgress(value=0.0, max=21.0), HTML(value='')))"
      ]
     },
     "metadata": {},
     "output_type": "display_data"
    },
    {
     "name": "stdout",
     "output_type": "stream",
     "text": [
      "\n",
      "\n"
     ]
    }
   ],
   "source": [
    "category_list = []\n",
    "label_list = []\n",
    "vectorizer_list = []\n",
    "keras_glove_accuracy = []\n",
    "\n",
    "cat = ['style', 'occasion', 'fit', 'color']\n",
    "\n",
    "for c in tqdm_notebook(cat):\n",
    "    \n",
    "    if c == 'style':\n",
    "        df = df_style.copy()\n",
    "        \n",
    "    if c == 'occasion':\n",
    "        df = df_occasion.copy()\n",
    "    \n",
    "    if c == 'fit':\n",
    "        df = df_fit.copy()\n",
    "\n",
    "    if c == 'color':\n",
    "        df = df_color.copy()\n",
    "        \n",
    "    labels = list(df.iloc[:,1:-2].columns)\n",
    "\n",
    "    for j in tqdm_notebook(labels):\n",
    "        \n",
    "        tokenizer = Tokenizer(num_words=5000, oov_token=\"UNKNOWN_TOKEN\")\n",
    "        tokenizer.fit_on_texts(df['combined'])\n",
    "        \n",
    "        max_length = get_max_token_length_per_doc(df['combined'])\n",
    "        \n",
    "        # integer encode the training data\n",
    "        encoded_docs = integer_encode_documents(df['combined'], tokenizer)\n",
    "        # pad the documents\n",
    "        padded_docs = pad_sequences(encoded_docs, maxlen=max_length, padding='post')\n",
    "        # get vocab size\n",
    "        vocab_size = int(len(tokenizer.word_index) + 1)\n",
    "        \n",
    "        # create a weight matrix for words in training docs\n",
    "        embedding_matrix = zeros((vocab_size, 100))\n",
    "        for word, i in tokenizer.word_index.items():\n",
    "            embedding_vector = embeddings_index.get(word)\n",
    "            if embedding_vector is not None: # check that it is an actual word that we have embeddings for\n",
    "                embedding_matrix[i] = embedding_vector\n",
    "                \n",
    "        X_train, X_test, y_train, y_test = train_test_split(padded_docs, df[j], test_size=0.25, random_state=42)\n",
    "        \n",
    "        EMBEDDING_SIZE = 100\n",
    "        \n",
    "        accuracy = keras_gl(X_train, y_train, X_test, y_test, vocab_size, embedding_matrix, max_length, padded_docs)\n",
    "        \n",
    "        # Storing values in a list\n",
    "        keras_glove_accuracy.append(accuracy)\n",
    "        category_list.append(c)\n",
    "        label_list.append(j)\n",
    "        vectorizer_list.append(\"keras-glove\")"
   ]
  },
  {
   "cell_type": "code",
   "execution_count": 159,
   "metadata": {},
   "outputs": [],
   "source": [
    "results_keras_gl = pd.DataFrame({\"category\":category_list, \"label\":label_list, \"vectorizer\":vectorizer_list,\n",
    "                               \"KerasGlove_Accuracy\":keras_glove_accuracy})"
   ]
  },
  {
   "cell_type": "code",
   "execution_count": 160,
   "metadata": {},
   "outputs": [
    {
     "data": {
      "text/html": [
       "<div>\n",
       "<style scoped>\n",
       "    .dataframe tbody tr th:only-of-type {\n",
       "        vertical-align: middle;\n",
       "    }\n",
       "\n",
       "    .dataframe tbody tr th {\n",
       "        vertical-align: top;\n",
       "    }\n",
       "\n",
       "    .dataframe thead th {\n",
       "        text-align: right;\n",
       "    }\n",
       "</style>\n",
       "<table border=\"1\" class=\"dataframe\">\n",
       "  <thead>\n",
       "    <tr style=\"text-align: right;\">\n",
       "      <th></th>\n",
       "      <th>category</th>\n",
       "      <th>label</th>\n",
       "      <th>vectorizer</th>\n",
       "      <th>KerasGlove_Accuracy</th>\n",
       "    </tr>\n",
       "  </thead>\n",
       "  <tbody>\n",
       "    <tr>\n",
       "      <th>0</th>\n",
       "      <td>style</td>\n",
       "      <td>androgynous</td>\n",
       "      <td>keras-glove</td>\n",
       "      <td>0.80</td>\n",
       "    </tr>\n",
       "    <tr>\n",
       "      <th>1</th>\n",
       "      <td>style</td>\n",
       "      <td>athleisure</td>\n",
       "      <td>keras-glove</td>\n",
       "      <td>0.96</td>\n",
       "    </tr>\n",
       "    <tr>\n",
       "      <th>2</th>\n",
       "      <td>style</td>\n",
       "      <td>boho</td>\n",
       "      <td>keras-glove</td>\n",
       "      <td>0.88</td>\n",
       "    </tr>\n",
       "    <tr>\n",
       "      <th>3</th>\n",
       "      <td>style</td>\n",
       "      <td>business casual</td>\n",
       "      <td>keras-glove</td>\n",
       "      <td>0.75</td>\n",
       "    </tr>\n",
       "    <tr>\n",
       "      <th>4</th>\n",
       "      <td>style</td>\n",
       "      <td>casual</td>\n",
       "      <td>keras-glove</td>\n",
       "      <td>0.71</td>\n",
       "    </tr>\n",
       "  </tbody>\n",
       "</table>\n",
       "</div>"
      ],
      "text/plain": [
       "  category            label   vectorizer  KerasGlove_Accuracy\n",
       "0    style      androgynous  keras-glove                 0.80\n",
       "1    style       athleisure  keras-glove                 0.96\n",
       "2    style             boho  keras-glove                 0.88\n",
       "3    style  business casual  keras-glove                 0.75\n",
       "4    style           casual  keras-glove                 0.71"
      ]
     },
     "execution_count": 160,
     "metadata": {},
     "output_type": "execute_result"
    }
   ],
   "source": [
    "results_keras_gl.head(5)"
   ]
  },
  {
   "cell_type": "code",
   "execution_count": 153,
   "metadata": {},
   "outputs": [],
   "source": [
    "results_keras_gl.to_csv('04 Results_keras_gl.csv', index = False)"
   ]
  },
  {
   "cell_type": "markdown",
   "metadata": {},
   "source": [
    "### Getting the best model for each label"
   ]
  },
  {
   "cell_type": "code",
   "execution_count": 156,
   "metadata": {},
   "outputs": [
    {
     "data": {
      "text/html": [
       "<div>\n",
       "<style scoped>\n",
       "    .dataframe tbody tr th:only-of-type {\n",
       "        vertical-align: middle;\n",
       "    }\n",
       "\n",
       "    .dataframe tbody tr th {\n",
       "        vertical-align: top;\n",
       "    }\n",
       "\n",
       "    .dataframe thead th {\n",
       "        text-align: right;\n",
       "    }\n",
       "</style>\n",
       "<table border=\"1\" class=\"dataframe\">\n",
       "  <thead>\n",
       "    <tr style=\"text-align: right;\">\n",
       "      <th></th>\n",
       "      <th>category</th>\n",
       "      <th>label</th>\n",
       "      <th>vectorizer</th>\n",
       "      <th>Accuracy</th>\n",
       "      <th>model</th>\n",
       "    </tr>\n",
       "  </thead>\n",
       "  <tbody>\n",
       "    <tr>\n",
       "      <th>0</th>\n",
       "      <td>style</td>\n",
       "      <td>androgynous</td>\n",
       "      <td>count_1gram</td>\n",
       "      <td>0.82</td>\n",
       "      <td>LogReg</td>\n",
       "    </tr>\n",
       "    <tr>\n",
       "      <th>1</th>\n",
       "      <td>style</td>\n",
       "      <td>androgynous</td>\n",
       "      <td>count_2gram</td>\n",
       "      <td>0.82</td>\n",
       "      <td>LogReg</td>\n",
       "    </tr>\n",
       "    <tr>\n",
       "      <th>2</th>\n",
       "      <td>style</td>\n",
       "      <td>androgynous</td>\n",
       "      <td>count_3gram</td>\n",
       "      <td>0.81</td>\n",
       "      <td>LogReg</td>\n",
       "    </tr>\n",
       "    <tr>\n",
       "      <th>3</th>\n",
       "      <td>style</td>\n",
       "      <td>androgynous</td>\n",
       "      <td>tfid_1gram</td>\n",
       "      <td>0.84</td>\n",
       "      <td>LogReg</td>\n",
       "    </tr>\n",
       "    <tr>\n",
       "      <th>4</th>\n",
       "      <td>style</td>\n",
       "      <td>androgynous</td>\n",
       "      <td>tfidf_2gram</td>\n",
       "      <td>0.82</td>\n",
       "      <td>LogReg</td>\n",
       "    </tr>\n",
       "  </tbody>\n",
       "</table>\n",
       "</div>"
      ],
      "text/plain": [
       "  category        label   vectorizer  Accuracy   model\n",
       "0    style  androgynous  count_1gram      0.82  LogReg\n",
       "1    style  androgynous  count_2gram      0.82  LogReg\n",
       "2    style  androgynous  count_3gram      0.81  LogReg\n",
       "3    style  androgynous   tfid_1gram      0.84  LogReg\n",
       "4    style  androgynous  tfidf_2gram      0.82  LogReg"
      ]
     },
     "execution_count": 156,
     "metadata": {},
     "output_type": "execute_result"
    }
   ],
   "source": [
    "results_logreg['model'] = 'LogReg'\n",
    "results_logreg = results_logreg.rename(columns={'LogReg_Accuracy':'Accuracy'})\n",
    "\n",
    "results_logreg.head(5)"
   ]
  },
  {
   "cell_type": "code",
   "execution_count": 171,
   "metadata": {},
   "outputs": [
    {
     "data": {
      "text/html": [
       "<div>\n",
       "<style scoped>\n",
       "    .dataframe tbody tr th:only-of-type {\n",
       "        vertical-align: middle;\n",
       "    }\n",
       "\n",
       "    .dataframe tbody tr th {\n",
       "        vertical-align: top;\n",
       "    }\n",
       "\n",
       "    .dataframe thead th {\n",
       "        text-align: right;\n",
       "    }\n",
       "</style>\n",
       "<table border=\"1\" class=\"dataframe\">\n",
       "  <thead>\n",
       "    <tr style=\"text-align: right;\">\n",
       "      <th></th>\n",
       "      <th>category</th>\n",
       "      <th>label</th>\n",
       "      <th>vectorizer</th>\n",
       "      <th>Accuracy</th>\n",
       "      <th>model</th>\n",
       "    </tr>\n",
       "  </thead>\n",
       "  <tbody>\n",
       "    <tr>\n",
       "      <th>0</th>\n",
       "      <td>style</td>\n",
       "      <td>androgynous</td>\n",
       "      <td>keras-glove</td>\n",
       "      <td>0.80</td>\n",
       "      <td>Keras-Glove</td>\n",
       "    </tr>\n",
       "    <tr>\n",
       "      <th>1</th>\n",
       "      <td>style</td>\n",
       "      <td>athleisure</td>\n",
       "      <td>keras-glove</td>\n",
       "      <td>0.96</td>\n",
       "      <td>Keras-Glove</td>\n",
       "    </tr>\n",
       "    <tr>\n",
       "      <th>2</th>\n",
       "      <td>style</td>\n",
       "      <td>boho</td>\n",
       "      <td>keras-glove</td>\n",
       "      <td>0.88</td>\n",
       "      <td>Keras-Glove</td>\n",
       "    </tr>\n",
       "    <tr>\n",
       "      <th>3</th>\n",
       "      <td>style</td>\n",
       "      <td>business casual</td>\n",
       "      <td>keras-glove</td>\n",
       "      <td>0.75</td>\n",
       "      <td>Keras-Glove</td>\n",
       "    </tr>\n",
       "    <tr>\n",
       "      <th>4</th>\n",
       "      <td>style</td>\n",
       "      <td>casual</td>\n",
       "      <td>keras-glove</td>\n",
       "      <td>0.71</td>\n",
       "      <td>Keras-Glove</td>\n",
       "    </tr>\n",
       "  </tbody>\n",
       "</table>\n",
       "</div>"
      ],
      "text/plain": [
       "  category            label   vectorizer  Accuracy        model\n",
       "0    style      androgynous  keras-glove      0.80  Keras-Glove\n",
       "1    style       athleisure  keras-glove      0.96  Keras-Glove\n",
       "2    style             boho  keras-glove      0.88  Keras-Glove\n",
       "3    style  business casual  keras-glove      0.75  Keras-Glove\n",
       "4    style           casual  keras-glove      0.71  Keras-Glove"
      ]
     },
     "execution_count": 171,
     "metadata": {},
     "output_type": "execute_result"
    }
   ],
   "source": [
    "results_keras_gl['model'] = 'Keras-Glove'\n",
    "results_keras_gl = results_keras_gl.rename(columns={'KerasGlove_Accuracy':'Accuracy'})\n",
    "\n",
    "results_keras_gl.head(5)"
   ]
  },
  {
   "cell_type": "code",
   "execution_count": 172,
   "metadata": {},
   "outputs": [
    {
     "data": {
      "text/html": [
       "<div>\n",
       "<style scoped>\n",
       "    .dataframe tbody tr th:only-of-type {\n",
       "        vertical-align: middle;\n",
       "    }\n",
       "\n",
       "    .dataframe tbody tr th {\n",
       "        vertical-align: top;\n",
       "    }\n",
       "\n",
       "    .dataframe thead th {\n",
       "        text-align: right;\n",
       "    }\n",
       "</style>\n",
       "<table border=\"1\" class=\"dataframe\">\n",
       "  <thead>\n",
       "    <tr style=\"text-align: right;\">\n",
       "      <th></th>\n",
       "      <th>category</th>\n",
       "      <th>label</th>\n",
       "      <th>vectorizer</th>\n",
       "      <th>Accuracy</th>\n",
       "      <th>model</th>\n",
       "    </tr>\n",
       "  </thead>\n",
       "  <tbody>\n",
       "    <tr>\n",
       "      <th>0</th>\n",
       "      <td>style</td>\n",
       "      <td>androgynous</td>\n",
       "      <td>keras-word embed</td>\n",
       "      <td>0.84</td>\n",
       "      <td>Keras-Word</td>\n",
       "    </tr>\n",
       "    <tr>\n",
       "      <th>1</th>\n",
       "      <td>style</td>\n",
       "      <td>athleisure</td>\n",
       "      <td>keras-word embed</td>\n",
       "      <td>0.98</td>\n",
       "      <td>Keras-Word</td>\n",
       "    </tr>\n",
       "    <tr>\n",
       "      <th>2</th>\n",
       "      <td>style</td>\n",
       "      <td>boho</td>\n",
       "      <td>keras-word embed</td>\n",
       "      <td>0.90</td>\n",
       "      <td>Keras-Word</td>\n",
       "    </tr>\n",
       "    <tr>\n",
       "      <th>3</th>\n",
       "      <td>style</td>\n",
       "      <td>business casual</td>\n",
       "      <td>keras-word embed</td>\n",
       "      <td>0.81</td>\n",
       "      <td>Keras-Word</td>\n",
       "    </tr>\n",
       "    <tr>\n",
       "      <th>4</th>\n",
       "      <td>style</td>\n",
       "      <td>casual</td>\n",
       "      <td>keras-word embed</td>\n",
       "      <td>0.79</td>\n",
       "      <td>Keras-Word</td>\n",
       "    </tr>\n",
       "  </tbody>\n",
       "</table>\n",
       "</div>"
      ],
      "text/plain": [
       "  category            label        vectorizer  Accuracy       model\n",
       "0    style      androgynous  keras-word embed      0.84  Keras-Word\n",
       "1    style       athleisure  keras-word embed      0.98  Keras-Word\n",
       "2    style             boho  keras-word embed      0.90  Keras-Word\n",
       "3    style  business casual  keras-word embed      0.81  Keras-Word\n",
       "4    style           casual  keras-word embed      0.79  Keras-Word"
      ]
     },
     "execution_count": 172,
     "metadata": {},
     "output_type": "execute_result"
    }
   ],
   "source": [
    "results_keras_w['model'] = 'Keras-Word'\n",
    "results_keras_w = results_keras_w.rename(columns={'Keras_Accuracy':'Accuracy'})\n",
    "\n",
    "results_keras_w.head(5)"
   ]
  },
  {
   "cell_type": "code",
   "execution_count": 173,
   "metadata": {},
   "outputs": [
    {
     "data": {
      "text/plain": [
       "(352, 5)"
      ]
     },
     "execution_count": 173,
     "metadata": {},
     "output_type": "execute_result"
    }
   ],
   "source": [
    "results_all = pd.concat([results_logreg, results_keras_w, results_keras_gl])\n",
    "results_all.shape"
   ]
  },
  {
   "cell_type": "code",
   "execution_count": 230,
   "metadata": {},
   "outputs": [
    {
     "data": {
      "text/html": [
       "<div>\n",
       "<style scoped>\n",
       "    .dataframe tbody tr th:only-of-type {\n",
       "        vertical-align: middle;\n",
       "    }\n",
       "\n",
       "    .dataframe tbody tr th {\n",
       "        vertical-align: top;\n",
       "    }\n",
       "\n",
       "    .dataframe thead th {\n",
       "        text-align: right;\n",
       "    }\n",
       "</style>\n",
       "<table border=\"1\" class=\"dataframe\">\n",
       "  <thead>\n",
       "    <tr style=\"text-align: right;\">\n",
       "      <th></th>\n",
       "      <th>category</th>\n",
       "      <th>label</th>\n",
       "      <th>vectorizer</th>\n",
       "      <th>Accuracy</th>\n",
       "      <th>model</th>\n",
       "    </tr>\n",
       "  </thead>\n",
       "  <tbody>\n",
       "    <tr>\n",
       "      <th>27</th>\n",
       "      <td>style</td>\n",
       "      <td>romantic</td>\n",
       "      <td>tfid_1gram</td>\n",
       "      <td>0.89</td>\n",
       "      <td>LogReg</td>\n",
       "    </tr>\n",
       "    <tr>\n",
       "      <th>22</th>\n",
       "      <td>style</td>\n",
       "      <td>retro</td>\n",
       "      <td>keras-word embed</td>\n",
       "      <td>0.95</td>\n",
       "      <td>Keras-Word</td>\n",
       "    </tr>\n",
       "    <tr>\n",
       "      <th>42</th>\n",
       "      <td>style</td>\n",
       "      <td>modern</td>\n",
       "      <td>tfid_1gram</td>\n",
       "      <td>0.74</td>\n",
       "      <td>LogReg</td>\n",
       "    </tr>\n",
       "    <tr>\n",
       "      <th>26</th>\n",
       "      <td>style</td>\n",
       "      <td>glam</td>\n",
       "      <td>keras-word embed</td>\n",
       "      <td>0.89</td>\n",
       "      <td>Keras-Word</td>\n",
       "    </tr>\n",
       "    <tr>\n",
       "      <th>33</th>\n",
       "      <td>style</td>\n",
       "      <td>edgy</td>\n",
       "      <td>keras-word embed</td>\n",
       "      <td>0.82</td>\n",
       "      <td>Keras-Word</td>\n",
       "    </tr>\n",
       "    <tr>\n",
       "      <th>43</th>\n",
       "      <td>style</td>\n",
       "      <td>classic</td>\n",
       "      <td>tfid_1gram</td>\n",
       "      <td>0.73</td>\n",
       "      <td>LogReg</td>\n",
       "    </tr>\n",
       "    <tr>\n",
       "      <th>34</th>\n",
       "      <td>style</td>\n",
       "      <td>casual</td>\n",
       "      <td>tfid_1gram</td>\n",
       "      <td>0.82</td>\n",
       "      <td>LogReg</td>\n",
       "    </tr>\n",
       "    <tr>\n",
       "      <th>35</th>\n",
       "      <td>style</td>\n",
       "      <td>business casual</td>\n",
       "      <td>keras-word embed</td>\n",
       "      <td>0.81</td>\n",
       "      <td>Keras-Word</td>\n",
       "    </tr>\n",
       "    <tr>\n",
       "      <th>25</th>\n",
       "      <td>style</td>\n",
       "      <td>boho</td>\n",
       "      <td>keras-word embed</td>\n",
       "      <td>0.90</td>\n",
       "      <td>Keras-Word</td>\n",
       "    </tr>\n",
       "    <tr>\n",
       "      <th>9</th>\n",
       "      <td>style</td>\n",
       "      <td>athleisure</td>\n",
       "      <td>keras-word embed</td>\n",
       "      <td>0.98</td>\n",
       "      <td>Keras-Word</td>\n",
       "    </tr>\n",
       "  </tbody>\n",
       "</table>\n",
       "</div>"
      ],
      "text/plain": [
       "   category            label        vectorizer  Accuracy       model\n",
       "27    style         romantic        tfid_1gram      0.89      LogReg\n",
       "22    style            retro  keras-word embed      0.95  Keras-Word\n",
       "42    style           modern        tfid_1gram      0.74      LogReg\n",
       "26    style             glam  keras-word embed      0.89  Keras-Word\n",
       "33    style             edgy  keras-word embed      0.82  Keras-Word\n",
       "43    style          classic        tfid_1gram      0.73      LogReg\n",
       "34    style           casual        tfid_1gram      0.82      LogReg\n",
       "35    style  business casual  keras-word embed      0.81  Keras-Word\n",
       "25    style             boho  keras-word embed      0.90  Keras-Word\n",
       "9     style       athleisure  keras-word embed      0.98  Keras-Word"
      ]
     },
     "execution_count": 230,
     "metadata": {},
     "output_type": "execute_result"
    }
   ],
   "source": [
    "results_fin = results_all.copy()\n",
    "\n",
    "results_fin = results_fin.sort_values('Accuracy', ascending=False).drop_duplicates(['category','label'])\n",
    "results_fin = results_fin.reset_index()\n",
    "results_fin = results_fin.drop(columns = ['index'])\n",
    "results_fin = results_fin.sort_values(['category', 'label'], ascending=False)\n",
    "results_fin.head(10)"
   ]
  },
  {
   "cell_type": "code",
   "execution_count": 231,
   "metadata": {},
   "outputs": [
    {
     "data": {
      "text/plain": [
       "(44, 5)"
      ]
     },
     "execution_count": 231,
     "metadata": {},
     "output_type": "execute_result"
    }
   ],
   "source": [
    "results_fin.shape"
   ]
  },
  {
   "cell_type": "code",
   "execution_count": 316,
   "metadata": {},
   "outputs": [
    {
     "data": {
      "text/plain": [
       "keras-word embed    24\n",
       "tfid_1gram           8\n",
       "keras-glove          7\n",
       "count_1gram          4\n",
       "tfidf_3gram          1\n",
       "Name: vectorizer, dtype: int64"
      ]
     },
     "execution_count": 316,
     "metadata": {},
     "output_type": "execute_result"
    }
   ],
   "source": [
    "results_fin.vectorizer.value_counts()"
   ]
  },
  {
   "cell_type": "code",
   "execution_count": 315,
   "metadata": {},
   "outputs": [],
   "source": [
    "results_fin.to_csv('01 Final Results.csv', index = False)"
   ]
  },
  {
   "cell_type": "code",
   "execution_count": 353,
   "metadata": {},
   "outputs": [],
   "source": [
    "def log_reg_fin(X_train, Y_train):\n",
    "    \n",
    "    model = LogisticRegression()\n",
    "    print(X_train.shape)\n",
    "    print(Y_train.shape)\n",
    "    model.fit(X_train, Y_train)\n",
    "    \n",
    "    return model"
   ]
  },
  {
   "cell_type": "code",
   "execution_count": 354,
   "metadata": {},
   "outputs": [],
   "source": [
    "def keras_m_fin(X_train, y_train, vocab_size, EMBEDDING_SIZE, max_length):\n",
    "    \n",
    "    # define the model\n",
    "    model = Sequential()\n",
    "    model.add(Embedding(vocab_size, EMBEDDING_SIZE, input_length=max_length))\n",
    "    model.add(Flatten())\n",
    "    \n",
    "    # since we are doing binary classification, activation function is sigmoid\n",
    "    model.add(Dense(1, activation='sigmoid')) \n",
    "\n",
    "    model.compile(optimizer='adam', loss='binary_crossentropy', metrics=['acc'])\n",
    "    \n",
    "    model.fit(X_train, y_train, epochs=20, verbose=0)\n",
    "    \n",
    "    return model"
   ]
  },
  {
   "cell_type": "code",
   "execution_count": 355,
   "metadata": {},
   "outputs": [],
   "source": [
    "def keras_gl_fin(X_train, y_train, vocab_size, embedding_matrix, max_length):\n",
    "    \n",
    "    # define model\n",
    "    model = Sequential()\n",
    "    e = Embedding(vocab_size, 100, weights=[embedding_matrix], input_length=max_length, trainable=False)\n",
    "    model.add(e)\n",
    "    model.add(Flatten())\n",
    "    model.add(Dense(1, activation='sigmoid'))\n",
    "    \n",
    "    # compile the model\n",
    "    model.compile(optimizer='adam', loss='binary_crossentropy', metrics=['acc'])\n",
    "\n",
    "    # fit the model\n",
    "    model.fit(X_train, y_train, epochs=20, verbose=0)\n",
    "\n",
    "    return model"
   ]
  },
  {
   "cell_type": "code",
   "execution_count": 356,
   "metadata": {},
   "outputs": [
    {
     "data": {
      "application/vnd.jupyter.widget-view+json": {
       "model_id": "433e3d3118a040619f8ec21ec267769b",
       "version_major": 2,
       "version_minor": 0
      },
      "text/plain": [
       "HBox(children=(FloatProgress(value=0.0, max=4.0), HTML(value='')))"
      ]
     },
     "metadata": {},
     "output_type": "display_data"
    },
    {
     "data": {
      "application/vnd.jupyter.widget-view+json": {
       "model_id": "cfe96fbfacb64e44968fef3b3501903e",
       "version_major": 2,
       "version_minor": 0
      },
      "text/plain": [
       "HBox(children=(FloatProgress(value=0.0, max=11.0), HTML(value='')))"
      ]
     },
     "metadata": {},
     "output_type": "display_data"
    },
    {
     "name": "stdout",
     "output_type": "stream",
     "text": [
      "(3916, 6924)\n",
      "(3916, 6924)\n",
      "(3916,)\n",
      "(3916, 6924)\n",
      "(3916, 6924)\n",
      "(3916,)\n",
      "(3916, 6924)\n",
      "(3916, 6924)\n",
      "(3916,)\n",
      "(3916, 6924)\n",
      "(3916, 6924)\n",
      "(3916,)\n",
      "\n"
     ]
    },
    {
     "data": {
      "application/vnd.jupyter.widget-view+json": {
       "model_id": "2f70c2afb3154cd597de6ae78fdf4a64",
       "version_major": 2,
       "version_minor": 0
      },
      "text/plain": [
       "HBox(children=(FloatProgress(value=0.0, max=7.0), HTML(value='')))"
      ]
     },
     "metadata": {},
     "output_type": "display_data"
    },
    {
     "name": "stdout",
     "output_type": "stream",
     "text": [
      "(3914, 1445)\n",
      "(3914, 1445)\n",
      "(3914,)\n",
      "(3914, 6913)\n",
      "(3914, 6913)\n",
      "(3914,)\n",
      "(3914, 6913)\n",
      "(3914, 6913)\n",
      "(3914,)\n",
      "\n"
     ]
    },
    {
     "data": {
      "application/vnd.jupyter.widget-view+json": {
       "model_id": "30c551bd78c04baeba4ca6bc2fb4fd2e",
       "version_major": 2,
       "version_minor": 0
      },
      "text/plain": [
       "HBox(children=(FloatProgress(value=0.0, max=5.0), HTML(value='')))"
      ]
     },
     "metadata": {},
     "output_type": "display_data"
    },
    {
     "name": "stdout",
     "output_type": "stream",
     "text": [
      "(2949, 1117)\n",
      "(2949, 1117)\n",
      "(2949,)\n",
      "(2949, 5533)\n",
      "(2949, 5533)\n",
      "(2949,)\n",
      "(2949, 58781)\n",
      "(2949, 58781)\n",
      "(2949,)\n",
      "(2949, 5533)\n",
      "(2949, 5533)\n",
      "(2949,)\n",
      "\n"
     ]
    },
    {
     "data": {
      "application/vnd.jupyter.widget-view+json": {
       "model_id": "78ba833652714627827bb27135b87f7f",
       "version_major": 2,
       "version_minor": 0
      },
      "text/plain": [
       "HBox(children=(FloatProgress(value=0.0, max=21.0), HTML(value='')))"
      ]
     },
     "metadata": {},
     "output_type": "display_data"
    },
    {
     "name": "stdout",
     "output_type": "stream",
     "text": [
      "(6672, 2074)\n",
      "(6672, 2074)\n",
      "(6672,)\n",
      "(6672, 2074)\n",
      "(6672, 2074)\n",
      "(6672,)\n",
      "\n",
      "\n"
     ]
    }
   ],
   "source": [
    "category_list = []\n",
    "label_list = []\n",
    "vectorizer_list = []\n",
    "models_list = []\n",
    "\n",
    "for i in tqdm_notebook(cat):\n",
    "    \n",
    "    if i == 'style':\n",
    "        df = df_style.copy()\n",
    "        \n",
    "    if i == 'occasion':\n",
    "        df = df_occasion.copy()\n",
    "    \n",
    "    if i == 'fit':\n",
    "        df = df_fit.copy()\n",
    "    \n",
    "    if i == 'color':\n",
    "        df = df_color.copy()\n",
    "        \n",
    "    \n",
    "    labels = list(df.iloc[:,1:-2].columns)\n",
    "    \n",
    "    tokenizer = Tokenizer(num_words=5000, oov_token=\"UNKNOWN_TOKEN\")\n",
    "    tokenizer.fit_on_texts(df['combined'])\n",
    "\n",
    "    max_length = get_max_token_length_per_doc(df['combined'])\n",
    "\n",
    "    # integer encode the training data\n",
    "    encoded_docs = integer_encode_documents(df['combined'], tokenizer)\n",
    "    # pad the documents\n",
    "    padded_docs = pad_sequences(encoded_docs, maxlen=max_length, padding='post')\n",
    "    # get vocab size\n",
    "    vocab_size = int(len(tokenizer.word_index) + 1)\n",
    "\n",
    "    # create a weight matrix for words in training docs\n",
    "    embedding_matrix = zeros((vocab_size, 100))\n",
    "    for word, p in tokenizer.word_index.items():\n",
    "        embedding_vector = embeddings_index.get(word)\n",
    "        if embedding_vector is not None: # check that it is an actual word that we have embeddings for\n",
    "            embedding_matrix[p] = embedding_vector\n",
    "\n",
    "    for j in tqdm_notebook(labels):\n",
    "        \n",
    "        category_list.append(i)\n",
    "        label_list.append(j)\n",
    "\n",
    "        X_train = df['combined'].copy()\n",
    "        y_train = df[j].copy()\n",
    "        \n",
    "        vectorizer_fin = results_fin.loc[(results_fin.category==i)&(results_fin.label==j),'vectorizer'].values[0]\n",
    "\n",
    "        if vectorizer_fin==\"count_1gram\":\n",
    "            train_df, vectorizer = count_(X_train)\n",
    "            vectorizer_list.append(vectorizer)\n",
    "\n",
    "        if vectorizer_fin==\"count_2gram\":\n",
    "            train_df, vectorizer = count_2gram(X_train)\n",
    "            vectorizer_list.append(vectorizer)\n",
    "\n",
    "        if vectorizer_fin==\"count_3gram\":\n",
    "            train_df, vectorizer = count_3gram(X_train)\n",
    "            vectorizer_list.append(vectorizer)\n",
    "\n",
    "        if vectorizer_fin==\"tfid_1gram\":\n",
    "            train_df, vectorizer = tfidf(X_train)\n",
    "            vectorizer_list.append(vectorizer)\n",
    "\n",
    "        if vectorizer_fin==\"tfidf_2gram\":\n",
    "            train_df, vectorizer = tfidf_2gram(X_train)\n",
    "            vectorizer_list.append(vectorizer)\n",
    "\n",
    "        if vectorizer_fin==\"tfidf_3gram\":\n",
    "            train_df, vectorizer = tfidf_3gram(X_train)\n",
    "            vectorizer_list.append(vectorizer)\n",
    "            \n",
    "        model_fin = results_fin.loc[(results_fin.category==i)&(results_fin.label==j),'model'].values[0]\n",
    "        \n",
    "        if model_fin==\"LogReg\":\n",
    "            print (train_df.shape)\n",
    "            model = log_reg_fin(train_df, y_train)\n",
    "            models_list.append(model)\n",
    "            \n",
    "        if model_fin==\"Keras-Word\":\n",
    "            vectorizer_list.append(tokenizer)\n",
    "            EMBEDDING_SIZE = 50\n",
    "            model = keras_m_fin(padded_docs, y_train, vocab_size, EMBEDDING_SIZE, max_length)\n",
    "            models_list.append(model)\n",
    "            \n",
    "        if model_fin==\"Keras-Glove\":\n",
    "            vectorizer_list.append(tokenizer)\n",
    "            model = keras_gl_fin(padded_docs, y_train, vocab_size, embedding_matrix, max_length)\n",
    "            models_list.append(model)"
   ]
  },
  {
   "cell_type": "code",
   "execution_count": 324,
   "metadata": {},
   "outputs": [],
   "source": [
    "mod_vec = pd.DataFrame({\"category\":category_list, \"label\":label_list, \"vectorizer\":vectorizer_list,\n",
    "                               \"model\":models_list})"
   ]
  },
  {
   "cell_type": "code",
   "execution_count": 325,
   "metadata": {},
   "outputs": [
    {
     "name": "stdout",
     "output_type": "stream",
     "text": [
      "44\n",
      "44\n",
      "44\n",
      "44\n"
     ]
    }
   ],
   "source": [
    "\n",
    "for i in [category_list, label_list, vectorizer_list, models_list]:\n",
    "    print(len(i))"
   ]
  },
  {
   "cell_type": "code",
   "execution_count": 326,
   "metadata": {},
   "outputs": [
    {
     "data": {
      "text/plain": [
       "(44, 4)"
      ]
     },
     "execution_count": 326,
     "metadata": {},
     "output_type": "execute_result"
    }
   ],
   "source": [
    "mod_vec.shape"
   ]
  },
  {
   "cell_type": "code",
   "execution_count": 327,
   "metadata": {},
   "outputs": [
    {
     "data": {
      "text/html": [
       "<div>\n",
       "<style scoped>\n",
       "    .dataframe tbody tr th:only-of-type {\n",
       "        vertical-align: middle;\n",
       "    }\n",
       "\n",
       "    .dataframe tbody tr th {\n",
       "        vertical-align: top;\n",
       "    }\n",
       "\n",
       "    .dataframe thead th {\n",
       "        text-align: right;\n",
       "    }\n",
       "</style>\n",
       "<table border=\"1\" class=\"dataframe\">\n",
       "  <thead>\n",
       "    <tr style=\"text-align: right;\">\n",
       "      <th></th>\n",
       "      <th>category</th>\n",
       "      <th>label</th>\n",
       "      <th>vectorizer</th>\n",
       "      <th>model</th>\n",
       "    </tr>\n",
       "  </thead>\n",
       "  <tbody>\n",
       "    <tr>\n",
       "      <th>0</th>\n",
       "      <td>style</td>\n",
       "      <td>androgynous</td>\n",
       "      <td>&lt;keras_preprocessing.text.Tokenizer object at ...</td>\n",
       "      <td>&lt;keras.engine.sequential.Sequential object at ...</td>\n",
       "    </tr>\n",
       "    <tr>\n",
       "      <th>1</th>\n",
       "      <td>style</td>\n",
       "      <td>athleisure</td>\n",
       "      <td>&lt;keras_preprocessing.text.Tokenizer object at ...</td>\n",
       "      <td>&lt;keras.engine.sequential.Sequential object at ...</td>\n",
       "    </tr>\n",
       "    <tr>\n",
       "      <th>2</th>\n",
       "      <td>style</td>\n",
       "      <td>boho</td>\n",
       "      <td>&lt;keras_preprocessing.text.Tokenizer object at ...</td>\n",
       "      <td>&lt;keras.engine.sequential.Sequential object at ...</td>\n",
       "    </tr>\n",
       "    <tr>\n",
       "      <th>3</th>\n",
       "      <td>style</td>\n",
       "      <td>business casual</td>\n",
       "      <td>&lt;keras_preprocessing.text.Tokenizer object at ...</td>\n",
       "      <td>&lt;keras.engine.sequential.Sequential object at ...</td>\n",
       "    </tr>\n",
       "    <tr>\n",
       "      <th>4</th>\n",
       "      <td>style</td>\n",
       "      <td>casual</td>\n",
       "      <td>TfidfVectorizer(analyzer='word', binary=False,...</td>\n",
       "      <td>LogisticRegression(C=1.0, class_weight=None, d...</td>\n",
       "    </tr>\n",
       "    <tr>\n",
       "      <th>5</th>\n",
       "      <td>style</td>\n",
       "      <td>classic</td>\n",
       "      <td>TfidfVectorizer(analyzer='word', binary=False,...</td>\n",
       "      <td>LogisticRegression(C=1.0, class_weight=None, d...</td>\n",
       "    </tr>\n",
       "    <tr>\n",
       "      <th>6</th>\n",
       "      <td>style</td>\n",
       "      <td>edgy</td>\n",
       "      <td>&lt;keras_preprocessing.text.Tokenizer object at ...</td>\n",
       "      <td>&lt;keras.engine.sequential.Sequential object at ...</td>\n",
       "    </tr>\n",
       "    <tr>\n",
       "      <th>7</th>\n",
       "      <td>style</td>\n",
       "      <td>glam</td>\n",
       "      <td>&lt;keras_preprocessing.text.Tokenizer object at ...</td>\n",
       "      <td>&lt;keras.engine.sequential.Sequential object at ...</td>\n",
       "    </tr>\n",
       "    <tr>\n",
       "      <th>8</th>\n",
       "      <td>style</td>\n",
       "      <td>modern</td>\n",
       "      <td>TfidfVectorizer(analyzer='word', binary=False,...</td>\n",
       "      <td>LogisticRegression(C=1.0, class_weight=None, d...</td>\n",
       "    </tr>\n",
       "    <tr>\n",
       "      <th>9</th>\n",
       "      <td>style</td>\n",
       "      <td>retro</td>\n",
       "      <td>&lt;keras_preprocessing.text.Tokenizer object at ...</td>\n",
       "      <td>&lt;keras.engine.sequential.Sequential object at ...</td>\n",
       "    </tr>\n",
       "  </tbody>\n",
       "</table>\n",
       "</div>"
      ],
      "text/plain": [
       "  category            label  \\\n",
       "0    style      androgynous   \n",
       "1    style       athleisure   \n",
       "2    style             boho   \n",
       "3    style  business casual   \n",
       "4    style           casual   \n",
       "5    style          classic   \n",
       "6    style             edgy   \n",
       "7    style             glam   \n",
       "8    style           modern   \n",
       "9    style            retro   \n",
       "\n",
       "                                          vectorizer  \\\n",
       "0  <keras_preprocessing.text.Tokenizer object at ...   \n",
       "1  <keras_preprocessing.text.Tokenizer object at ...   \n",
       "2  <keras_preprocessing.text.Tokenizer object at ...   \n",
       "3  <keras_preprocessing.text.Tokenizer object at ...   \n",
       "4  TfidfVectorizer(analyzer='word', binary=False,...   \n",
       "5  TfidfVectorizer(analyzer='word', binary=False,...   \n",
       "6  <keras_preprocessing.text.Tokenizer object at ...   \n",
       "7  <keras_preprocessing.text.Tokenizer object at ...   \n",
       "8  TfidfVectorizer(analyzer='word', binary=False,...   \n",
       "9  <keras_preprocessing.text.Tokenizer object at ...   \n",
       "\n",
       "                                               model  \n",
       "0  <keras.engine.sequential.Sequential object at ...  \n",
       "1  <keras.engine.sequential.Sequential object at ...  \n",
       "2  <keras.engine.sequential.Sequential object at ...  \n",
       "3  <keras.engine.sequential.Sequential object at ...  \n",
       "4  LogisticRegression(C=1.0, class_weight=None, d...  \n",
       "5  LogisticRegression(C=1.0, class_weight=None, d...  \n",
       "6  <keras.engine.sequential.Sequential object at ...  \n",
       "7  <keras.engine.sequential.Sequential object at ...  \n",
       "8  LogisticRegression(C=1.0, class_weight=None, d...  \n",
       "9  <keras.engine.sequential.Sequential object at ...  "
      ]
     },
     "execution_count": 327,
     "metadata": {},
     "output_type": "execute_result"
    }
   ],
   "source": [
    "mod_vec.head(10)"
   ]
  },
  {
   "cell_type": "code",
   "execution_count": 328,
   "metadata": {},
   "outputs": [],
   "source": [
    "# test data to be input here (this is dummy data):\n",
    "test_brand = \"Forever 21\"\n",
    "test_product_full_name = \"Jeans size 34 M,\"\n",
    "test_description = \"This is a slim jeans\"\n",
    "test_brand_category = \"Denim Jeans\"\n",
    "test_details = \"Blue color\"\n",
    "\n",
    "test_doc = test_brand +\" \" + test_product_full_name + \" \" + test_description + \" \" + test_brand_category +\\\n",
    "            \" \" + test_details\n",
    "\n",
    "test_list = ['temp']\n",
    "test_list[0] = test_doc\n",
    "test_df2 = pd.DataFrame(data = test_list, columns = [\"testdoc\"])"
   ]
  },
  {
   "cell_type": "code",
   "execution_count": 333,
   "metadata": {},
   "outputs": [
    {
     "data": {
      "text/html": [
       "<div>\n",
       "<style scoped>\n",
       "    .dataframe tbody tr th:only-of-type {\n",
       "        vertical-align: middle;\n",
       "    }\n",
       "\n",
       "    .dataframe tbody tr th {\n",
       "        vertical-align: top;\n",
       "    }\n",
       "\n",
       "    .dataframe thead th {\n",
       "        text-align: right;\n",
       "    }\n",
       "</style>\n",
       "<table border=\"1\" class=\"dataframe\">\n",
       "  <thead>\n",
       "    <tr style=\"text-align: right;\">\n",
       "      <th></th>\n",
       "      <th>testdoc</th>\n",
       "    </tr>\n",
       "  </thead>\n",
       "  <tbody>\n",
       "    <tr>\n",
       "      <th>0</th>\n",
       "      <td>forever 21 jean size 34 slim jean denim jean b...</td>\n",
       "    </tr>\n",
       "  </tbody>\n",
       "</table>\n",
       "</div>"
      ],
      "text/plain": [
       "                                             testdoc\n",
       "0  forever 21 jean size 34 slim jean denim jean b..."
      ]
     },
     "execution_count": 333,
     "metadata": {},
     "output_type": "execute_result"
    }
   ],
   "source": [
    "# cleaning the test document\n",
    "test_df2['testdoc'] = test_df2['testdoc'].astype(str).apply(clean_punct)\n",
    "\n",
    "test_df2['testdoc'] = list(\n",
    "    map(lambda doc: \" \".join([token.text for token in nlp(doc) if not token.is_stop]), list(test_df2['testdoc'])))\n",
    "\n",
    "test_df2['testdoc'] = lemm(test_df2['testdoc'])\n",
    "\n",
    "test_df2"
   ]
  },
  {
   "cell_type": "code",
   "execution_count": 374,
   "metadata": {},
   "outputs": [
    {
     "data": {
      "application/vnd.jupyter.widget-view+json": {
       "model_id": "4d00d8cf081b4dcfac48f0841844b21d",
       "version_major": 2,
       "version_minor": 0
      },
      "text/plain": [
       "HBox(children=(FloatProgress(value=0.0, max=4.0), HTML(value='')))"
      ]
     },
     "metadata": {},
     "output_type": "display_data"
    },
    {
     "data": {
      "application/vnd.jupyter.widget-view+json": {
       "model_id": "9382e5276f6c41c9b97665aa6a63d6c1",
       "version_major": 2,
       "version_minor": 0
      },
      "text/plain": [
       "HBox(children=(FloatProgress(value=0.0, max=11.0), HTML(value='')))"
      ]
     },
     "metadata": {},
     "output_type": "display_data"
    },
    {
     "name": "stdout",
     "output_type": "stream",
     "text": [
      "\n"
     ]
    },
    {
     "data": {
      "application/vnd.jupyter.widget-view+json": {
       "model_id": "8555de23c9004e1ebfc22811806ce4e4",
       "version_major": 2,
       "version_minor": 0
      },
      "text/plain": [
       "HBox(children=(FloatProgress(value=0.0, max=7.0), HTML(value='')))"
      ]
     },
     "metadata": {},
     "output_type": "display_data"
    },
    {
     "name": "stdout",
     "output_type": "stream",
     "text": [
      "\n"
     ]
    },
    {
     "data": {
      "application/vnd.jupyter.widget-view+json": {
       "model_id": "8a194b81adda45458d3b066079a44f31",
       "version_major": 2,
       "version_minor": 0
      },
      "text/plain": [
       "HBox(children=(FloatProgress(value=0.0, max=5.0), HTML(value='')))"
      ]
     },
     "metadata": {},
     "output_type": "display_data"
    },
    {
     "name": "stdout",
     "output_type": "stream",
     "text": [
      "\n"
     ]
    },
    {
     "data": {
      "application/vnd.jupyter.widget-view+json": {
       "model_id": "d3929f639ed2417a80d7c8b00539ef13",
       "version_major": 2,
       "version_minor": 0
      },
      "text/plain": [
       "HBox(children=(FloatProgress(value=0.0, max=21.0), HTML(value='')))"
      ]
     },
     "metadata": {},
     "output_type": "display_data"
    },
    {
     "name": "stdout",
     "output_type": "stream",
     "text": [
      "\n",
      "\n"
     ]
    }
   ],
   "source": [
    "category_list = []\n",
    "label_list = []\n",
    "vectorizer_list = []\n",
    "pred_val_list = []\n",
    "\n",
    "for i in tqdm_notebook(cat):\n",
    "    \n",
    "    if i == 'style':\n",
    "        df = df_style.copy()\n",
    "        \n",
    "    if i == 'occasion':\n",
    "        df = df_occasion.copy()\n",
    "    \n",
    "    if i == 'fit':\n",
    "        df = df_fit.copy()\n",
    "    \n",
    "    if i == 'color':\n",
    "        df = df_color.copy()\n",
    "        \n",
    "    \n",
    "    labels = list(df.iloc[:,1:-2].columns)\n",
    "    \n",
    "    y_test = test_df2['testdoc']\n",
    "    \n",
    "    for j in tqdm_notebook(labels):\n",
    "        \n",
    "        vector_toc = mod_vec.loc[(mod_vec.category==i)&(mod_vec.label==j),'vectorizer'].values[0]\n",
    "        \n",
    "        model_check = results_fin.loc[(results_fin.category==i)&(results_fin.label==j),'model'].values[0]\n",
    "        \n",
    "        if (model_check==\"Keras-Word\")|(model_check==\"Keras-Glove\"):\n",
    "            \n",
    "            max_length = get_max_token_length_per_doc(df['combined'])\n",
    "\n",
    "            # integer encode the training data\n",
    "            encoded_docs = integer_encode_documents(y_test, vector_toc)\n",
    "            # pad the documents\n",
    "            padded_docs = pad_sequences(encoded_docs, maxlen=max_length, padding='post')\n",
    "                \n",
    "            model = mod_vec.loc[(mod_vec.category==i)&(mod_vec.label==j),'model'].values[0]\n",
    "            \n",
    "            predi = model.predict(padded_docs)[0]\n",
    "            y_pred = predi[0]\n",
    "        else:\n",
    "            model = mod_vec.loc[(mod_vec.category==i)&(mod_vec.label==j),'model'].values[0]\n",
    "            \n",
    "            test_vector = vector_toc.transform(y_test)\n",
    "\n",
    "            test_df = pd.DataFrame(test_vector.toarray(), columns=vector_toc.get_feature_names())\n",
    "\n",
    "            predi = model.predict_proba(test_df)[0]\n",
    "            y_pred = predi[1]\n",
    "            \n",
    "        category_list.append(i)\n",
    "        label_list.append(j)\n",
    "        pred_val_list.append(y_pred)"
   ]
  },
  {
   "cell_type": "code",
   "execution_count": 375,
   "metadata": {},
   "outputs": [],
   "source": [
    "pred_labels = pd.DataFrame({\"category\":category_list, \"label\":label_list, \"pred_val\":pred_val_list})"
   ]
  },
  {
   "cell_type": "code",
   "execution_count": 376,
   "metadata": {},
   "outputs": [
    {
     "data": {
      "text/html": [
       "<div>\n",
       "<style scoped>\n",
       "    .dataframe tbody tr th:only-of-type {\n",
       "        vertical-align: middle;\n",
       "    }\n",
       "\n",
       "    .dataframe tbody tr th {\n",
       "        vertical-align: top;\n",
       "    }\n",
       "\n",
       "    .dataframe thead th {\n",
       "        text-align: right;\n",
       "    }\n",
       "</style>\n",
       "<table border=\"1\" class=\"dataframe\">\n",
       "  <thead>\n",
       "    <tr style=\"text-align: right;\">\n",
       "      <th></th>\n",
       "      <th>category</th>\n",
       "      <th>label</th>\n",
       "      <th>pred_val</th>\n",
       "    </tr>\n",
       "  </thead>\n",
       "  <tbody>\n",
       "    <tr>\n",
       "      <th>0</th>\n",
       "      <td>style</td>\n",
       "      <td>androgynous</td>\n",
       "      <td>0.757564</td>\n",
       "    </tr>\n",
       "    <tr>\n",
       "      <th>1</th>\n",
       "      <td>style</td>\n",
       "      <td>athleisure</td>\n",
       "      <td>0.000088</td>\n",
       "    </tr>\n",
       "    <tr>\n",
       "      <th>2</th>\n",
       "      <td>style</td>\n",
       "      <td>boho</td>\n",
       "      <td>0.012177</td>\n",
       "    </tr>\n",
       "    <tr>\n",
       "      <th>3</th>\n",
       "      <td>style</td>\n",
       "      <td>business casual</td>\n",
       "      <td>0.013776</td>\n",
       "    </tr>\n",
       "    <tr>\n",
       "      <th>4</th>\n",
       "      <td>style</td>\n",
       "      <td>casual</td>\n",
       "      <td>0.938546</td>\n",
       "    </tr>\n",
       "    <tr>\n",
       "      <th>5</th>\n",
       "      <td>style</td>\n",
       "      <td>classic</td>\n",
       "      <td>0.647485</td>\n",
       "    </tr>\n",
       "    <tr>\n",
       "      <th>6</th>\n",
       "      <td>style</td>\n",
       "      <td>edgy</td>\n",
       "      <td>0.027490</td>\n",
       "    </tr>\n",
       "    <tr>\n",
       "      <th>7</th>\n",
       "      <td>style</td>\n",
       "      <td>glam</td>\n",
       "      <td>0.000896</td>\n",
       "    </tr>\n",
       "    <tr>\n",
       "      <th>8</th>\n",
       "      <td>style</td>\n",
       "      <td>modern</td>\n",
       "      <td>0.344091</td>\n",
       "    </tr>\n",
       "    <tr>\n",
       "      <th>9</th>\n",
       "      <td>style</td>\n",
       "      <td>retro</td>\n",
       "      <td>0.050023</td>\n",
       "    </tr>\n",
       "    <tr>\n",
       "      <th>10</th>\n",
       "      <td>style</td>\n",
       "      <td>romantic</td>\n",
       "      <td>0.090074</td>\n",
       "    </tr>\n",
       "    <tr>\n",
       "      <th>11</th>\n",
       "      <td>occasion</td>\n",
       "      <td>coldweather</td>\n",
       "      <td>0.006890</td>\n",
       "    </tr>\n",
       "    <tr>\n",
       "      <th>12</th>\n",
       "      <td>occasion</td>\n",
       "      <td>day to night</td>\n",
       "      <td>0.995236</td>\n",
       "    </tr>\n",
       "    <tr>\n",
       "      <th>13</th>\n",
       "      <td>occasion</td>\n",
       "      <td>night out</td>\n",
       "      <td>0.188290</td>\n",
       "    </tr>\n",
       "    <tr>\n",
       "      <th>14</th>\n",
       "      <td>occasion</td>\n",
       "      <td>vacation</td>\n",
       "      <td>0.006803</td>\n",
       "    </tr>\n",
       "    <tr>\n",
       "      <th>15</th>\n",
       "      <td>occasion</td>\n",
       "      <td>weekend</td>\n",
       "      <td>0.971282</td>\n",
       "    </tr>\n",
       "    <tr>\n",
       "      <th>16</th>\n",
       "      <td>occasion</td>\n",
       "      <td>work</td>\n",
       "      <td>0.168771</td>\n",
       "    </tr>\n",
       "    <tr>\n",
       "      <th>17</th>\n",
       "      <td>occasion</td>\n",
       "      <td>workout</td>\n",
       "      <td>0.000015</td>\n",
       "    </tr>\n",
       "    <tr>\n",
       "      <th>18</th>\n",
       "      <td>fit</td>\n",
       "      <td>fitted / tailored</td>\n",
       "      <td>0.242648</td>\n",
       "    </tr>\n",
       "    <tr>\n",
       "      <th>19</th>\n",
       "      <td>fit</td>\n",
       "      <td>oversized</td>\n",
       "      <td>0.054451</td>\n",
       "    </tr>\n",
       "    <tr>\n",
       "      <th>20</th>\n",
       "      <td>fit</td>\n",
       "      <td>relaxed</td>\n",
       "      <td>0.143820</td>\n",
       "    </tr>\n",
       "    <tr>\n",
       "      <th>21</th>\n",
       "      <td>fit</td>\n",
       "      <td>semi-fitted</td>\n",
       "      <td>0.242114</td>\n",
       "    </tr>\n",
       "    <tr>\n",
       "      <th>22</th>\n",
       "      <td>fit</td>\n",
       "      <td>straight / regular</td>\n",
       "      <td>0.150740</td>\n",
       "    </tr>\n",
       "    <tr>\n",
       "      <th>23</th>\n",
       "      <td>color</td>\n",
       "      <td>beiges</td>\n",
       "      <td>0.005616</td>\n",
       "    </tr>\n",
       "    <tr>\n",
       "      <th>24</th>\n",
       "      <td>color</td>\n",
       "      <td>blacks</td>\n",
       "      <td>0.020286</td>\n",
       "    </tr>\n",
       "    <tr>\n",
       "      <th>25</th>\n",
       "      <td>color</td>\n",
       "      <td>blues</td>\n",
       "      <td>0.998452</td>\n",
       "    </tr>\n",
       "    <tr>\n",
       "      <th>26</th>\n",
       "      <td>color</td>\n",
       "      <td>browns</td>\n",
       "      <td>0.015838</td>\n",
       "    </tr>\n",
       "    <tr>\n",
       "      <th>27</th>\n",
       "      <td>color</td>\n",
       "      <td>burgundies</td>\n",
       "      <td>0.011617</td>\n",
       "    </tr>\n",
       "    <tr>\n",
       "      <th>28</th>\n",
       "      <td>color</td>\n",
       "      <td>darkbrowns</td>\n",
       "      <td>0.001950</td>\n",
       "    </tr>\n",
       "    <tr>\n",
       "      <th>29</th>\n",
       "      <td>color</td>\n",
       "      <td>golds</td>\n",
       "      <td>0.000057</td>\n",
       "    </tr>\n",
       "    <tr>\n",
       "      <th>30</th>\n",
       "      <td>color</td>\n",
       "      <td>grays</td>\n",
       "      <td>0.211209</td>\n",
       "    </tr>\n",
       "    <tr>\n",
       "      <th>31</th>\n",
       "      <td>color</td>\n",
       "      <td>greens</td>\n",
       "      <td>0.003415</td>\n",
       "    </tr>\n",
       "    <tr>\n",
       "      <th>32</th>\n",
       "      <td>color</td>\n",
       "      <td>lightbrowns</td>\n",
       "      <td>0.002289</td>\n",
       "    </tr>\n",
       "    <tr>\n",
       "      <th>33</th>\n",
       "      <td>color</td>\n",
       "      <td>multi</td>\n",
       "      <td>0.010889</td>\n",
       "    </tr>\n",
       "    <tr>\n",
       "      <th>34</th>\n",
       "      <td>color</td>\n",
       "      <td>navy</td>\n",
       "      <td>0.289847</td>\n",
       "    </tr>\n",
       "    <tr>\n",
       "      <th>35</th>\n",
       "      <td>color</td>\n",
       "      <td>neutrals</td>\n",
       "      <td>0.000218</td>\n",
       "    </tr>\n",
       "    <tr>\n",
       "      <th>36</th>\n",
       "      <td>color</td>\n",
       "      <td>oranges</td>\n",
       "      <td>0.002789</td>\n",
       "    </tr>\n",
       "    <tr>\n",
       "      <th>37</th>\n",
       "      <td>color</td>\n",
       "      <td>pinks</td>\n",
       "      <td>0.000151</td>\n",
       "    </tr>\n",
       "    <tr>\n",
       "      <th>38</th>\n",
       "      <td>color</td>\n",
       "      <td>purples</td>\n",
       "      <td>0.001007</td>\n",
       "    </tr>\n",
       "    <tr>\n",
       "      <th>39</th>\n",
       "      <td>color</td>\n",
       "      <td>reds</td>\n",
       "      <td>0.002456</td>\n",
       "    </tr>\n",
       "    <tr>\n",
       "      <th>40</th>\n",
       "      <td>color</td>\n",
       "      <td>silvers</td>\n",
       "      <td>0.000222</td>\n",
       "    </tr>\n",
       "    <tr>\n",
       "      <th>41</th>\n",
       "      <td>color</td>\n",
       "      <td>teal</td>\n",
       "      <td>0.000300</td>\n",
       "    </tr>\n",
       "    <tr>\n",
       "      <th>42</th>\n",
       "      <td>color</td>\n",
       "      <td>whites</td>\n",
       "      <td>0.000971</td>\n",
       "    </tr>\n",
       "    <tr>\n",
       "      <th>43</th>\n",
       "      <td>color</td>\n",
       "      <td>yellows</td>\n",
       "      <td>0.140090</td>\n",
       "    </tr>\n",
       "  </tbody>\n",
       "</table>\n",
       "</div>"
      ],
      "text/plain": [
       "    category               label  pred_val\n",
       "0      style         androgynous  0.757564\n",
       "1      style          athleisure  0.000088\n",
       "2      style                boho  0.012177\n",
       "3      style     business casual  0.013776\n",
       "4      style              casual  0.938546\n",
       "5      style             classic  0.647485\n",
       "6      style                edgy  0.027490\n",
       "7      style                glam  0.000896\n",
       "8      style              modern  0.344091\n",
       "9      style               retro  0.050023\n",
       "10     style            romantic  0.090074\n",
       "11  occasion         coldweather  0.006890\n",
       "12  occasion        day to night  0.995236\n",
       "13  occasion           night out  0.188290\n",
       "14  occasion            vacation  0.006803\n",
       "15  occasion             weekend  0.971282\n",
       "16  occasion                work  0.168771\n",
       "17  occasion             workout  0.000015\n",
       "18       fit   fitted / tailored  0.242648\n",
       "19       fit           oversized  0.054451\n",
       "20       fit             relaxed  0.143820\n",
       "21       fit         semi-fitted  0.242114\n",
       "22       fit  straight / regular  0.150740\n",
       "23     color              beiges  0.005616\n",
       "24     color              blacks  0.020286\n",
       "25     color               blues  0.998452\n",
       "26     color              browns  0.015838\n",
       "27     color          burgundies  0.011617\n",
       "28     color          darkbrowns  0.001950\n",
       "29     color               golds  0.000057\n",
       "30     color               grays  0.211209\n",
       "31     color              greens  0.003415\n",
       "32     color         lightbrowns  0.002289\n",
       "33     color               multi  0.010889\n",
       "34     color                navy  0.289847\n",
       "35     color            neutrals  0.000218\n",
       "36     color             oranges  0.002789\n",
       "37     color               pinks  0.000151\n",
       "38     color             purples  0.001007\n",
       "39     color                reds  0.002456\n",
       "40     color             silvers  0.000222\n",
       "41     color                teal  0.000300\n",
       "42     color              whites  0.000971\n",
       "43     color             yellows  0.140090"
      ]
     },
     "execution_count": 376,
     "metadata": {},
     "output_type": "execute_result"
    }
   ],
   "source": [
    "pred_labels"
   ]
  },
  {
   "cell_type": "code",
   "execution_count": 400,
   "metadata": {},
   "outputs": [
    {
     "data": {
      "application/vnd.jupyter.widget-view+json": {
       "model_id": "ca32dba2a79b4e4c8bbe3622a1308f29",
       "version_major": 2,
       "version_minor": 0
      },
      "text/plain": [
       "HBox(children=(FloatProgress(value=0.0, max=3.0), HTML(value='')))"
      ]
     },
     "metadata": {},
     "output_type": "display_data"
    },
    {
     "name": "stdout",
     "output_type": "stream",
     "text": [
      "The predicted labels for style is androgynous\n",
      "The predicted labels for style is casual\n",
      "The predicted labels for style is classic\n",
      "The predicted labels for occasion is day to night\n",
      "The predicted labels for occasion is weekend\n",
      "The predicted labels for color is blues\n",
      "\n"
     ]
    }
   ],
   "source": [
    "pred_label_sel = pred_labels[pred_labels['pred_val']>0.5].copy()\n",
    "\n",
    "for i in tqdm_notebook(list(pred_label_sel['category'].unique())):\n",
    "    \n",
    "    if i != 'color':\n",
    "        labels = pred_label_sel[pred_label_sel['category']==i]\n",
    "        list_labels = list(labels['label'])\n",
    "        for j in list_labels:\n",
    "            print(f'The predicted labels for {i} is {j}')\n",
    "    else:\n",
    "        labels = pred_label_sel[pred_label_sel['category']==i]\n",
    "        list_labels = list(labels['label'])\n",
    "        \n",
    "        if len(list_labels)>1:\n",
    "            print(f'The predicted labels for {i} is {j}')\n",
    "        else:\n",
    "            print(f'The predicted labels for {i} is {list_labels[0]}')"
   ]
  }
 ],
 "metadata": {
  "kernelspec": {
   "display_name": "Python 3",
   "language": "python",
   "name": "python3"
  },
  "language_info": {
   "codemirror_mode": {
    "name": "ipython",
    "version": 3
   },
   "file_extension": ".py",
   "mimetype": "text/x-python",
   "name": "python",
   "nbconvert_exporter": "python",
   "pygments_lexer": "ipython3",
   "version": "3.7.6"
  }
 },
 "nbformat": 4,
 "nbformat_minor": 4
}
